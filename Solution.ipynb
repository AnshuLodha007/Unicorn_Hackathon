{
  "cells": [
    {
      "cell_type": "code",
      "source": [
        "!git clone https://github.com/AnshuLodha007/Unicorn_Hackathon.git"
      ],
      "metadata": {
        "id": "999j0NH9KIkX",
        "outputId": "96ff12d7-f5d0-42bc-b9a1-017cf83724ae",
        "colab": {
          "base_uri": "https://localhost:8080/"
        }
      },
      "id": "999j0NH9KIkX",
      "execution_count": 1,
      "outputs": [
        {
          "output_type": "stream",
          "name": "stderr",
          "text": [
            "fatal: destination path 'Unicorn_Hackathon' already exists and is not an empty directory.\n"
          ]
        }
      ]
    },
    {
      "cell_type": "code",
      "source": [
        "import pandas as pd\n",
        "import numpy as np\n",
        "import matplotlib.pyplot as plt\n",
        "from datetime import datetime\n",
        "from pandas import Series\n",
        "%matplotlib inline\n",
        "\n",
        "from sklearn.metrics import mean_squared_error\n",
        "from math import sqrt\n",
        "from statistics import mean\n",
        "\n",
        "import warnings\n",
        "warnings.filterwarnings(\"ignore\")"
      ],
      "metadata": {
        "id": "yTE_GE7QKCDW"
      },
      "id": "yTE_GE7QKCDW",
      "execution_count": 2,
      "outputs": []
    },
    {
      "cell_type": "code",
      "source": [
        "# Reading the csv files\n",
        "\n",
        "#train = pd.read_csv('/Unicorn_Hackathon/Train.csv')\n",
        "#train = pd.read_csv('/Unicorn_Hackathon/Test.csv')\n",
        "\n",
        "train = pd.read_csv(rf'C:\\Dropbox\\GenAI\\Analytics_Vidhya\\Time_Series_Forecasting_using_Python\\Train.csv')\n",
        "test = pd.read_csv(rf'C:\\Dropbox\\GenAI\\Analytics_Vidhya\\Time_Series_Forecasting_using_Python\\Test.csv')\n",
        "train.shape, test.shape"
      ],
      "metadata": {
        "id": "0vi177kHKrOP",
        "outputId": "553ddabf-39c2-41be-d1c9-2ec2424ca383",
        "colab": {
          "base_uri": "https://localhost:8080/"
        }
      },
      "id": "0vi177kHKrOP",
      "execution_count": 7,
      "outputs": [
        {
          "output_type": "execute_result",
          "data": {
            "text/plain": [
              "((18288, 3), (5112, 2))"
            ]
          },
          "metadata": {},
          "execution_count": 7
        }
      ]
    },
    {
      "cell_type": "code",
      "source": [
        "# making copy of orignal data.\n",
        "\n",
        "train_orignal = train.copy()\n",
        "test_orignal = test.copy()"
      ],
      "metadata": {
        "id": "KcFiB92IKEYo"
      },
      "id": "KcFiB92IKEYo",
      "execution_count": 9,
      "outputs": []
    },
    {
      "cell_type": "code",
      "source": [],
      "metadata": {
        "id": "md2t6T-CNKdw"
      },
      "id": "md2t6T-CNKdw",
      "execution_count": null,
      "outputs": []
    }
  ],
  "metadata": {
    "kernelspec": {
      "display_name": "Python 3 (ipykernel)",
      "language": "python",
      "name": "python3"
    },
    "language_info": {
      "codemirror_mode": {
        "name": "ipython",
        "version": 3
      },
      "file_extension": ".py",
      "mimetype": "text/x-python",
      "name": "python",
      "nbconvert_exporter": "python",
      "pygments_lexer": "ipython3",
      "version": "3.10.4"
    },
    "colab": {
      "provenance": []
    }
  },
  "nbformat": 4,
  "nbformat_minor": 5
}