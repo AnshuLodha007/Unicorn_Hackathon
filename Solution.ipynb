{
  "cells": [
    {
      "cell_type": "code",
      "source": [
        "!git clone https://github.com/AnshuLodha007/Unicorn_Hackathon.git"
      ],
      "metadata": {
        "colab": {
          "base_uri": "https://localhost:8080/"
        },
        "id": "999j0NH9KIkX",
        "outputId": "96ff12d7-f5d0-42bc-b9a1-017cf83724ae"
      },
      "id": "999j0NH9KIkX",
      "execution_count": 1,
      "outputs": [
        {
          "output_type": "stream",
          "name": "stderr",
          "text": [
            "fatal: destination path 'Unicorn_Hackathon' already exists and is not an empty directory.\n"
          ]
        }
      ]
    },
    {
      "cell_type": "markdown",
      "source": [
        "# Importing the Data"
      ],
      "metadata": {
        "id": "T7iWw59zNcGx"
      },
      "id": "T7iWw59zNcGx"
    },
    {
      "cell_type": "code",
      "source": [
        "import pandas as pd\n",
        "import numpy as np\n",
        "import matplotlib.pyplot as plt\n",
        "from datetime import datetime\n",
        "from pandas import Series\n",
        "%matplotlib inline\n",
        "\n",
        "from sklearn.metrics import mean_squared_error\n",
        "from math import sqrt\n",
        "from statistics import mean\n",
        "\n",
        "import warnings\n",
        "warnings.filterwarnings(\"ignore\")"
      ],
      "metadata": {
        "id": "yTE_GE7QKCDW"
      },
      "id": "yTE_GE7QKCDW",
      "execution_count": 2,
      "outputs": []
    },
    {
      "cell_type": "code",
      "source": [
        "# Reading the csv files\n",
        "\n",
        "#train = pd.read_csv('/Unicorn_Hackathon/Train.csv')\n",
        "#train = pd.read_csv('/Unicorn_Hackathon/Test.csv')\n",
        "\n",
        "train = pd.read_csv(rf'C:\\Dropbox\\GenAI\\Analytics_Vidhya\\Time_Series_Forecasting_using_Python\\Train.csv')\n",
        "test = pd.read_csv(rf'C:\\Dropbox\\GenAI\\Analytics_Vidhya\\Time_Series_Forecasting_using_Python\\Test.csv')\n",
        "train.shape, test.shape"
      ],
      "metadata": {
        "colab": {
          "base_uri": "https://localhost:8080/"
        },
        "id": "0vi177kHKrOP",
        "outputId": "8633a337-45db-48ae-f0c3-c3b66be31702"
      },
      "id": "0vi177kHKrOP",
      "execution_count": 45,
      "outputs": [
        {
          "output_type": "execute_result",
          "data": {
            "text/plain": [
              "((18288, 3), (5112, 2))"
            ]
          },
          "metadata": {},
          "execution_count": 45
        }
      ]
    },
    {
      "cell_type": "code",
      "source": [
        "# making copy of orignal data.\n",
        "\n",
        "train_orignal = train.copy()\n",
        "test_orignal = test.copy()"
      ],
      "metadata": {
        "id": "KcFiB92IKEYo"
      },
      "id": "KcFiB92IKEYo",
      "execution_count": 46,
      "outputs": []
    },
    {
      "cell_type": "code",
      "source": [
        "train.columns"
      ],
      "metadata": {
        "colab": {
          "base_uri": "https://localhost:8080/"
        },
        "id": "md2t6T-CNKdw",
        "outputId": "3b164c01-c685-4ae1-eb18-22ceb6b3be73"
      },
      "id": "md2t6T-CNKdw",
      "execution_count": 47,
      "outputs": [
        {
          "output_type": "execute_result",
          "data": {
            "text/plain": [
              "Index(['ID', 'Datetime', 'Count'], dtype='object')"
            ]
          },
          "metadata": {},
          "execution_count": 47
        }
      ]
    },
    {
      "cell_type": "code",
      "source": [
        "train.dtypes"
      ],
      "metadata": {
        "id": "AtUEYMjENTYA",
        "outputId": "1121b509-0200-465e-defc-d7561262164e",
        "colab": {
          "base_uri": "https://localhost:8080/"
        }
      },
      "id": "AtUEYMjENTYA",
      "execution_count": 48,
      "outputs": [
        {
          "output_type": "execute_result",
          "data": {
            "text/plain": [
              "ID           int64\n",
              "Datetime    object\n",
              "Count        int64\n",
              "dtype: object"
            ]
          },
          "metadata": {},
          "execution_count": 48
        }
      ]
    },
    {
      "cell_type": "markdown",
      "source": [
        "# Feature Extraction"
      ],
      "metadata": {
        "id": "8ZpTFAMxNeA0"
      },
      "id": "8ZpTFAMxNeA0"
    },
    {
      "cell_type": "code",
      "source": [
        "train['Datetime'] = pd.to_datetime(train.Datetime, format = '%d-%m-%Y %H:%M')\n",
        "test['Datetime'] = pd.to_datetime(test.Datetime, format = '%d-%m-%Y %H:%M')"
      ],
      "metadata": {
        "id": "e8h6w_ScNVJP"
      },
      "id": "e8h6w_ScNVJP",
      "execution_count": 49,
      "outputs": []
    },
    {
      "cell_type": "code",
      "source": [
        "train_orignal['Datetime'] = pd.to_datetime(train.Datetime, format = '%d-%m-%Y %H:%M')\n",
        "test_orignal['Datetime'] = pd.to_datetime(test.Datetime, format = '%d-%m-%Y %H:%M')"
      ],
      "metadata": {
        "id": "saFgbBuLNwsx"
      },
      "id": "saFgbBuLNwsx",
      "execution_count": 50,
      "outputs": []
    },
    {
      "cell_type": "code",
      "source": [
        "# Extracting Year, Mont, Date, Day, Hour for each table.\n",
        "\n",
        "for i in (train, test, train_orignal, test_orignal):\n",
        "  i['year'] = i.Datetime.dt.year\n",
        "  i['month'] = i.Datetime.dt.month\n",
        "  i['day'] = i.Datetime.dt.day\n",
        "  i['Hour'] = i.Datetime.dt.hour"
      ],
      "metadata": {
        "id": "5o4MpZDyN2zI"
      },
      "id": "5o4MpZDyN2zI",
      "execution_count": 51,
      "outputs": []
    },
    {
      "cell_type": "code",
      "source": [
        "train.head()"
      ],
      "metadata": {
        "id": "1JNoaXb_OYZg",
        "outputId": "651bca67-9c89-48d4-d6da-d436b0677af5",
        "colab": {
          "base_uri": "https://localhost:8080/",
          "height": 206
        }
      },
      "id": "1JNoaXb_OYZg",
      "execution_count": 52,
      "outputs": [
        {
          "output_type": "execute_result",
          "data": {
            "text/plain": [
              "   ID            Datetime  Count  year  month  day  Hour\n",
              "0   0 2012-08-25 00:00:00      8  2012      8   25     0\n",
              "1   1 2012-08-25 01:00:00      2  2012      8   25     1\n",
              "2   2 2012-08-25 02:00:00      6  2012      8   25     2\n",
              "3   3 2012-08-25 03:00:00      2  2012      8   25     3\n",
              "4   4 2012-08-25 04:00:00      2  2012      8   25     4"
            ],
            "text/html": [
              "<div>\n",
              "<style scoped>\n",
              "    .dataframe tbody tr th:only-of-type {\n",
              "        vertical-align: middle;\n",
              "    }\n",
              "\n",
              "    .dataframe tbody tr th {\n",
              "        vertical-align: top;\n",
              "    }\n",
              "\n",
              "    .dataframe thead th {\n",
              "        text-align: right;\n",
              "    }\n",
              "</style>\n",
              "<table border=\"1\" class=\"dataframe\">\n",
              "  <thead>\n",
              "    <tr style=\"text-align: right;\">\n",
              "      <th></th>\n",
              "      <th>ID</th>\n",
              "      <th>Datetime</th>\n",
              "      <th>Count</th>\n",
              "      <th>year</th>\n",
              "      <th>month</th>\n",
              "      <th>day</th>\n",
              "      <th>Hour</th>\n",
              "    </tr>\n",
              "  </thead>\n",
              "  <tbody>\n",
              "    <tr>\n",
              "      <th>0</th>\n",
              "      <td>0</td>\n",
              "      <td>2012-08-25 00:00:00</td>\n",
              "      <td>8</td>\n",
              "      <td>2012</td>\n",
              "      <td>8</td>\n",
              "      <td>25</td>\n",
              "      <td>0</td>\n",
              "    </tr>\n",
              "    <tr>\n",
              "      <th>1</th>\n",
              "      <td>1</td>\n",
              "      <td>2012-08-25 01:00:00</td>\n",
              "      <td>2</td>\n",
              "      <td>2012</td>\n",
              "      <td>8</td>\n",
              "      <td>25</td>\n",
              "      <td>1</td>\n",
              "    </tr>\n",
              "    <tr>\n",
              "      <th>2</th>\n",
              "      <td>2</td>\n",
              "      <td>2012-08-25 02:00:00</td>\n",
              "      <td>6</td>\n",
              "      <td>2012</td>\n",
              "      <td>8</td>\n",
              "      <td>25</td>\n",
              "      <td>2</td>\n",
              "    </tr>\n",
              "    <tr>\n",
              "      <th>3</th>\n",
              "      <td>3</td>\n",
              "      <td>2012-08-25 03:00:00</td>\n",
              "      <td>2</td>\n",
              "      <td>2012</td>\n",
              "      <td>8</td>\n",
              "      <td>25</td>\n",
              "      <td>3</td>\n",
              "    </tr>\n",
              "    <tr>\n",
              "      <th>4</th>\n",
              "      <td>4</td>\n",
              "      <td>2012-08-25 04:00:00</td>\n",
              "      <td>2</td>\n",
              "      <td>2012</td>\n",
              "      <td>8</td>\n",
              "      <td>25</td>\n",
              "      <td>4</td>\n",
              "    </tr>\n",
              "  </tbody>\n",
              "</table>\n",
              "</div>"
            ]
          },
          "metadata": {},
          "execution_count": 52
        }
      ]
    },
    {
      "cell_type": "code",
      "source": [
        "# Extracting 'Day of Week' and 'Is Weekend' for train data, as we are looking forward to see variation wrt weekdays.\n",
        "\n",
        "train['day of week'] = train['Datetime'].dt.dayofweek\n",
        "train['weekend'] = train['day of week'].apply(lambda x: 1 if x in [5, 6] else 0)"
      ],
      "metadata": {
        "id": "kfU3fhRqOZvx"
      },
      "id": "kfU3fhRqOZvx",
      "execution_count": 53,
      "outputs": []
    },
    {
      "cell_type": "code",
      "source": [
        "train.head()"
      ],
      "metadata": {
        "id": "Od2FmSBoO3fr",
        "outputId": "f7f540e0-bf3b-4d56-ecff-2773ae5e96f8",
        "colab": {
          "base_uri": "https://localhost:8080/",
          "height": 206
        }
      },
      "id": "Od2FmSBoO3fr",
      "execution_count": 54,
      "outputs": [
        {
          "output_type": "execute_result",
          "data": {
            "text/plain": [
              "   ID            Datetime  Count  year  month  day  Hour  day of week  weekend\n",
              "0   0 2012-08-25 00:00:00      8  2012      8   25     0            5        1\n",
              "1   1 2012-08-25 01:00:00      2  2012      8   25     1            5        1\n",
              "2   2 2012-08-25 02:00:00      6  2012      8   25     2            5        1\n",
              "3   3 2012-08-25 03:00:00      2  2012      8   25     3            5        1\n",
              "4   4 2012-08-25 04:00:00      2  2012      8   25     4            5        1"
            ],
            "text/html": [
              "<div>\n",
              "<style scoped>\n",
              "    .dataframe tbody tr th:only-of-type {\n",
              "        vertical-align: middle;\n",
              "    }\n",
              "\n",
              "    .dataframe tbody tr th {\n",
              "        vertical-align: top;\n",
              "    }\n",
              "\n",
              "    .dataframe thead th {\n",
              "        text-align: right;\n",
              "    }\n",
              "</style>\n",
              "<table border=\"1\" class=\"dataframe\">\n",
              "  <thead>\n",
              "    <tr style=\"text-align: right;\">\n",
              "      <th></th>\n",
              "      <th>ID</th>\n",
              "      <th>Datetime</th>\n",
              "      <th>Count</th>\n",
              "      <th>year</th>\n",
              "      <th>month</th>\n",
              "      <th>day</th>\n",
              "      <th>Hour</th>\n",
              "      <th>day of week</th>\n",
              "      <th>weekend</th>\n",
              "    </tr>\n",
              "  </thead>\n",
              "  <tbody>\n",
              "    <tr>\n",
              "      <th>0</th>\n",
              "      <td>0</td>\n",
              "      <td>2012-08-25 00:00:00</td>\n",
              "      <td>8</td>\n",
              "      <td>2012</td>\n",
              "      <td>8</td>\n",
              "      <td>25</td>\n",
              "      <td>0</td>\n",
              "      <td>5</td>\n",
              "      <td>1</td>\n",
              "    </tr>\n",
              "    <tr>\n",
              "      <th>1</th>\n",
              "      <td>1</td>\n",
              "      <td>2012-08-25 01:00:00</td>\n",
              "      <td>2</td>\n",
              "      <td>2012</td>\n",
              "      <td>8</td>\n",
              "      <td>25</td>\n",
              "      <td>1</td>\n",
              "      <td>5</td>\n",
              "      <td>1</td>\n",
              "    </tr>\n",
              "    <tr>\n",
              "      <th>2</th>\n",
              "      <td>2</td>\n",
              "      <td>2012-08-25 02:00:00</td>\n",
              "      <td>6</td>\n",
              "      <td>2012</td>\n",
              "      <td>8</td>\n",
              "      <td>25</td>\n",
              "      <td>2</td>\n",
              "      <td>5</td>\n",
              "      <td>1</td>\n",
              "    </tr>\n",
              "    <tr>\n",
              "      <th>3</th>\n",
              "      <td>3</td>\n",
              "      <td>2012-08-25 03:00:00</td>\n",
              "      <td>2</td>\n",
              "      <td>2012</td>\n",
              "      <td>8</td>\n",
              "      <td>25</td>\n",
              "      <td>3</td>\n",
              "      <td>5</td>\n",
              "      <td>1</td>\n",
              "    </tr>\n",
              "    <tr>\n",
              "      <th>4</th>\n",
              "      <td>4</td>\n",
              "      <td>2012-08-25 04:00:00</td>\n",
              "      <td>2</td>\n",
              "      <td>2012</td>\n",
              "      <td>8</td>\n",
              "      <td>25</td>\n",
              "      <td>4</td>\n",
              "      <td>5</td>\n",
              "      <td>1</td>\n",
              "    </tr>\n",
              "  </tbody>\n",
              "</table>\n",
              "</div>"
            ]
          },
          "metadata": {},
          "execution_count": 54
        }
      ]
    },
    {
      "cell_type": "code",
      "source": [],
      "metadata": {
        "id": "qvi0FV7YO4bb"
      },
      "id": "qvi0FV7YO4bb",
      "execution_count": 54,
      "outputs": []
    },
    {
      "cell_type": "markdown",
      "source": [
        "## Since its a time series based prediction, we try and check our various hypothesis now"
      ],
      "metadata": {
        "id": "p2wK4lfsP1-y"
      },
      "id": "p2wK4lfsP1-y"
    },
    {
      "cell_type": "markdown",
      "source": [
        "### Passenger count wrt date - generic plot"
      ],
      "metadata": {
        "id": "nF1HpvRiP8Bn"
      },
      "id": "nF1HpvRiP8Bn"
    },
    {
      "cell_type": "code",
      "source": [
        "df = train.drop('ID', 1)\n",
        "df.head()"
      ],
      "metadata": {
        "id": "oEeSpIVsPcya",
        "outputId": "2e124eb0-119e-41fc-ecd8-6a8f93d7323f",
        "colab": {
          "base_uri": "https://localhost:8080/",
          "height": 206
        }
      },
      "id": "oEeSpIVsPcya",
      "execution_count": 55,
      "outputs": [
        {
          "output_type": "execute_result",
          "data": {
            "text/plain": [
              "             Datetime  Count  year  month  day  Hour  day of week  weekend\n",
              "0 2012-08-25 00:00:00      8  2012      8   25     0            5        1\n",
              "1 2012-08-25 01:00:00      2  2012      8   25     1            5        1\n",
              "2 2012-08-25 02:00:00      6  2012      8   25     2            5        1\n",
              "3 2012-08-25 03:00:00      2  2012      8   25     3            5        1\n",
              "4 2012-08-25 04:00:00      2  2012      8   25     4            5        1"
            ],
            "text/html": [
              "<div>\n",
              "<style scoped>\n",
              "    .dataframe tbody tr th:only-of-type {\n",
              "        vertical-align: middle;\n",
              "    }\n",
              "\n",
              "    .dataframe tbody tr th {\n",
              "        vertical-align: top;\n",
              "    }\n",
              "\n",
              "    .dataframe thead th {\n",
              "        text-align: right;\n",
              "    }\n",
              "</style>\n",
              "<table border=\"1\" class=\"dataframe\">\n",
              "  <thead>\n",
              "    <tr style=\"text-align: right;\">\n",
              "      <th></th>\n",
              "      <th>Datetime</th>\n",
              "      <th>Count</th>\n",
              "      <th>year</th>\n",
              "      <th>month</th>\n",
              "      <th>day</th>\n",
              "      <th>Hour</th>\n",
              "      <th>day of week</th>\n",
              "      <th>weekend</th>\n",
              "    </tr>\n",
              "  </thead>\n",
              "  <tbody>\n",
              "    <tr>\n",
              "      <th>0</th>\n",
              "      <td>2012-08-25 00:00:00</td>\n",
              "      <td>8</td>\n",
              "      <td>2012</td>\n",
              "      <td>8</td>\n",
              "      <td>25</td>\n",
              "      <td>0</td>\n",
              "      <td>5</td>\n",
              "      <td>1</td>\n",
              "    </tr>\n",
              "    <tr>\n",
              "      <th>1</th>\n",
              "      <td>2012-08-25 01:00:00</td>\n",
              "      <td>2</td>\n",
              "      <td>2012</td>\n",
              "      <td>8</td>\n",
              "      <td>25</td>\n",
              "      <td>1</td>\n",
              "      <td>5</td>\n",
              "      <td>1</td>\n",
              "    </tr>\n",
              "    <tr>\n",
              "      <th>2</th>\n",
              "      <td>2012-08-25 02:00:00</td>\n",
              "      <td>6</td>\n",
              "      <td>2012</td>\n",
              "      <td>8</td>\n",
              "      <td>25</td>\n",
              "      <td>2</td>\n",
              "      <td>5</td>\n",
              "      <td>1</td>\n",
              "    </tr>\n",
              "    <tr>\n",
              "      <th>3</th>\n",
              "      <td>2012-08-25 03:00:00</td>\n",
              "      <td>2</td>\n",
              "      <td>2012</td>\n",
              "      <td>8</td>\n",
              "      <td>25</td>\n",
              "      <td>3</td>\n",
              "      <td>5</td>\n",
              "      <td>1</td>\n",
              "    </tr>\n",
              "    <tr>\n",
              "      <th>4</th>\n",
              "      <td>2012-08-25 04:00:00</td>\n",
              "      <td>2</td>\n",
              "      <td>2012</td>\n",
              "      <td>8</td>\n",
              "      <td>25</td>\n",
              "      <td>4</td>\n",
              "      <td>5</td>\n",
              "      <td>1</td>\n",
              "    </tr>\n",
              "  </tbody>\n",
              "</table>\n",
              "</div>"
            ]
          },
          "metadata": {},
          "execution_count": 55
        }
      ]
    },
    {
      "cell_type": "code",
      "source": [
        "plt.figure(figsize = (16,8))\n",
        "plt.plot(df['Count'], label = 'Passenger Count')\n",
        "plt.title('Time Series wrt Date')\n",
        "plt.xlabel('Time(year-month)')\n",
        "plt.ylabel('Passenger Count')\n",
        "plt.legend(loc = 'best')"
      ],
      "metadata": {
        "id": "oy7qvDgBPg_q",
        "outputId": "3955b1d5-08b3-4eb8-ca41-c656450a053c",
        "colab": {
          "base_uri": "https://localhost:8080/",
          "height": 468
        }
      },
      "id": "oy7qvDgBPg_q",
      "execution_count": 56,
      "outputs": [
        {
          "output_type": "execute_result",
          "data": {
            "text/plain": [
              "<matplotlib.legend.Legend at 0x1b97ba85070>"
            ]
          },
          "metadata": {},
          "execution_count": 56
        },
        {
          "output_type": "display_data",
          "data": {
            "text/plain": [
              "<Figure size 1152x576 with 1 Axes>"
            ],
            "image/png": "[encoded data removed]"
          },
          "metadata": {
            "needs_background": "light"
          }
        }
      ]
    },
    {
      "cell_type": "code",
      "source": [],
      "metadata": {
        "id": "8rJlwoc1QX8N"
      },
      "id": "8rJlwoc1QX8N",
      "execution_count": null,
      "outputs": []
    },
    {
      "cell_type": "markdown",
      "source": [
        "### Hypothesis 1: Inc with years"
      ],
      "metadata": {
        "id": "HFswG1VGRETh"
      },
      "id": "HFswG1VGRETh"
    },
    {
      "cell_type": "code",
      "source": [
        "train.groupby('year')['Count'].mean().plot.bar()"
      ],
      "metadata": {
        "id": "-JIef8ULRLrk",
        "outputId": "b804d6ec-0142-4feb-b076-94daa498c6b5",
        "colab": {
          "base_uri": "https://localhost:8080/",
          "height": 0
        }
      },
      "id": "-JIef8ULRLrk",
      "execution_count": 57,
      "outputs": [
        {
          "output_type": "execute_result",
          "data": {
            "text/plain": [
              "<AxesSubplot:xlabel='year'>"
            ]
          },
          "metadata": {},
          "execution_count": 57
        },
        {
          "output_type": "display_data",
          "data": {
            "text/plain": [
              "<Figure size 432x288 with 1 Axes>"
            ],
            "image/png": "[encoded data removed]"
          },
          "metadata": {
            "needs_background": "light"
          }
        }
      ]
    },
    {
      "cell_type": "markdown",
      "source": [
        "Exponential Growth Observed"
      ],
      "metadata": {
        "id": "s4Qh_YKORxrx"
      },
      "id": "s4Qh_YKORxrx"
    },
    {
      "cell_type": "code",
      "source": [],
      "metadata": {
        "id": "ciqm4VknRYIm"
      },
      "id": "ciqm4VknRYIm",
      "execution_count": 57,
      "outputs": []
    },
    {
      "cell_type": "markdown",
      "source": [
        "### Hypothesis 2: Traffic Inc in May to Oct.\n",
        "\n"
      ],
      "metadata": {
        "id": "TNn9085BRv9t"
      },
      "id": "TNn9085BRv9t"
    },
    {
      "cell_type": "code",
      "source": [
        "train.groupby('month')['Count'].mean().plot.bar()"
      ],
      "metadata": {
        "id": "Xcezb4mYR7Q-",
        "outputId": "7541c3c8-b68a-4b91-d664-52f708b5b599",
        "colab": {
          "base_uri": "https://localhost:8080/",
          "height": 299
        }
      },
      "id": "Xcezb4mYR7Q-",
      "execution_count": 58,
      "outputs": [
        {
          "output_type": "execute_result",
          "data": {
            "text/plain": [
              "<AxesSubplot:xlabel='month'>"
            ]
          },
          "metadata": {},
          "execution_count": 58
        },
        {
          "output_type": "display_data",
          "data": {
            "text/plain": [
              "<Figure size 432x288 with 1 Axes>"
            ],
            "image/png": "[encoded data removed]"
          },
          "metadata": {
            "needs_background": "light"
          }
        }
      ]
    },
    {
      "cell_type": "markdown",
      "source": [
        "InAccurate Hypothesis: Getting more in depth analysis"
      ],
      "metadata": {
        "id": "-sdQXpYySakU"
      },
      "id": "-sdQXpYySakU"
    },
    {
      "cell_type": "code",
      "source": [
        "tmp = train.groupby(['year', 'month'])['Count'].mean()\n",
        "tmp.plot(figsize = (15,5), title = 'Passenger Count(Monthwise)', fontsize = 14)"
      ],
      "metadata": {
        "id": "laCGl1lgSCBP",
        "outputId": "645d6596-2a86-4e37-dfec-2a559e87486c",
        "colab": {
          "base_uri": "https://localhost:8080/",
          "height": 352
        }
      },
      "id": "laCGl1lgSCBP",
      "execution_count": 59,
      "outputs": [
        {
          "output_type": "execute_result",
          "data": {
            "text/plain": [
              "<AxesSubplot:title={'center':'Passenger Count(Monthwise)'}, xlabel='year,month'>"
            ]
          },
          "metadata": {},
          "execution_count": 59
        },
        {
          "output_type": "display_data",
          "data": {
            "text/plain": [
              "<Figure size 1080x360 with 1 Axes>"
            ],
            "image/png": "[encoded data removed]"
          },
          "metadata": {
            "needs_background": "light"
          }
        }
      ]
    },
    {
      "cell_type": "code",
      "source": [
        "train.groupby(['year', 'month'])['Count'].mean().plot.bar(figsize = (15,5))"
      ],
      "metadata": {
        "id": "cmjAygXoS2so",
        "outputId": "5a4d4c9b-6609-48bf-a0bc-aecb38c3a7dc",
        "colab": {
          "base_uri": "https://localhost:8080/",
          "height": 376
        }
      },
      "id": "cmjAygXoS2so",
      "execution_count": 60,
      "outputs": [
        {
          "output_type": "execute_result",
          "data": {
            "text/plain": [
              "<AxesSubplot:xlabel='year,month'>"
            ]
          },
          "metadata": {},
          "execution_count": 60
        },
        {
          "output_type": "display_data",
          "data": {
            "text/plain": [
              "<Figure size 1080x360 with 1 Axes>"
            ],
            "image/png": "[encoded data removed]"
          },
          "metadata": {
            "needs_background": "light"
          }
        }
      ]
    },
    {
      "cell_type": "markdown",
      "source": [
        "Passengers are increaing exponentiall wrt months as well as years"
      ],
      "metadata": {
        "id": "GBGM4nW3TZ6Q"
      },
      "id": "GBGM4nW3TZ6Q"
    },
    {
      "cell_type": "code",
      "source": [],
      "metadata": {
        "id": "yEYJfi-cS7sA"
      },
      "id": "yEYJfi-cS7sA",
      "execution_count": 60,
      "outputs": []
    },
    {
      "cell_type": "markdown",
      "source": [
        "### Hypothesis 3: Trend of traffic due day of week"
      ],
      "metadata": {
        "id": "qDIqY3METjNP"
      },
      "id": "qDIqY3METjNP"
    },
    {
      "cell_type": "code",
      "source": [
        "train.groupby('day')['Count'].mean().plot.bar(figsize = (10,10), title = 'Date based passenger trends')"
      ],
      "metadata": {
        "id": "qKTD-anvTqpj",
        "outputId": "acb75f2e-bd65-4a97-8616-ecd6eba0521c",
        "colab": {
          "base_uri": "https://localhost:8080/",
          "height": 641
        }
      },
      "id": "qKTD-anvTqpj",
      "execution_count": 65,
      "outputs": [
        {
          "output_type": "execute_result",
          "data": {
            "text/plain": [
              "<AxesSubplot:title={'center':'Date based passenger trends'}, xlabel='day'>"
            ]
          },
          "metadata": {},
          "execution_count": 65
        },
        {
          "output_type": "display_data",
          "data": {
            "text/plain": [
              "<Figure size 720x720 with 1 Axes>"
            ],
            "image/png": "[encoded data removed]"
          },
          "metadata": {
            "needs_background": "light"
          }
        }
      ]
    },
    {
      "cell_type": "markdown",
      "source": [
        "Not much insightful"
      ],
      "metadata": {
        "id": "ODO7UuW7Wp9H"
      },
      "id": "ODO7UuW7Wp9H"
    },
    {
      "cell_type": "code",
      "source": [],
      "metadata": {
        "id": "UE8QdGSIUEoj"
      },
      "id": "UE8QdGSIUEoj",
      "execution_count": null,
      "outputs": []
    },
    {
      "cell_type": "markdown",
      "source": [
        "### Hypothesis 4: Hourly Traffic Analysis"
      ],
      "metadata": {
        "id": "sqwN9w55Wtgd"
      },
      "id": "sqwN9w55Wtgd"
    },
    {
      "cell_type": "code",
      "source": [
        "train.groupby('Hour')['Count'].mean().plot.bar(figsize = (10,10), title = 'Hourly passenger trends')"
      ],
      "metadata": {
        "id": "KDMm38o7WwTj",
        "outputId": "e1316a5f-a79c-48db-91e7-dceffcdaadbf",
        "colab": {
          "base_uri": "https://localhost:8080/",
          "height": 641
        }
      },
      "id": "KDMm38o7WwTj",
      "execution_count": 66,
      "outputs": [
        {
          "output_type": "execute_result",
          "data": {
            "text/plain": [
              "<AxesSubplot:title={'center':'Hourly passenger trends'}, xlabel='Hour'>"
            ]
          },
          "metadata": {},
          "execution_count": 66
        },
        {
          "output_type": "display_data",
          "data": {
            "text/plain": [
              "<Figure size 720x720 with 1 Axes>"
            ],
            "image/png": "[encoded data removed]"
          },
          "metadata": {
            "needs_background": "light"
          }
        }
      ]
    },
    {
      "cell_type": "markdown",
      "source": [
        "We can see passengers are less during the early hours of the day.\n",
        "\n",
        "\n",
        "There are peaks at 10 AM and 7 PM relating to the office hours."
      ],
      "metadata": {
        "id": "kRKPeB_wW4vF"
      },
      "id": "kRKPeB_wW4vF"
    },
    {
      "cell_type": "code",
      "source": [],
      "metadata": {
        "id": "2zfklF_KW2Kl"
      },
      "id": "2zfklF_KW2Kl",
      "execution_count": null,
      "outputs": []
    },
    {
      "cell_type": "markdown",
      "source": [
        "### Hypothesis 5: Weekday > Weekend"
      ],
      "metadata": {
        "id": "88M2Bd3pXMk6"
      },
      "id": "88M2Bd3pXMk6"
    },
    {
      "cell_type": "code",
      "source": [
        "train.groupby('weekend')['Count'].mean().plot.bar(figsize = (10,10), title = 'Weekend passenger trends')"
      ],
      "metadata": {
        "id": "_239Z2SDXSI2",
        "outputId": "675a32d6-d022-4b60-df4d-c88bdc9d9935",
        "colab": {
          "base_uri": "https://localhost:8080/",
          "height": 635
        }
      },
      "id": "_239Z2SDXSI2",
      "execution_count": 68,
      "outputs": [
        {
          "output_type": "execute_result",
          "data": {
            "text/plain": [
              "<AxesSubplot:title={'center':'Weekend passenger trends'}, xlabel='weekend'>"
            ]
          },
          "metadata": {},
          "execution_count": 68
        },
        {
          "output_type": "display_data",
          "data": {
            "text/plain": [
              "<Figure size 720x720 with 1 Axes>"
            ],
            "image/png": "[encoded data removed]"
          },
          "metadata": {
            "needs_background": "light"
          }
        }
      ]
    },
    {
      "cell_type": "markdown",
      "source": [
        "Hypothesis stands Corrected"
      ],
      "metadata": {
        "id": "0wvCLTd6XW6Z"
      },
      "id": "0wvCLTd6XW6Z"
    },
    {
      "cell_type": "code",
      "source": [
        "train.groupby('weekend')['Count'].mean().plot.bar(figsize = (10,10), title = 'Hourly passenger trends')"
      ],
      "metadata": {
        "id": "4AMNzlwBXVkt"
      },
      "id": "4AMNzlwBXVkt",
      "execution_count": null,
      "outputs": []
    },
    {
      "cell_type": "markdown",
      "source": [
        "### Hypothesis 6: Day of week wise traffic."
      ],
      "metadata": {
        "id": "L0rC4dXwXfxs"
      },
      "id": "L0rC4dXwXfxs"
    },
    {
      "cell_type": "code",
      "source": [
        "train.groupby('day of week')['Count'].mean().plot.bar(figsize = (10,10), title = 'Weekday passenger trends')"
      ],
      "metadata": {
        "id": "nAKCdKAsXkep",
        "outputId": "5f1be704-085a-4052-d69a-c2b0c0541d4c",
        "colab": {
          "base_uri": "https://localhost:8080/",
          "height": 635
        }
      },
      "id": "nAKCdKAsXkep",
      "execution_count": 71,
      "outputs": [
        {
          "output_type": "execute_result",
          "data": {
            "text/plain": [
              "<AxesSubplot:title={'center':'Weekday passenger trends'}, xlabel='day of week'>"
            ]
          },
          "metadata": {},
          "execution_count": 71
        },
        {
          "output_type": "display_data",
          "data": {
            "text/plain": [
              "<Figure size 720x720 with 1 Axes>"
            ],
            "image/png": "[encoded data removed]"
          },
          "metadata": {
            "needs_background": "light"
          }
        }
      ]
    },
    {
      "cell_type": "markdown",
      "source": [
        "Weekends see lesser traffic"
      ],
      "metadata": {
        "id": "7D17vOnOXyIf"
      },
      "id": "7D17vOnOXyIf"
    },
    {
      "cell_type": "markdown",
      "source": [
        "### Counclusion\n",
        "\n",
        "1. Exponential incerease with years.\n",
        "2. More traffic during weekdays then weekend.\n",
        "3. More traffic in 10 AM to 7 PM bracket of the day."
      ],
      "metadata": {
        "id": "1oBu9DnOXaOo"
      },
      "id": "1oBu9DnOXaOo"
    },
    {
      "cell_type": "code",
      "source": [],
      "metadata": {
        "id": "MymtBPuuXbJG"
      },
      "id": "MymtBPuuXbJG",
      "execution_count": null,
      "outputs": []
    },
    {
      "cell_type": "markdown",
      "source": [
        "# Data Modelling or EDA"
      ],
      "metadata": {
        "id": "AS_Fc933YOv8"
      },
      "id": "AS_Fc933YOv8"
    },
    {
      "cell_type": "code",
      "source": [
        "train = train.drop('ID', 1)"
      ],
      "metadata": {
        "id": "vUXQfMOGYQsp"
      },
      "id": "vUXQfMOGYQsp",
      "execution_count": 72,
      "outputs": []
    },
    {
      "cell_type": "code",
      "source": [
        "train.Timestamp  = pd.to_datetime(train.Datetime, format = '%d-%m-%Y %H:%M')\n",
        "train.head()"
      ],
      "metadata": {
        "id": "Hg22gZq_Y0Ci",
        "outputId": "3286a7e9-7cb1-4624-bdcb-18bbe008ec83",
        "colab": {
          "base_uri": "https://localhost:8080/",
          "height": 206
        }
      },
      "id": "Hg22gZq_Y0Ci",
      "execution_count": 74,
      "outputs": [
        {
          "output_type": "execute_result",
          "data": {
            "text/plain": [
              "             Datetime  Count  year  month  day  Hour  day of week  weekend\n",
              "0 2012-08-25 00:00:00      8  2012      8   25     0            5        1\n",
              "1 2012-08-25 01:00:00      2  2012      8   25     1            5        1\n",
              "2 2012-08-25 02:00:00      6  2012      8   25     2            5        1\n",
              "3 2012-08-25 03:00:00      2  2012      8   25     3            5        1\n",
              "4 2012-08-25 04:00:00      2  2012      8   25     4            5        1"
            ],
            "text/html": [
              "<div>\n",
              "<style scoped>\n",
              "    .dataframe tbody tr th:only-of-type {\n",
              "        vertical-align: middle;\n",
              "    }\n",
              "\n",
              "    .dataframe tbody tr th {\n",
              "        vertical-align: top;\n",
              "    }\n",
              "\n",
              "    .dataframe thead th {\n",
              "        text-align: right;\n",
              "    }\n",
              "</style>\n",
              "<table border=\"1\" class=\"dataframe\">\n",
              "  <thead>\n",
              "    <tr style=\"text-align: right;\">\n",
              "      <th></th>\n",
              "      <th>Datetime</th>\n",
              "      <th>Count</th>\n",
              "      <th>year</th>\n",
              "      <th>month</th>\n",
              "      <th>day</th>\n",
              "      <th>Hour</th>\n",
              "      <th>day of week</th>\n",
              "      <th>weekend</th>\n",
              "    </tr>\n",
              "  </thead>\n",
              "  <tbody>\n",
              "    <tr>\n",
              "      <th>0</th>\n",
              "      <td>2012-08-25 00:00:00</td>\n",
              "      <td>8</td>\n",
              "      <td>2012</td>\n",
              "      <td>8</td>\n",
              "      <td>25</td>\n",
              "      <td>0</td>\n",
              "      <td>5</td>\n",
              "      <td>1</td>\n",
              "    </tr>\n",
              "    <tr>\n",
              "      <th>1</th>\n",
              "      <td>2012-08-25 01:00:00</td>\n",
              "      <td>2</td>\n",
              "      <td>2012</td>\n",
              "      <td>8</td>\n",
              "      <td>25</td>\n",
              "      <td>1</td>\n",
              "      <td>5</td>\n",
              "      <td>1</td>\n",
              "    </tr>\n",
              "    <tr>\n",
              "      <th>2</th>\n",
              "      <td>2012-08-25 02:00:00</td>\n",
              "      <td>6</td>\n",
              "      <td>2012</td>\n",
              "      <td>8</td>\n",
              "      <td>25</td>\n",
              "      <td>2</td>\n",
              "      <td>5</td>\n",
              "      <td>1</td>\n",
              "    </tr>\n",
              "    <tr>\n",
              "      <th>3</th>\n",
              "      <td>2012-08-25 03:00:00</td>\n",
              "      <td>2</td>\n",
              "      <td>2012</td>\n",
              "      <td>8</td>\n",
              "      <td>25</td>\n",
              "      <td>3</td>\n",
              "      <td>5</td>\n",
              "      <td>1</td>\n",
              "    </tr>\n",
              "    <tr>\n",
              "      <th>4</th>\n",
              "      <td>2012-08-25 04:00:00</td>\n",
              "      <td>2</td>\n",
              "      <td>2012</td>\n",
              "      <td>8</td>\n",
              "      <td>25</td>\n",
              "      <td>4</td>\n",
              "      <td>5</td>\n",
              "      <td>1</td>\n",
              "    </tr>\n",
              "  </tbody>\n",
              "</table>\n",
              "</div>"
            ]
          },
          "metadata": {},
          "execution_count": 74
        }
      ]
    },
    {
      "cell_type": "code",
      "source": [
        "train.index = train.Timestamp"
      ],
      "metadata": {
        "id": "Pdfc1iouZBiL"
      },
      "id": "Pdfc1iouZBiL",
      "execution_count": 75,
      "outputs": []
    },
    {
      "cell_type": "code",
      "source": [
        "train.head()"
      ],
      "metadata": {
        "id": "5FDokxekZJuF",
        "outputId": "721d504b-66f3-4123-f0e3-2f3f656e7f4a",
        "colab": {
          "base_uri": "https://localhost:8080/",
          "height": 238
        }
      },
      "id": "5FDokxekZJuF",
      "execution_count": 76,
      "outputs": [
        {
          "output_type": "execute_result",
          "data": {
            "text/plain": [
              "                               Datetime  Count  year  month  day  Hour  \\\n",
              "Datetime                                                                 \n",
              "2012-08-25 00:00:00 2012-08-25 00:00:00      8  2012      8   25     0   \n",
              "2012-08-25 01:00:00 2012-08-25 01:00:00      2  2012      8   25     1   \n",
              "2012-08-25 02:00:00 2012-08-25 02:00:00      6  2012      8   25     2   \n",
              "2012-08-25 03:00:00 2012-08-25 03:00:00      2  2012      8   25     3   \n",
              "2012-08-25 04:00:00 2012-08-25 04:00:00      2  2012      8   25     4   \n",
              "\n",
              "                     day of week  weekend  \n",
              "Datetime                                   \n",
              "2012-08-25 00:00:00            5        1  \n",
              "2012-08-25 01:00:00            5        1  \n",
              "2012-08-25 02:00:00            5        1  \n",
              "2012-08-25 03:00:00            5        1  \n",
              "2012-08-25 04:00:00            5        1  "
            ],
            "text/html": [
              "<div>\n",
              "<style scoped>\n",
              "    .dataframe tbody tr th:only-of-type {\n",
              "        vertical-align: middle;\n",
              "    }\n",
              "\n",
              "    .dataframe tbody tr th {\n",
              "        vertical-align: top;\n",
              "    }\n",
              "\n",
              "    .dataframe thead th {\n",
              "        text-align: right;\n",
              "    }\n",
              "</style>\n",
              "<table border=\"1\" class=\"dataframe\">\n",
              "  <thead>\n",
              "    <tr style=\"text-align: right;\">\n",
              "      <th></th>\n",
              "      <th>Datetime</th>\n",
              "      <th>Count</th>\n",
              "      <th>year</th>\n",
              "      <th>month</th>\n",
              "      <th>day</th>\n",
              "      <th>Hour</th>\n",
              "      <th>day of week</th>\n",
              "      <th>weekend</th>\n",
              "    </tr>\n",
              "    <tr>\n",
              "      <th>Datetime</th>\n",
              "      <th></th>\n",
              "      <th></th>\n",
              "      <th></th>\n",
              "      <th></th>\n",
              "      <th></th>\n",
              "      <th></th>\n",
              "      <th></th>\n",
              "      <th></th>\n",
              "    </tr>\n",
              "  </thead>\n",
              "  <tbody>\n",
              "    <tr>\n",
              "      <th>2012-08-25 00:00:00</th>\n",
              "      <td>2012-08-25 00:00:00</td>\n",
              "      <td>8</td>\n",
              "      <td>2012</td>\n",
              "      <td>8</td>\n",
              "      <td>25</td>\n",
              "      <td>0</td>\n",
              "      <td>5</td>\n",
              "      <td>1</td>\n",
              "    </tr>\n",
              "    <tr>\n",
              "      <th>2012-08-25 01:00:00</th>\n",
              "      <td>2012-08-25 01:00:00</td>\n",
              "      <td>2</td>\n",
              "      <td>2012</td>\n",
              "      <td>8</td>\n",
              "      <td>25</td>\n",
              "      <td>1</td>\n",
              "      <td>5</td>\n",
              "      <td>1</td>\n",
              "    </tr>\n",
              "    <tr>\n",
              "      <th>2012-08-25 02:00:00</th>\n",
              "      <td>2012-08-25 02:00:00</td>\n",
              "      <td>6</td>\n",
              "      <td>2012</td>\n",
              "      <td>8</td>\n",
              "      <td>25</td>\n",
              "      <td>2</td>\n",
              "      <td>5</td>\n",
              "      <td>1</td>\n",
              "    </tr>\n",
              "    <tr>\n",
              "      <th>2012-08-25 03:00:00</th>\n",
              "      <td>2012-08-25 03:00:00</td>\n",
              "      <td>2</td>\n",
              "      <td>2012</td>\n",
              "      <td>8</td>\n",
              "      <td>25</td>\n",
              "      <td>3</td>\n",
              "      <td>5</td>\n",
              "      <td>1</td>\n",
              "    </tr>\n",
              "    <tr>\n",
              "      <th>2012-08-25 04:00:00</th>\n",
              "      <td>2012-08-25 04:00:00</td>\n",
              "      <td>2</td>\n",
              "      <td>2012</td>\n",
              "      <td>8</td>\n",
              "      <td>25</td>\n",
              "      <td>4</td>\n",
              "      <td>5</td>\n",
              "      <td>1</td>\n",
              "    </tr>\n",
              "  </tbody>\n",
              "</table>\n",
              "</div>"
            ]
          },
          "metadata": {},
          "execution_count": 76
        }
      ]
    },
    {
      "cell_type": "markdown",
      "source": [
        "Data is provided on hourly basis, but lets make it uniform just to be sure."
      ],
      "metadata": {
        "id": "UEbW3QQYbD2O"
      },
      "id": "UEbW3QQYbD2O"
    },
    {
      "cell_type": "code",
      "source": [
        "# Making Hourly time Series.\n",
        "hourly = train.resample('H').mean()\n",
        "hourly.shape"
      ],
      "metadata": {
        "id": "Jqg87pq5ZKpk",
        "outputId": "2c42417f-0bc9-4ca8-97c6-d67079307ae1",
        "colab": {
          "base_uri": "https://localhost:8080/"
        }
      },
      "id": "Jqg87pq5ZKpk",
      "execution_count": 97,
      "outputs": [
        {
          "output_type": "execute_result",
          "data": {
            "text/plain": [
              "(18288, 7)"
            ]
          },
          "metadata": {},
          "execution_count": 97
        }
      ]
    },
    {
      "cell_type": "code",
      "source": [
        "# Making daily time Series. - This will resample all the data on day level, i.e hours will become avg.\n",
        "daily = train.resample('D').mean()\n",
        "daily.shape"
      ],
      "metadata": {
        "id": "KbJDhWpBZafN",
        "outputId": "b51ae7d0-95b0-4a0b-aeb6-1d23cb6a847e",
        "colab": {
          "base_uri": "https://localhost:8080/"
        }
      },
      "id": "KbJDhWpBZafN",
      "execution_count": 98,
      "outputs": [
        {
          "output_type": "execute_result",
          "data": {
            "text/plain": [
              "(762, 7)"
            ]
          },
          "metadata": {},
          "execution_count": 98
        }
      ]
    },
    {
      "cell_type": "code",
      "source": [
        "# Making Weekly time Series.\n",
        "weekly = train.resample('W').mean()\n",
        "weekly.shape"
      ],
      "metadata": {
        "id": "-GGeiXq0Zykm",
        "outputId": "1dc5473d-b871-4afb-b63f-7b400c4a0a48",
        "colab": {
          "base_uri": "https://localhost:8080/"
        }
      },
      "id": "-GGeiXq0Zykm",
      "execution_count": 100,
      "outputs": [
        {
          "output_type": "execute_result",
          "data": {
            "text/plain": [
              "(110, 7)"
            ]
          },
          "metadata": {},
          "execution_count": 100
        }
      ]
    },
    {
      "cell_type": "code",
      "source": [
        "# Making Monthly time Series.\n",
        "monthly = train.resample('M').mean()\n",
        "monthly.shape"
      ],
      "metadata": {
        "id": "NbctDnsGbYpD",
        "outputId": "5d9b80f8-52d4-44bf-b625-916fa0fccb3d",
        "colab": {
          "base_uri": "https://localhost:8080/"
        }
      },
      "id": "NbctDnsGbYpD",
      "execution_count": 101,
      "outputs": [
        {
          "output_type": "execute_result",
          "data": {
            "text/plain": [
              "(26, 7)"
            ]
          },
          "metadata": {},
          "execution_count": 101
        }
      ]
    },
    {
      "cell_type": "code",
      "source": [
        "# Plotting Hourly, daily, weekly, monthly plots\n",
        "\n",
        "fig, axs = plt.subplots(4,1)\n",
        "hourly.Count.plot(figsize= (15,6), title = 'Hourly', fontsize = 14, ax= axs[0])\n",
        "daily.Count.plot(figsize= (15,6), title = 'Daily', fontsize = 14, ax= axs[1])\n",
        "weekly.Count.plot(figsize= (15,6), title = 'Weekly', fontsize = 14, ax= axs[2])\n",
        "monthly.Count.plot(figsize= (15,6), title = 'Monthly', fontsize = 14, ax= axs[3])"
      ],
      "metadata": {
        "id": "-w0qfwhGbhlF",
        "outputId": "02e2dcf8-59a3-4a7c-eb33-6240498f598d",
        "colab": {
          "base_uri": "https://localhost:8080/",
          "height": 414
        }
      },
      "id": "-w0qfwhGbhlF",
      "execution_count": 113,
      "outputs": [
        {
          "output_type": "execute_result",
          "data": {
            "text/plain": [
              "<AxesSubplot:title={'center':'Monthly'}, xlabel='Datetime'>"
            ]
          },
          "metadata": {},
          "execution_count": 113
        },
        {
          "output_type": "display_data",
          "data": {
            "text/plain": [
              "<Figure size 1080x432 with 4 Axes>"
            ],
            "image/png": "[encoded data removed]"
          },
          "metadata": {
            "needs_background": "light"
          }
        }
      ]
    },
    {
      "cell_type": "code",
      "source": [],
      "metadata": {
        "id": "hDxtvDLEb_mO"
      },
      "id": "hDxtvDLEb_mO",
      "execution_count": null,
      "outputs": []
    },
    {
      "cell_type": "markdown",
      "source": [
        "It will become hectic to convert monthly predictions to hourly, so we will work with day level aggragated series"
      ],
      "metadata": {
        "id": "-n8ZmwYhdCU0"
      },
      "id": "-n8ZmwYhdCU0"
    },
    {
      "cell_type": "code",
      "source": [
        "test_orignal.head()"
      ],
      "metadata": {
        "id": "WMfc7rd7dwIX",
        "outputId": "6b5fdaf5-7cb0-4bfe-d197-45e9836c73c5",
        "colab": {
          "base_uri": "https://localhost:8080/",
          "height": 206
        }
      },
      "id": "WMfc7rd7dwIX",
      "execution_count": 121,
      "outputs": [
        {
          "output_type": "execute_result",
          "data": {
            "text/plain": [
              "      ID            Datetime  year  month  day  Hour\n",
              "0  18288 2014-09-26 00:00:00  2014      9   26     0\n",
              "1  18289 2014-09-26 01:00:00  2014      9   26     1\n",
              "2  18290 2014-09-26 02:00:00  2014      9   26     2\n",
              "3  18291 2014-09-26 03:00:00  2014      9   26     3\n",
              "4  18292 2014-09-26 04:00:00  2014      9   26     4"
            ],
            "text/html": [
              "<div>\n",
              "<style scoped>\n",
              "    .dataframe tbody tr th:only-of-type {\n",
              "        vertical-align: middle;\n",
              "    }\n",
              "\n",
              "    .dataframe tbody tr th {\n",
              "        vertical-align: top;\n",
              "    }\n",
              "\n",
              "    .dataframe thead th {\n",
              "        text-align: right;\n",
              "    }\n",
              "</style>\n",
              "<table border=\"1\" class=\"dataframe\">\n",
              "  <thead>\n",
              "    <tr style=\"text-align: right;\">\n",
              "      <th></th>\n",
              "      <th>ID</th>\n",
              "      <th>Datetime</th>\n",
              "      <th>year</th>\n",
              "      <th>month</th>\n",
              "      <th>day</th>\n",
              "      <th>Hour</th>\n",
              "    </tr>\n",
              "  </thead>\n",
              "  <tbody>\n",
              "    <tr>\n",
              "      <th>0</th>\n",
              "      <td>18288</td>\n",
              "      <td>2014-09-26 00:00:00</td>\n",
              "      <td>2014</td>\n",
              "      <td>9</td>\n",
              "      <td>26</td>\n",
              "      <td>0</td>\n",
              "    </tr>\n",
              "    <tr>\n",
              "      <th>1</th>\n",
              "      <td>18289</td>\n",
              "      <td>2014-09-26 01:00:00</td>\n",
              "      <td>2014</td>\n",
              "      <td>9</td>\n",
              "      <td>26</td>\n",
              "      <td>1</td>\n",
              "    </tr>\n",
              "    <tr>\n",
              "      <th>2</th>\n",
              "      <td>18290</td>\n",
              "      <td>2014-09-26 02:00:00</td>\n",
              "      <td>2014</td>\n",
              "      <td>9</td>\n",
              "      <td>26</td>\n",
              "      <td>2</td>\n",
              "    </tr>\n",
              "    <tr>\n",
              "      <th>3</th>\n",
              "      <td>18291</td>\n",
              "      <td>2014-09-26 03:00:00</td>\n",
              "      <td>2014</td>\n",
              "      <td>9</td>\n",
              "      <td>26</td>\n",
              "      <td>3</td>\n",
              "    </tr>\n",
              "    <tr>\n",
              "      <th>4</th>\n",
              "      <td>18292</td>\n",
              "      <td>2014-09-26 04:00:00</td>\n",
              "      <td>2014</td>\n",
              "      <td>9</td>\n",
              "      <td>26</td>\n",
              "      <td>4</td>\n",
              "    </tr>\n",
              "  </tbody>\n",
              "</table>\n",
              "</div>"
            ]
          },
          "metadata": {},
          "execution_count": 121
        }
      ]
    },
    {
      "cell_type": "code",
      "source": [
        "test.Timestamp = pd.to_datetime(test.Datetime, format = \"%d-%m-%Y %H:%M\")\n",
        "test.index = test.Timestamp"
      ],
      "metadata": {
        "id": "0ZTRDsW5dMPC"
      },
      "id": "0ZTRDsW5dMPC",
      "execution_count": 122,
      "outputs": []
    },
    {
      "cell_type": "code",
      "source": [
        "# Converting test data to day level\n",
        "test = test.resample('D').mean()\n",
        "test.head()"
      ],
      "metadata": {
        "id": "f1XMnNzRdZZz",
        "outputId": "9401238a-b985-4253-959f-79153152e393",
        "colab": {
          "base_uri": "https://localhost:8080/",
          "height": 238
        }
      },
      "id": "f1XMnNzRdZZz",
      "execution_count": 123,
      "outputs": [
        {
          "output_type": "execute_result",
          "data": {
            "text/plain": [
              "                 ID    year  month   day  Hour\n",
              "Datetime                                      \n",
              "2014-09-26  18299.5  2014.0    9.0  26.0  11.5\n",
              "2014-09-27  18323.5  2014.0    9.0  27.0  11.5\n",
              "2014-09-28  18347.5  2014.0    9.0  28.0  11.5\n",
              "2014-09-29  18371.5  2014.0    9.0  29.0  11.5\n",
              "2014-09-30  18395.5  2014.0    9.0  30.0  11.5"
            ],
            "text/html": [
              "<div>\n",
              "<style scoped>\n",
              "    .dataframe tbody tr th:only-of-type {\n",
              "        vertical-align: middle;\n",
              "    }\n",
              "\n",
              "    .dataframe tbody tr th {\n",
              "        vertical-align: top;\n",
              "    }\n",
              "\n",
              "    .dataframe thead th {\n",
              "        text-align: right;\n",
              "    }\n",
              "</style>\n",
              "<table border=\"1\" class=\"dataframe\">\n",
              "  <thead>\n",
              "    <tr style=\"text-align: right;\">\n",
              "      <th></th>\n",
              "      <th>ID</th>\n",
              "      <th>year</th>\n",
              "      <th>month</th>\n",
              "      <th>day</th>\n",
              "      <th>Hour</th>\n",
              "    </tr>\n",
              "    <tr>\n",
              "      <th>Datetime</th>\n",
              "      <th></th>\n",
              "      <th></th>\n",
              "      <th></th>\n",
              "      <th></th>\n",
              "      <th></th>\n",
              "    </tr>\n",
              "  </thead>\n",
              "  <tbody>\n",
              "    <tr>\n",
              "      <th>2014-09-26</th>\n",
              "      <td>18299.5</td>\n",
              "      <td>2014.0</td>\n",
              "      <td>9.0</td>\n",
              "      <td>26.0</td>\n",
              "      <td>11.5</td>\n",
              "    </tr>\n",
              "    <tr>\n",
              "      <th>2014-09-27</th>\n",
              "      <td>18323.5</td>\n",
              "      <td>2014.0</td>\n",
              "      <td>9.0</td>\n",
              "      <td>27.0</td>\n",
              "      <td>11.5</td>\n",
              "    </tr>\n",
              "    <tr>\n",
              "      <th>2014-09-28</th>\n",
              "      <td>18347.5</td>\n",
              "      <td>2014.0</td>\n",
              "      <td>9.0</td>\n",
              "      <td>28.0</td>\n",
              "      <td>11.5</td>\n",
              "    </tr>\n",
              "    <tr>\n",
              "      <th>2014-09-29</th>\n",
              "      <td>18371.5</td>\n",
              "      <td>2014.0</td>\n",
              "      <td>9.0</td>\n",
              "      <td>29.0</td>\n",
              "      <td>11.5</td>\n",
              "    </tr>\n",
              "    <tr>\n",
              "      <th>2014-09-30</th>\n",
              "      <td>18395.5</td>\n",
              "      <td>2014.0</td>\n",
              "      <td>9.0</td>\n",
              "      <td>30.0</td>\n",
              "      <td>11.5</td>\n",
              "    </tr>\n",
              "  </tbody>\n",
              "</table>\n",
              "</div>"
            ]
          },
          "metadata": {},
          "execution_count": 123
        }
      ]
    },
    {
      "cell_type": "code",
      "source": [],
      "metadata": {
        "id": "H2pJ5unFddxb"
      },
      "id": "H2pJ5unFddxb",
      "execution_count": null,
      "outputs": []
    }
  ],
  "metadata": {
    "kernelspec": {
      "display_name": "Python 3 (ipykernel)",
      "language": "python",
      "name": "python3"
    },
    "language_info": {
      "codemirror_mode": {
        "name": "ipython",
        "version": 3
      },
      "file_extension": ".py",
      "mimetype": "text/x-python",
      "name": "python",
      "nbconvert_exporter": "python",
      "pygments_lexer": "ipython3",
      "version": "3.10.4"
    },
    "colab": {
      "provenance": []
    }
  },
  "nbformat": 4,
  "nbformat_minor": 5
}