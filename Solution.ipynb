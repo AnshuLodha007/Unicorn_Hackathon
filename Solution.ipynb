{
  "cells": [
    {
      "cell_type": "code",
      "source": [
        "!git clone https://github.com/AnshuLodha007/Unicorn_Hackathon.git"
      ],
      "metadata": {
        "colab": {
          "base_uri": "https://localhost:8080/"
        },
        "id": "999j0NH9KIkX",
        "outputId": "f7c018e6-b126-4766-e86d-5044064224e0"
      },
      "id": "999j0NH9KIkX",
      "execution_count": 1,
      "outputs": [
        {
          "output_type": "stream",
          "name": "stderr",
          "text": [
            "fatal: destination path 'Unicorn_Hackathon' already exists and is not an empty directory.\n"
          ]
        }
      ]
    },
    {
      "cell_type": "markdown",
      "source": [
        "# Importing the Data"
      ],
      "metadata": {
        "id": "T7iWw59zNcGx"
      },
      "id": "T7iWw59zNcGx"
    },
    {
      "cell_type": "code",
      "source": [
        "import pandas as pd\n",
        "import numpy as np\n",
        "import matplotlib.pyplot as plt\n",
        "from datetime import datetime\n",
        "from pandas import Series\n",
        "%matplotlib inline\n",
        "\n",
        "from sklearn.metrics import mean_squared_error\n",
        "from math import sqrt\n",
        "from statistics import mean\n",
        "\n",
        "import warnings\n",
        "warnings.filterwarnings(\"ignore\")"
      ],
      "metadata": {
        "id": "yTE_GE7QKCDW"
      },
      "id": "yTE_GE7QKCDW",
      "execution_count": 2,
      "outputs": []
    },
    {
      "cell_type": "code",
      "source": [
        "# Reading the csv files\n",
        "\n",
        "#train = pd.read_csv('/Unicorn_Hackathon/Train.csv')\n",
        "#test = pd.read_csv('/Unicorn_Hackathon/Test.csv')\n",
        "\n",
        "train = pd.read_csv(rf'C:\\Dropbox\\GenAI\\Analytics_Vidhya\\Time_Series_Forecasting_using_Python\\Train.csv')\n",
        "test = pd.read_csv(rf'C:\\Dropbox\\GenAI\\Analytics_Vidhya\\Time_Series_Forecasting_using_Python\\Test.csv')\n",
        "train.shape, test.shape"
      ],
      "metadata": {
        "colab": {
          "base_uri": "https://localhost:8080/"
        },
        "id": "0vi177kHKrOP",
        "outputId": "dc73cf36-5365-47d0-ffca-2702f4f93b2c"
      },
      "id": "0vi177kHKrOP",
      "execution_count": 3,
      "outputs": [
        {
          "output_type": "execute_result",
          "data": {
            "text/plain": [
              "((18288, 3), (5112, 2))"
            ]
          },
          "metadata": {},
          "execution_count": 3
        }
      ]
    },
    {
      "cell_type": "code",
      "source": [
        "# making copy of orignal data.\n",
        "\n",
        "train_orignal = train.copy()\n",
        "test_orignal = test.copy()"
      ],
      "metadata": {
        "id": "KcFiB92IKEYo"
      },
      "id": "KcFiB92IKEYo",
      "execution_count": 4,
      "outputs": []
    },
    {
      "cell_type": "code",
      "source": [
        "train.columns"
      ],
      "metadata": {
        "colab": {
          "base_uri": "https://localhost:8080/"
        },
        "id": "md2t6T-CNKdw",
        "outputId": "341062a4-0756-4571-8188-5181785a48ed"
      },
      "id": "md2t6T-CNKdw",
      "execution_count": 5,
      "outputs": [
        {
          "output_type": "execute_result",
          "data": {
            "text/plain": [
              "Index(['ID', 'Datetime', 'Count'], dtype='object')"
            ]
          },
          "metadata": {},
          "execution_count": 5
        }
      ]
    },
    {
      "cell_type": "code",
      "source": [
        "train.dtypes"
      ],
      "metadata": {
        "colab": {
          "base_uri": "https://localhost:8080/"
        },
        "id": "AtUEYMjENTYA",
        "outputId": "a04a1a35-8510-4bf4-b308-b99452050d84"
      },
      "id": "AtUEYMjENTYA",
      "execution_count": 6,
      "outputs": [
        {
          "output_type": "execute_result",
          "data": {
            "text/plain": [
              "ID           int64\n",
              "Datetime    object\n",
              "Count        int64\n",
              "dtype: object"
            ]
          },
          "metadata": {},
          "execution_count": 6
        }
      ]
    },
    {
      "cell_type": "markdown",
      "source": [
        "# Feature Extraction"
      ],
      "metadata": {
        "id": "8ZpTFAMxNeA0"
      },
      "id": "8ZpTFAMxNeA0"
    },
    {
      "cell_type": "code",
      "source": [
        "train['Datetime'] = pd.to_datetime(train.Datetime, format = '%d-%m-%Y %H:%M')\n",
        "test['Datetime'] = pd.to_datetime(test.Datetime, format = '%d-%m-%Y %H:%M')"
      ],
      "metadata": {
        "id": "e8h6w_ScNVJP"
      },
      "id": "e8h6w_ScNVJP",
      "execution_count": 7,
      "outputs": []
    },
    {
      "cell_type": "code",
      "source": [
        "train_orignal['Datetime'] = pd.to_datetime(train.Datetime, format = '%d-%m-%Y %H:%M')\n",
        "test_orignal['Datetime'] = pd.to_datetime(test.Datetime, format = '%d-%m-%Y %H:%M')"
      ],
      "metadata": {
        "id": "saFgbBuLNwsx"
      },
      "id": "saFgbBuLNwsx",
      "execution_count": 8,
      "outputs": []
    },
    {
      "cell_type": "code",
      "source": [
        "# Extracting Year, Mont, Date, Day, Hour for each table.\n",
        "\n",
        "for i in (train, test, train_orignal, test_orignal):\n",
        "  i['year'] = i.Datetime.dt.year\n",
        "  i['month'] = i.Datetime.dt.month\n",
        "  i['day'] = i.Datetime.dt.day\n",
        "  i['Hour'] = i.Datetime.dt.hour"
      ],
      "metadata": {
        "id": "5o4MpZDyN2zI"
      },
      "id": "5o4MpZDyN2zI",
      "execution_count": 9,
      "outputs": []
    },
    {
      "cell_type": "code",
      "source": [
        "train.head()"
      ],
      "metadata": {
        "colab": {
          "base_uri": "https://localhost:8080/",
          "height": 206
        },
        "id": "1JNoaXb_OYZg",
        "outputId": "7cfd9c2b-a0d4-45cc-c2df-9521b7391997"
      },
      "id": "1JNoaXb_OYZg",
      "execution_count": 10,
      "outputs": [
        {
          "output_type": "execute_result",
          "data": {
            "text/plain": [
              "   ID            Datetime  Count  year  month  day  Hour\n",
              "0   0 2012-08-25 00:00:00      8  2012      8   25     0\n",
              "1   1 2012-08-25 01:00:00      2  2012      8   25     1\n",
              "2   2 2012-08-25 02:00:00      6  2012      8   25     2\n",
              "3   3 2012-08-25 03:00:00      2  2012      8   25     3\n",
              "4   4 2012-08-25 04:00:00      2  2012      8   25     4"
            ],
            "text/html": [
              "<div>\n",
              "<style scoped>\n",
              "    .dataframe tbody tr th:only-of-type {\n",
              "        vertical-align: middle;\n",
              "    }\n",
              "\n",
              "    .dataframe tbody tr th {\n",
              "        vertical-align: top;\n",
              "    }\n",
              "\n",
              "    .dataframe thead th {\n",
              "        text-align: right;\n",
              "    }\n",
              "</style>\n",
              "<table border=\"1\" class=\"dataframe\">\n",
              "  <thead>\n",
              "    <tr style=\"text-align: right;\">\n",
              "      <th></th>\n",
              "      <th>ID</th>\n",
              "      <th>Datetime</th>\n",
              "      <th>Count</th>\n",
              "      <th>year</th>\n",
              "      <th>month</th>\n",
              "      <th>day</th>\n",
              "      <th>Hour</th>\n",
              "    </tr>\n",
              "  </thead>\n",
              "  <tbody>\n",
              "    <tr>\n",
              "      <th>0</th>\n",
              "      <td>0</td>\n",
              "      <td>2012-08-25 00:00:00</td>\n",
              "      <td>8</td>\n",
              "      <td>2012</td>\n",
              "      <td>8</td>\n",
              "      <td>25</td>\n",
              "      <td>0</td>\n",
              "    </tr>\n",
              "    <tr>\n",
              "      <th>1</th>\n",
              "      <td>1</td>\n",
              "      <td>2012-08-25 01:00:00</td>\n",
              "      <td>2</td>\n",
              "      <td>2012</td>\n",
              "      <td>8</td>\n",
              "      <td>25</td>\n",
              "      <td>1</td>\n",
              "    </tr>\n",
              "    <tr>\n",
              "      <th>2</th>\n",
              "      <td>2</td>\n",
              "      <td>2012-08-25 02:00:00</td>\n",
              "      <td>6</td>\n",
              "      <td>2012</td>\n",
              "      <td>8</td>\n",
              "      <td>25</td>\n",
              "      <td>2</td>\n",
              "    </tr>\n",
              "    <tr>\n",
              "      <th>3</th>\n",
              "      <td>3</td>\n",
              "      <td>2012-08-25 03:00:00</td>\n",
              "      <td>2</td>\n",
              "      <td>2012</td>\n",
              "      <td>8</td>\n",
              "      <td>25</td>\n",
              "      <td>3</td>\n",
              "    </tr>\n",
              "    <tr>\n",
              "      <th>4</th>\n",
              "      <td>4</td>\n",
              "      <td>2012-08-25 04:00:00</td>\n",
              "      <td>2</td>\n",
              "      <td>2012</td>\n",
              "      <td>8</td>\n",
              "      <td>25</td>\n",
              "      <td>4</td>\n",
              "    </tr>\n",
              "  </tbody>\n",
              "</table>\n",
              "</div>"
            ]
          },
          "metadata": {},
          "execution_count": 10
        }
      ]
    },
    {
      "cell_type": "code",
      "source": [
        "# Extracting 'Day of Week' and 'Is Weekend' for train data, as we are looking forward to see variation wrt weekdays.\n",
        "\n",
        "train['day of week'] = train['Datetime'].dt.dayofweek\n",
        "train['weekend'] = train['day of week'].apply(lambda x: 1 if x in [5, 6] else 0)"
      ],
      "metadata": {
        "id": "kfU3fhRqOZvx"
      },
      "id": "kfU3fhRqOZvx",
      "execution_count": 11,
      "outputs": []
    },
    {
      "cell_type": "code",
      "source": [
        "train.head()"
      ],
      "metadata": {
        "colab": {
          "base_uri": "https://localhost:8080/",
          "height": 206
        },
        "id": "Od2FmSBoO3fr",
        "outputId": "942c6ae8-cbe1-4361-8497-14ada6a1d8cd"
      },
      "id": "Od2FmSBoO3fr",
      "execution_count": 12,
      "outputs": [
        {
          "output_type": "execute_result",
          "data": {
            "text/plain": [
              "   ID            Datetime  Count  year  month  day  Hour  day of week  weekend\n",
              "0   0 2012-08-25 00:00:00      8  2012      8   25     0            5        1\n",
              "1   1 2012-08-25 01:00:00      2  2012      8   25     1            5        1\n",
              "2   2 2012-08-25 02:00:00      6  2012      8   25     2            5        1\n",
              "3   3 2012-08-25 03:00:00      2  2012      8   25     3            5        1\n",
              "4   4 2012-08-25 04:00:00      2  2012      8   25     4            5        1"
            ],
            "text/html": [
              "<div>\n",
              "<style scoped>\n",
              "    .dataframe tbody tr th:only-of-type {\n",
              "        vertical-align: middle;\n",
              "    }\n",
              "\n",
              "    .dataframe tbody tr th {\n",
              "        vertical-align: top;\n",
              "    }\n",
              "\n",
              "    .dataframe thead th {\n",
              "        text-align: right;\n",
              "    }\n",
              "</style>\n",
              "<table border=\"1\" class=\"dataframe\">\n",
              "  <thead>\n",
              "    <tr style=\"text-align: right;\">\n",
              "      <th></th>\n",
              "      <th>ID</th>\n",
              "      <th>Datetime</th>\n",
              "      <th>Count</th>\n",
              "      <th>year</th>\n",
              "      <th>month</th>\n",
              "      <th>day</th>\n",
              "      <th>Hour</th>\n",
              "      <th>day of week</th>\n",
              "      <th>weekend</th>\n",
              "    </tr>\n",
              "  </thead>\n",
              "  <tbody>\n",
              "    <tr>\n",
              "      <th>0</th>\n",
              "      <td>0</td>\n",
              "      <td>2012-08-25 00:00:00</td>\n",
              "      <td>8</td>\n",
              "      <td>2012</td>\n",
              "      <td>8</td>\n",
              "      <td>25</td>\n",
              "      <td>0</td>\n",
              "      <td>5</td>\n",
              "      <td>1</td>\n",
              "    </tr>\n",
              "    <tr>\n",
              "      <th>1</th>\n",
              "      <td>1</td>\n",
              "      <td>2012-08-25 01:00:00</td>\n",
              "      <td>2</td>\n",
              "      <td>2012</td>\n",
              "      <td>8</td>\n",
              "      <td>25</td>\n",
              "      <td>1</td>\n",
              "      <td>5</td>\n",
              "      <td>1</td>\n",
              "    </tr>\n",
              "    <tr>\n",
              "      <th>2</th>\n",
              "      <td>2</td>\n",
              "      <td>2012-08-25 02:00:00</td>\n",
              "      <td>6</td>\n",
              "      <td>2012</td>\n",
              "      <td>8</td>\n",
              "      <td>25</td>\n",
              "      <td>2</td>\n",
              "      <td>5</td>\n",
              "      <td>1</td>\n",
              "    </tr>\n",
              "    <tr>\n",
              "      <th>3</th>\n",
              "      <td>3</td>\n",
              "      <td>2012-08-25 03:00:00</td>\n",
              "      <td>2</td>\n",
              "      <td>2012</td>\n",
              "      <td>8</td>\n",
              "      <td>25</td>\n",
              "      <td>3</td>\n",
              "      <td>5</td>\n",
              "      <td>1</td>\n",
              "    </tr>\n",
              "    <tr>\n",
              "      <th>4</th>\n",
              "      <td>4</td>\n",
              "      <td>2012-08-25 04:00:00</td>\n",
              "      <td>2</td>\n",
              "      <td>2012</td>\n",
              "      <td>8</td>\n",
              "      <td>25</td>\n",
              "      <td>4</td>\n",
              "      <td>5</td>\n",
              "      <td>1</td>\n",
              "    </tr>\n",
              "  </tbody>\n",
              "</table>\n",
              "</div>"
            ]
          },
          "metadata": {},
          "execution_count": 12
        }
      ]
    },
    {
      "cell_type": "code",
      "source": [],
      "metadata": {
        "id": "qvi0FV7YO4bb"
      },
      "id": "qvi0FV7YO4bb",
      "execution_count": 12,
      "outputs": []
    },
    {
      "cell_type": "markdown",
      "source": [
        "## Since its a time series based prediction, we try and check our various hypothesis now"
      ],
      "metadata": {
        "id": "p2wK4lfsP1-y"
      },
      "id": "p2wK4lfsP1-y"
    },
    {
      "cell_type": "markdown",
      "source": [
        "### Passenger count wrt date - generic plot"
      ],
      "metadata": {
        "id": "nF1HpvRiP8Bn"
      },
      "id": "nF1HpvRiP8Bn"
    },
    {
      "cell_type": "code",
      "source": [
        "df = train.drop('ID', 1)\n",
        "df.head()"
      ],
      "metadata": {
        "colab": {
          "base_uri": "https://localhost:8080/",
          "height": 0
        },
        "id": "oEeSpIVsPcya",
        "outputId": "f401c1b0-b1d2-43cf-b9e3-810f578e07e5"
      },
      "id": "oEeSpIVsPcya",
      "execution_count": 13,
      "outputs": [
        {
          "output_type": "execute_result",
          "data": {
            "text/plain": [
              "             Datetime  Count  year  month  day  Hour  day of week  weekend\n",
              "0 2012-08-25 00:00:00      8  2012      8   25     0            5        1\n",
              "1 2012-08-25 01:00:00      2  2012      8   25     1            5        1\n",
              "2 2012-08-25 02:00:00      6  2012      8   25     2            5        1\n",
              "3 2012-08-25 03:00:00      2  2012      8   25     3            5        1\n",
              "4 2012-08-25 04:00:00      2  2012      8   25     4            5        1"
            ],
            "text/html": [
              "<div>\n",
              "<style scoped>\n",
              "    .dataframe tbody tr th:only-of-type {\n",
              "        vertical-align: middle;\n",
              "    }\n",
              "\n",
              "    .dataframe tbody tr th {\n",
              "        vertical-align: top;\n",
              "    }\n",
              "\n",
              "    .dataframe thead th {\n",
              "        text-align: right;\n",
              "    }\n",
              "</style>\n",
              "<table border=\"1\" class=\"dataframe\">\n",
              "  <thead>\n",
              "    <tr style=\"text-align: right;\">\n",
              "      <th></th>\n",
              "      <th>Datetime</th>\n",
              "      <th>Count</th>\n",
              "      <th>year</th>\n",
              "      <th>month</th>\n",
              "      <th>day</th>\n",
              "      <th>Hour</th>\n",
              "      <th>day of week</th>\n",
              "      <th>weekend</th>\n",
              "    </tr>\n",
              "  </thead>\n",
              "  <tbody>\n",
              "    <tr>\n",
              "      <th>0</th>\n",
              "      <td>2012-08-25 00:00:00</td>\n",
              "      <td>8</td>\n",
              "      <td>2012</td>\n",
              "      <td>8</td>\n",
              "      <td>25</td>\n",
              "      <td>0</td>\n",
              "      <td>5</td>\n",
              "      <td>1</td>\n",
              "    </tr>\n",
              "    <tr>\n",
              "      <th>1</th>\n",
              "      <td>2012-08-25 01:00:00</td>\n",
              "      <td>2</td>\n",
              "      <td>2012</td>\n",
              "      <td>8</td>\n",
              "      <td>25</td>\n",
              "      <td>1</td>\n",
              "      <td>5</td>\n",
              "      <td>1</td>\n",
              "    </tr>\n",
              "    <tr>\n",
              "      <th>2</th>\n",
              "      <td>2012-08-25 02:00:00</td>\n",
              "      <td>6</td>\n",
              "      <td>2012</td>\n",
              "      <td>8</td>\n",
              "      <td>25</td>\n",
              "      <td>2</td>\n",
              "      <td>5</td>\n",
              "      <td>1</td>\n",
              "    </tr>\n",
              "    <tr>\n",
              "      <th>3</th>\n",
              "      <td>2012-08-25 03:00:00</td>\n",
              "      <td>2</td>\n",
              "      <td>2012</td>\n",
              "      <td>8</td>\n",
              "      <td>25</td>\n",
              "      <td>3</td>\n",
              "      <td>5</td>\n",
              "      <td>1</td>\n",
              "    </tr>\n",
              "    <tr>\n",
              "      <th>4</th>\n",
              "      <td>2012-08-25 04:00:00</td>\n",
              "      <td>2</td>\n",
              "      <td>2012</td>\n",
              "      <td>8</td>\n",
              "      <td>25</td>\n",
              "      <td>4</td>\n",
              "      <td>5</td>\n",
              "      <td>1</td>\n",
              "    </tr>\n",
              "  </tbody>\n",
              "</table>\n",
              "</div>"
            ]
          },
          "metadata": {},
          "execution_count": 13
        }
      ]
    },
    {
      "cell_type": "code",
      "source": [
        "plt.figure(figsize = (16,8))\n",
        "plt.plot(df['Count'], label = 'Passenger Count')\n",
        "plt.title('Time Series wrt Date')\n",
        "plt.xlabel('Time(year-month)')\n",
        "plt.ylabel('Passenger Count')\n",
        "plt.legend(loc = 'best')"
      ],
      "metadata": {
        "colab": {
          "base_uri": "https://localhost:8080/",
          "height": 0
        },
        "id": "oy7qvDgBPg_q",
        "outputId": "61e274d9-7d64-4654-d7d1-0dd83468a039"
      },
      "id": "oy7qvDgBPg_q",
      "execution_count": 14,
      "outputs": [
        {
          "output_type": "execute_result",
          "data": {
            "text/plain": [
              "<matplotlib.legend.Legend at 0x1d911b95dc0>"
            ]
          },
          "metadata": {},
          "execution_count": 14
        },
        {
          "output_type": "display_data",
          "data": {
            "text/plain": [
              "<Figure size 1152x576 with 1 Axes>"
            ],
            "image/png": "[encoded data removed]"
          },
          "metadata": {
            "needs_background": "light"
          }
        }
      ]
    },
    {
      "cell_type": "code",
      "source": [],
      "metadata": {
        "id": "8rJlwoc1QX8N"
      },
      "id": "8rJlwoc1QX8N",
      "execution_count": 14,
      "outputs": []
    },
    {
      "cell_type": "markdown",
      "source": [
        "### Hypothesis 1: Inc with years"
      ],
      "metadata": {
        "id": "HFswG1VGRETh"
      },
      "id": "HFswG1VGRETh"
    },
    {
      "cell_type": "code",
      "source": [
        "train.groupby('year')['Count'].mean().plot.bar()"
      ],
      "metadata": {
        "colab": {
          "base_uri": "https://localhost:8080/",
          "height": 0
        },
        "id": "-JIef8ULRLrk",
        "outputId": "0d811ee0-7aca-465c-cfd9-7ff0bea6fefb"
      },
      "id": "-JIef8ULRLrk",
      "execution_count": 15,
      "outputs": [
        {
          "output_type": "execute_result",
          "data": {
            "text/plain": [
              "<AxesSubplot:xlabel='year'>"
            ]
          },
          "metadata": {},
          "execution_count": 15
        },
        {
          "output_type": "display_data",
          "data": {
            "text/plain": [
              "<Figure size 432x288 with 1 Axes>"
            ],
            "image/png": "[encoded data removed]"
          },
          "metadata": {
            "needs_background": "light"
          }
        }
      ]
    },
    {
      "cell_type": "markdown",
      "source": [
        "Exponential Growth Observed"
      ],
      "metadata": {
        "id": "s4Qh_YKORxrx"
      },
      "id": "s4Qh_YKORxrx"
    },
    {
      "cell_type": "code",
      "source": [],
      "metadata": {
        "id": "ciqm4VknRYIm"
      },
      "id": "ciqm4VknRYIm",
      "execution_count": 15,
      "outputs": []
    },
    {
      "cell_type": "markdown",
      "source": [
        "### Hypothesis 2: Traffic Inc in May to Oct.\n",
        "\n"
      ],
      "metadata": {
        "id": "TNn9085BRv9t"
      },
      "id": "TNn9085BRv9t"
    },
    {
      "cell_type": "code",
      "source": [
        "train.groupby('month')['Count'].mean().plot.bar()"
      ],
      "metadata": {
        "colab": {
          "base_uri": "https://localhost:8080/",
          "height": 0
        },
        "id": "Xcezb4mYR7Q-",
        "outputId": "ed4909f1-c472-4247-c9e6-c8291b71eab1"
      },
      "id": "Xcezb4mYR7Q-",
      "execution_count": 16,
      "outputs": [
        {
          "output_type": "execute_result",
          "data": {
            "text/plain": [
              "<AxesSubplot:xlabel='month'>"
            ]
          },
          "metadata": {},
          "execution_count": 16
        },
        {
          "output_type": "display_data",
          "data": {
            "text/plain": [
              "<Figure size 432x288 with 1 Axes>"
            ],
            "image/png": "[encoded data removed]"
          },
          "metadata": {
            "needs_background": "light"
          }
        }
      ]
    },
    {
      "cell_type": "markdown",
      "source": [
        "InAccurate Hypothesis: Getting more in depth analysis"
      ],
      "metadata": {
        "id": "-sdQXpYySakU"
      },
      "id": "-sdQXpYySakU"
    },
    {
      "cell_type": "code",
      "source": [
        "tmp = train.groupby(['year', 'month'])['Count'].mean()\n",
        "tmp.plot(figsize = (15,5), title = 'Passenger Count(Monthwise)', fontsize = 14)"
      ],
      "metadata": {
        "colab": {
          "base_uri": "https://localhost:8080/",
          "height": 0
        },
        "id": "laCGl1lgSCBP",
        "outputId": "ab207c15-b3b6-4ef8-b7cb-18b2cf087569"
      },
      "id": "laCGl1lgSCBP",
      "execution_count": 17,
      "outputs": [
        {
          "output_type": "execute_result",
          "data": {
            "text/plain": [
              "<AxesSubplot:title={'center':'Passenger Count(Monthwise)'}, xlabel='year,month'>"
            ]
          },
          "metadata": {},
          "execution_count": 17
        },
        {
          "output_type": "display_data",
          "data": {
            "text/plain": [
              "<Figure size 1080x360 with 1 Axes>"
            ],
            "image/png": "[encoded data removed]"
          },
          "metadata": {
            "needs_background": "light"
          }
        }
      ]
    },
    {
      "cell_type": "code",
      "source": [
        "train.groupby(['year', 'month'])['Count'].mean().plot.bar(figsize = (15,5))"
      ],
      "metadata": {
        "colab": {
          "base_uri": "https://localhost:8080/",
          "height": 0
        },
        "id": "cmjAygXoS2so",
        "outputId": "8f9bcd3b-544d-40f6-c20a-b1b147974f8c"
      },
      "id": "cmjAygXoS2so",
      "execution_count": 18,
      "outputs": [
        {
          "output_type": "execute_result",
          "data": {
            "text/plain": [
              "<AxesSubplot:xlabel='year,month'>"
            ]
          },
          "metadata": {},
          "execution_count": 18
        },
        {
          "output_type": "display_data",
          "data": {
            "text/plain": [
              "<Figure size 1080x360 with 1 Axes>"
            ],
            "image/png": "[encoded data removed]"
          },
          "metadata": {
            "needs_background": "light"
          }
        }
      ]
    },
    {
      "cell_type": "markdown",
      "source": [
        "Passengers are increaing exponentiall wrt months as well as years"
      ],
      "metadata": {
        "id": "GBGM4nW3TZ6Q"
      },
      "id": "GBGM4nW3TZ6Q"
    },
    {
      "cell_type": "code",
      "source": [],
      "metadata": {
        "id": "yEYJfi-cS7sA"
      },
      "id": "yEYJfi-cS7sA",
      "execution_count": 18,
      "outputs": []
    },
    {
      "cell_type": "markdown",
      "source": [
        "### Hypothesis 3: Trend of traffic due day of week"
      ],
      "metadata": {
        "id": "qDIqY3METjNP"
      },
      "id": "qDIqY3METjNP"
    },
    {
      "cell_type": "code",
      "source": [
        "train.groupby('day')['Count'].mean().plot.bar(figsize = (10,10), title = 'Date based passenger trends')"
      ],
      "metadata": {
        "colab": {
          "base_uri": "https://localhost:8080/",
          "height": 0
        },
        "id": "qKTD-anvTqpj",
        "outputId": "1de0598c-39fe-4ddd-c875-17f2af025994"
      },
      "id": "qKTD-anvTqpj",
      "execution_count": 19,
      "outputs": [
        {
          "output_type": "execute_result",
          "data": {
            "text/plain": [
              "<AxesSubplot:title={'center':'Date based passenger trends'}, xlabel='day'>"
            ]
          },
          "metadata": {},
          "execution_count": 19
        },
        {
          "output_type": "display_data",
          "data": {
            "text/plain": [
              "<Figure size 720x720 with 1 Axes>"
            ],
            "image/png": "[encoded data removed]"
          },
          "metadata": {
            "needs_background": "light"
          }
        }
      ]
    },
    {
      "cell_type": "markdown",
      "source": [
        "Not much insightful"
      ],
      "metadata": {
        "id": "ODO7UuW7Wp9H"
      },
      "id": "ODO7UuW7Wp9H"
    },
    {
      "cell_type": "code",
      "source": [],
      "metadata": {
        "id": "UE8QdGSIUEoj"
      },
      "id": "UE8QdGSIUEoj",
      "execution_count": 19,
      "outputs": []
    },
    {
      "cell_type": "markdown",
      "source": [
        "### Hypothesis 4: Hourly Traffic Analysis"
      ],
      "metadata": {
        "id": "sqwN9w55Wtgd"
      },
      "id": "sqwN9w55Wtgd"
    },
    {
      "cell_type": "code",
      "source": [
        "train.groupby('Hour')['Count'].mean().plot.bar(figsize = (10,10), title = 'Hourly passenger trends')"
      ],
      "metadata": {
        "colab": {
          "base_uri": "https://localhost:8080/",
          "height": 0
        },
        "id": "KDMm38o7WwTj",
        "outputId": "4e87026d-8a85-40dd-88b0-4af37517ce81"
      },
      "id": "KDMm38o7WwTj",
      "execution_count": 20,
      "outputs": [
        {
          "output_type": "execute_result",
          "data": {
            "text/plain": [
              "<AxesSubplot:title={'center':'Hourly passenger trends'}, xlabel='Hour'>"
            ]
          },
          "metadata": {},
          "execution_count": 20
        },
        {
          "output_type": "display_data",
          "data": {
            "text/plain": [
              "<Figure size 720x720 with 1 Axes>"
            ],
            "image/png": "[encoded data removed]"
          },
          "metadata": {
            "needs_background": "light"
          }
        }
      ]
    },
    {
      "cell_type": "markdown",
      "source": [
        "We can see passengers are less during the early hours of the day.\n",
        "\n",
        "\n",
        "There are peaks at 10 AM and 7 PM relating to the office hours."
      ],
      "metadata": {
        "id": "kRKPeB_wW4vF"
      },
      "id": "kRKPeB_wW4vF"
    },
    {
      "cell_type": "code",
      "source": [],
      "metadata": {
        "id": "2zfklF_KW2Kl"
      },
      "id": "2zfklF_KW2Kl",
      "execution_count": 20,
      "outputs": []
    },
    {
      "cell_type": "markdown",
      "source": [
        "### Hypothesis 5: Weekday > Weekend"
      ],
      "metadata": {
        "id": "88M2Bd3pXMk6"
      },
      "id": "88M2Bd3pXMk6"
    },
    {
      "cell_type": "code",
      "source": [
        "train.groupby('weekend')['Count'].mean().plot.bar(figsize = (10,10), title = 'Weekend passenger trends')"
      ],
      "metadata": {
        "colab": {
          "base_uri": "https://localhost:8080/",
          "height": 0
        },
        "id": "_239Z2SDXSI2",
        "outputId": "6bbfd9b2-66e0-4e18-a770-02471e0e9a8b"
      },
      "id": "_239Z2SDXSI2",
      "execution_count": 21,
      "outputs": [
        {
          "output_type": "execute_result",
          "data": {
            "text/plain": [
              "<AxesSubplot:title={'center':'Weekend passenger trends'}, xlabel='weekend'>"
            ]
          },
          "metadata": {},
          "execution_count": 21
        },
        {
          "output_type": "display_data",
          "data": {
            "text/plain": [
              "<Figure size 720x720 with 1 Axes>"
            ],
            "image/png": "[encoded data removed]"
          },
          "metadata": {
            "needs_background": "light"
          }
        }
      ]
    },
    {
      "cell_type": "markdown",
      "source": [
        "Hypothesis stands Corrected"
      ],
      "metadata": {
        "id": "0wvCLTd6XW6Z"
      },
      "id": "0wvCLTd6XW6Z"
    },
    {
      "cell_type": "code",
      "source": [
        "train.groupby('weekend')['Count'].mean().plot.bar(figsize = (10,10), title = 'Hourly passenger trends')"
      ],
      "metadata": {
        "colab": {
          "base_uri": "https://localhost:8080/",
          "height": 0
        },
        "id": "4AMNzlwBXVkt",
        "outputId": "d78a3c1c-c076-423e-b786-fdb63f0f5fb2"
      },
      "id": "4AMNzlwBXVkt",
      "execution_count": 22,
      "outputs": [
        {
          "output_type": "execute_result",
          "data": {
            "text/plain": [
              "<AxesSubplot:title={'center':'Hourly passenger trends'}, xlabel='weekend'>"
            ]
          },
          "metadata": {},
          "execution_count": 22
        },
        {
          "output_type": "display_data",
          "data": {
            "text/plain": [
              "<Figure size 720x720 with 1 Axes>"
            ],
            "image/png": "[encoded data removed]"
          },
          "metadata": {
            "needs_background": "light"
          }
        }
      ]
    },
    {
      "cell_type": "markdown",
      "source": [
        "### Hypothesis 6: Day of week wise traffic."
      ],
      "metadata": {
        "id": "L0rC4dXwXfxs"
      },
      "id": "L0rC4dXwXfxs"
    },
    {
      "cell_type": "code",
      "source": [
        "train.groupby('day of week')['Count'].mean().plot.bar(figsize = (10,10), title = 'Weekday passenger trends')"
      ],
      "metadata": {
        "colab": {
          "base_uri": "https://localhost:8080/",
          "height": 0
        },
        "id": "nAKCdKAsXkep",
        "outputId": "93e90a8e-7dac-4afb-aadc-fd70730d4d6e"
      },
      "id": "nAKCdKAsXkep",
      "execution_count": 23,
      "outputs": [
        {
          "output_type": "execute_result",
          "data": {
            "text/plain": [
              "<AxesSubplot:title={'center':'Weekday passenger trends'}, xlabel='day of week'>"
            ]
          },
          "metadata": {},
          "execution_count": 23
        },
        {
          "output_type": "display_data",
          "data": {
            "text/plain": [
              "<Figure size 720x720 with 1 Axes>"
            ],
            "image/png": "[encoded data removed]"
          },
          "metadata": {
            "needs_background": "light"
          }
        }
      ]
    },
    {
      "cell_type": "markdown",
      "source": [
        "Weekends see lesser traffic"
      ],
      "metadata": {
        "id": "7D17vOnOXyIf"
      },
      "id": "7D17vOnOXyIf"
    },
    {
      "cell_type": "markdown",
      "source": [
        "### Counclusion\n",
        "\n",
        "1. Exponential incerease with years.\n",
        "2. More traffic during weekdays then weekend.\n",
        "3. More traffic in 10 AM to 7 PM bracket of the day."
      ],
      "metadata": {
        "id": "1oBu9DnOXaOo"
      },
      "id": "1oBu9DnOXaOo"
    },
    {
      "cell_type": "code",
      "source": [],
      "metadata": {
        "id": "MymtBPuuXbJG"
      },
      "id": "MymtBPuuXbJG",
      "execution_count": 23,
      "outputs": []
    },
    {
      "cell_type": "markdown",
      "source": [
        "# Data Modelling or EDA"
      ],
      "metadata": {
        "id": "AS_Fc933YOv8"
      },
      "id": "AS_Fc933YOv8"
    },
    {
      "cell_type": "code",
      "source": [
        "train = train.drop('ID', 1)"
      ],
      "metadata": {
        "id": "vUXQfMOGYQsp"
      },
      "id": "vUXQfMOGYQsp",
      "execution_count": 24,
      "outputs": []
    },
    {
      "cell_type": "code",
      "source": [
        "train.Timestamp  = pd.to_datetime(train.Datetime, format = '%d-%m-%Y %H:%M')\n",
        "train.head()"
      ],
      "metadata": {
        "colab": {
          "base_uri": "https://localhost:8080/",
          "height": 206
        },
        "id": "Hg22gZq_Y0Ci",
        "outputId": "f95b00ae-92d2-44a7-e242-a54c3aea9042"
      },
      "id": "Hg22gZq_Y0Ci",
      "execution_count": 25,
      "outputs": [
        {
          "output_type": "execute_result",
          "data": {
            "text/plain": [
              "             Datetime  Count  year  month  day  Hour  day of week  weekend\n",
              "0 2012-08-25 00:00:00      8  2012      8   25     0            5        1\n",
              "1 2012-08-25 01:00:00      2  2012      8   25     1            5        1\n",
              "2 2012-08-25 02:00:00      6  2012      8   25     2            5        1\n",
              "3 2012-08-25 03:00:00      2  2012      8   25     3            5        1\n",
              "4 2012-08-25 04:00:00      2  2012      8   25     4            5        1"
            ],
            "text/html": [
              "<div>\n",
              "<style scoped>\n",
              "    .dataframe tbody tr th:only-of-type {\n",
              "        vertical-align: middle;\n",
              "    }\n",
              "\n",
              "    .dataframe tbody tr th {\n",
              "        vertical-align: top;\n",
              "    }\n",
              "\n",
              "    .dataframe thead th {\n",
              "        text-align: right;\n",
              "    }\n",
              "</style>\n",
              "<table border=\"1\" class=\"dataframe\">\n",
              "  <thead>\n",
              "    <tr style=\"text-align: right;\">\n",
              "      <th></th>\n",
              "      <th>Datetime</th>\n",
              "      <th>Count</th>\n",
              "      <th>year</th>\n",
              "      <th>month</th>\n",
              "      <th>day</th>\n",
              "      <th>Hour</th>\n",
              "      <th>day of week</th>\n",
              "      <th>weekend</th>\n",
              "    </tr>\n",
              "  </thead>\n",
              "  <tbody>\n",
              "    <tr>\n",
              "      <th>0</th>\n",
              "      <td>2012-08-25 00:00:00</td>\n",
              "      <td>8</td>\n",
              "      <td>2012</td>\n",
              "      <td>8</td>\n",
              "      <td>25</td>\n",
              "      <td>0</td>\n",
              "      <td>5</td>\n",
              "      <td>1</td>\n",
              "    </tr>\n",
              "    <tr>\n",
              "      <th>1</th>\n",
              "      <td>2012-08-25 01:00:00</td>\n",
              "      <td>2</td>\n",
              "      <td>2012</td>\n",
              "      <td>8</td>\n",
              "      <td>25</td>\n",
              "      <td>1</td>\n",
              "      <td>5</td>\n",
              "      <td>1</td>\n",
              "    </tr>\n",
              "    <tr>\n",
              "      <th>2</th>\n",
              "      <td>2012-08-25 02:00:00</td>\n",
              "      <td>6</td>\n",
              "      <td>2012</td>\n",
              "      <td>8</td>\n",
              "      <td>25</td>\n",
              "      <td>2</td>\n",
              "      <td>5</td>\n",
              "      <td>1</td>\n",
              "    </tr>\n",
              "    <tr>\n",
              "      <th>3</th>\n",
              "      <td>2012-08-25 03:00:00</td>\n",
              "      <td>2</td>\n",
              "      <td>2012</td>\n",
              "      <td>8</td>\n",
              "      <td>25</td>\n",
              "      <td>3</td>\n",
              "      <td>5</td>\n",
              "      <td>1</td>\n",
              "    </tr>\n",
              "    <tr>\n",
              "      <th>4</th>\n",
              "      <td>2012-08-25 04:00:00</td>\n",
              "      <td>2</td>\n",
              "      <td>2012</td>\n",
              "      <td>8</td>\n",
              "      <td>25</td>\n",
              "      <td>4</td>\n",
              "      <td>5</td>\n",
              "      <td>1</td>\n",
              "    </tr>\n",
              "  </tbody>\n",
              "</table>\n",
              "</div>"
            ]
          },
          "metadata": {},
          "execution_count": 25
        }
      ]
    },
    {
      "cell_type": "code",
      "source": [
        "train.index = train.Timestamp"
      ],
      "metadata": {
        "id": "Pdfc1iouZBiL"
      },
      "id": "Pdfc1iouZBiL",
      "execution_count": 26,
      "outputs": []
    },
    {
      "cell_type": "code",
      "source": [
        "train.head()"
      ],
      "metadata": {
        "colab": {
          "base_uri": "https://localhost:8080/",
          "height": 238
        },
        "id": "5FDokxekZJuF",
        "outputId": "c0f670c5-e40f-401a-8e08-bec917591507"
      },
      "id": "5FDokxekZJuF",
      "execution_count": 27,
      "outputs": [
        {
          "output_type": "execute_result",
          "data": {
            "text/plain": [
              "                               Datetime  Count  year  month  day  Hour  \\\n",
              "Datetime                                                                 \n",
              "2012-08-25 00:00:00 2012-08-25 00:00:00      8  2012      8   25     0   \n",
              "2012-08-25 01:00:00 2012-08-25 01:00:00      2  2012      8   25     1   \n",
              "2012-08-25 02:00:00 2012-08-25 02:00:00      6  2012      8   25     2   \n",
              "2012-08-25 03:00:00 2012-08-25 03:00:00      2  2012      8   25     3   \n",
              "2012-08-25 04:00:00 2012-08-25 04:00:00      2  2012      8   25     4   \n",
              "\n",
              "                     day of week  weekend  \n",
              "Datetime                                   \n",
              "2012-08-25 00:00:00            5        1  \n",
              "2012-08-25 01:00:00            5        1  \n",
              "2012-08-25 02:00:00            5        1  \n",
              "2012-08-25 03:00:00            5        1  \n",
              "2012-08-25 04:00:00            5        1  "
            ],
            "text/html": [
              "<div>\n",
              "<style scoped>\n",
              "    .dataframe tbody tr th:only-of-type {\n",
              "        vertical-align: middle;\n",
              "    }\n",
              "\n",
              "    .dataframe tbody tr th {\n",
              "        vertical-align: top;\n",
              "    }\n",
              "\n",
              "    .dataframe thead th {\n",
              "        text-align: right;\n",
              "    }\n",
              "</style>\n",
              "<table border=\"1\" class=\"dataframe\">\n",
              "  <thead>\n",
              "    <tr style=\"text-align: right;\">\n",
              "      <th></th>\n",
              "      <th>Datetime</th>\n",
              "      <th>Count</th>\n",
              "      <th>year</th>\n",
              "      <th>month</th>\n",
              "      <th>day</th>\n",
              "      <th>Hour</th>\n",
              "      <th>day of week</th>\n",
              "      <th>weekend</th>\n",
              "    </tr>\n",
              "    <tr>\n",
              "      <th>Datetime</th>\n",
              "      <th></th>\n",
              "      <th></th>\n",
              "      <th></th>\n",
              "      <th></th>\n",
              "      <th></th>\n",
              "      <th></th>\n",
              "      <th></th>\n",
              "      <th></th>\n",
              "    </tr>\n",
              "  </thead>\n",
              "  <tbody>\n",
              "    <tr>\n",
              "      <th>2012-08-25 00:00:00</th>\n",
              "      <td>2012-08-25 00:00:00</td>\n",
              "      <td>8</td>\n",
              "      <td>2012</td>\n",
              "      <td>8</td>\n",
              "      <td>25</td>\n",
              "      <td>0</td>\n",
              "      <td>5</td>\n",
              "      <td>1</td>\n",
              "    </tr>\n",
              "    <tr>\n",
              "      <th>2012-08-25 01:00:00</th>\n",
              "      <td>2012-08-25 01:00:00</td>\n",
              "      <td>2</td>\n",
              "      <td>2012</td>\n",
              "      <td>8</td>\n",
              "      <td>25</td>\n",
              "      <td>1</td>\n",
              "      <td>5</td>\n",
              "      <td>1</td>\n",
              "    </tr>\n",
              "    <tr>\n",
              "      <th>2012-08-25 02:00:00</th>\n",
              "      <td>2012-08-25 02:00:00</td>\n",
              "      <td>6</td>\n",
              "      <td>2012</td>\n",
              "      <td>8</td>\n",
              "      <td>25</td>\n",
              "      <td>2</td>\n",
              "      <td>5</td>\n",
              "      <td>1</td>\n",
              "    </tr>\n",
              "    <tr>\n",
              "      <th>2012-08-25 03:00:00</th>\n",
              "      <td>2012-08-25 03:00:00</td>\n",
              "      <td>2</td>\n",
              "      <td>2012</td>\n",
              "      <td>8</td>\n",
              "      <td>25</td>\n",
              "      <td>3</td>\n",
              "      <td>5</td>\n",
              "      <td>1</td>\n",
              "    </tr>\n",
              "    <tr>\n",
              "      <th>2012-08-25 04:00:00</th>\n",
              "      <td>2012-08-25 04:00:00</td>\n",
              "      <td>2</td>\n",
              "      <td>2012</td>\n",
              "      <td>8</td>\n",
              "      <td>25</td>\n",
              "      <td>4</td>\n",
              "      <td>5</td>\n",
              "      <td>1</td>\n",
              "    </tr>\n",
              "  </tbody>\n",
              "</table>\n",
              "</div>"
            ]
          },
          "metadata": {},
          "execution_count": 27
        }
      ]
    },
    {
      "cell_type": "markdown",
      "source": [
        "Data is provided on hourly basis, but lets make it uniform just to be sure."
      ],
      "metadata": {
        "id": "UEbW3QQYbD2O"
      },
      "id": "UEbW3QQYbD2O"
    },
    {
      "cell_type": "code",
      "source": [
        "# Making Hourly time Series.\n",
        "hourly = train.resample('H').mean()\n",
        "hourly.shape"
      ],
      "metadata": {
        "colab": {
          "base_uri": "https://localhost:8080/"
        },
        "id": "Jqg87pq5ZKpk",
        "outputId": "7978195d-1a9c-4ebe-dfe5-792c16db6aa2"
      },
      "id": "Jqg87pq5ZKpk",
      "execution_count": 28,
      "outputs": [
        {
          "output_type": "execute_result",
          "data": {
            "text/plain": [
              "(18288, 7)"
            ]
          },
          "metadata": {},
          "execution_count": 28
        }
      ]
    },
    {
      "cell_type": "code",
      "source": [
        "# Making daily time Series. - This will resample all the data on day level, i.e hours will become avg.\n",
        "daily = train.resample('D').mean()\n",
        "daily.shape"
      ],
      "metadata": {
        "colab": {
          "base_uri": "https://localhost:8080/"
        },
        "id": "KbJDhWpBZafN",
        "outputId": "a609c260-9bbb-450e-c729-4ca8f994a59d"
      },
      "id": "KbJDhWpBZafN",
      "execution_count": 29,
      "outputs": [
        {
          "output_type": "execute_result",
          "data": {
            "text/plain": [
              "(762, 7)"
            ]
          },
          "metadata": {},
          "execution_count": 29
        }
      ]
    },
    {
      "cell_type": "code",
      "source": [
        "# Making Weekly time Series.\n",
        "weekly = train.resample('W').mean()\n",
        "weekly.shape"
      ],
      "metadata": {
        "colab": {
          "base_uri": "https://localhost:8080/"
        },
        "id": "-GGeiXq0Zykm",
        "outputId": "89201dae-34a1-4a77-cb2e-8d47eee69031"
      },
      "id": "-GGeiXq0Zykm",
      "execution_count": 30,
      "outputs": [
        {
          "output_type": "execute_result",
          "data": {
            "text/plain": [
              "(110, 7)"
            ]
          },
          "metadata": {},
          "execution_count": 30
        }
      ]
    },
    {
      "cell_type": "code",
      "source": [
        "# Making Monthly time Series.\n",
        "monthly = train.resample('M').mean()\n",
        "monthly.shape"
      ],
      "metadata": {
        "colab": {
          "base_uri": "https://localhost:8080/"
        },
        "id": "NbctDnsGbYpD",
        "outputId": "0ea671a4-aaf1-420c-e068-7540cc09266a"
      },
      "id": "NbctDnsGbYpD",
      "execution_count": 31,
      "outputs": [
        {
          "output_type": "execute_result",
          "data": {
            "text/plain": [
              "(26, 7)"
            ]
          },
          "metadata": {},
          "execution_count": 31
        }
      ]
    },
    {
      "cell_type": "code",
      "source": [
        "# Plotting Hourly, daily, weekly, monthly plots\n",
        "\n",
        "fig, axs = plt.subplots(4,1)\n",
        "hourly.Count.plot(figsize= (15,6), title = 'Hourly', fontsize = 14, ax= axs[0])\n",
        "daily.Count.plot(figsize= (15,6), title = 'Daily', fontsize = 14, ax= axs[1])\n",
        "weekly.Count.plot(figsize= (15,6), title = 'Weekly', fontsize = 14, ax= axs[2])\n",
        "monthly.Count.plot(figsize= (15,6), title = 'Monthly', fontsize = 14, ax= axs[3])"
      ],
      "metadata": {
        "colab": {
          "base_uri": "https://localhost:8080/",
          "height": 414
        },
        "id": "-w0qfwhGbhlF",
        "outputId": "0f8704e5-d839-49d4-8546-0fb940463a1c"
      },
      "id": "-w0qfwhGbhlF",
      "execution_count": 32,
      "outputs": [
        {
          "output_type": "execute_result",
          "data": {
            "text/plain": [
              "<AxesSubplot:title={'center':'Monthly'}, xlabel='Datetime'>"
            ]
          },
          "metadata": {},
          "execution_count": 32
        },
        {
          "output_type": "display_data",
          "data": {
            "text/plain": [
              "<Figure size 1080x432 with 4 Axes>"
            ],
            "image/png": "[encoded data removed]"
          },
          "metadata": {
            "needs_background": "light"
          }
        }
      ]
    },
    {
      "cell_type": "code",
      "source": [],
      "metadata": {
        "id": "hDxtvDLEb_mO"
      },
      "id": "hDxtvDLEb_mO",
      "execution_count": 32,
      "outputs": []
    },
    {
      "cell_type": "markdown",
      "source": [
        "It will become hectic to convert monthly predictions to hourly, so we will work with day level aggragated series"
      ],
      "metadata": {
        "id": "-n8ZmwYhdCU0"
      },
      "id": "-n8ZmwYhdCU0"
    },
    {
      "cell_type": "code",
      "source": [
        "test_orignal.head()"
      ],
      "metadata": {
        "colab": {
          "base_uri": "https://localhost:8080/",
          "height": 206
        },
        "id": "WMfc7rd7dwIX",
        "outputId": "6cfccc39-5f04-4d02-a5ff-5c781eb50899"
      },
      "id": "WMfc7rd7dwIX",
      "execution_count": 33,
      "outputs": [
        {
          "output_type": "execute_result",
          "data": {
            "text/plain": [
              "      ID            Datetime  year  month  day  Hour\n",
              "0  18288 2014-09-26 00:00:00  2014      9   26     0\n",
              "1  18289 2014-09-26 01:00:00  2014      9   26     1\n",
              "2  18290 2014-09-26 02:00:00  2014      9   26     2\n",
              "3  18291 2014-09-26 03:00:00  2014      9   26     3\n",
              "4  18292 2014-09-26 04:00:00  2014      9   26     4"
            ],
            "text/html": [
              "<div>\n",
              "<style scoped>\n",
              "    .dataframe tbody tr th:only-of-type {\n",
              "        vertical-align: middle;\n",
              "    }\n",
              "\n",
              "    .dataframe tbody tr th {\n",
              "        vertical-align: top;\n",
              "    }\n",
              "\n",
              "    .dataframe thead th {\n",
              "        text-align: right;\n",
              "    }\n",
              "</style>\n",
              "<table border=\"1\" class=\"dataframe\">\n",
              "  <thead>\n",
              "    <tr style=\"text-align: right;\">\n",
              "      <th></th>\n",
              "      <th>ID</th>\n",
              "      <th>Datetime</th>\n",
              "      <th>year</th>\n",
              "      <th>month</th>\n",
              "      <th>day</th>\n",
              "      <th>Hour</th>\n",
              "    </tr>\n",
              "  </thead>\n",
              "  <tbody>\n",
              "    <tr>\n",
              "      <th>0</th>\n",
              "      <td>18288</td>\n",
              "      <td>2014-09-26 00:00:00</td>\n",
              "      <td>2014</td>\n",
              "      <td>9</td>\n",
              "      <td>26</td>\n",
              "      <td>0</td>\n",
              "    </tr>\n",
              "    <tr>\n",
              "      <th>1</th>\n",
              "      <td>18289</td>\n",
              "      <td>2014-09-26 01:00:00</td>\n",
              "      <td>2014</td>\n",
              "      <td>9</td>\n",
              "      <td>26</td>\n",
              "      <td>1</td>\n",
              "    </tr>\n",
              "    <tr>\n",
              "      <th>2</th>\n",
              "      <td>18290</td>\n",
              "      <td>2014-09-26 02:00:00</td>\n",
              "      <td>2014</td>\n",
              "      <td>9</td>\n",
              "      <td>26</td>\n",
              "      <td>2</td>\n",
              "    </tr>\n",
              "    <tr>\n",
              "      <th>3</th>\n",
              "      <td>18291</td>\n",
              "      <td>2014-09-26 03:00:00</td>\n",
              "      <td>2014</td>\n",
              "      <td>9</td>\n",
              "      <td>26</td>\n",
              "      <td>3</td>\n",
              "    </tr>\n",
              "    <tr>\n",
              "      <th>4</th>\n",
              "      <td>18292</td>\n",
              "      <td>2014-09-26 04:00:00</td>\n",
              "      <td>2014</td>\n",
              "      <td>9</td>\n",
              "      <td>26</td>\n",
              "      <td>4</td>\n",
              "    </tr>\n",
              "  </tbody>\n",
              "</table>\n",
              "</div>"
            ]
          },
          "metadata": {},
          "execution_count": 33
        }
      ]
    },
    {
      "cell_type": "code",
      "source": [
        "test.Timestamp = pd.to_datetime(test.Datetime, format = \"%d-%m-%Y %H:%M\")\n",
        "test.index = test.Timestamp"
      ],
      "metadata": {
        "id": "0ZTRDsW5dMPC"
      },
      "id": "0ZTRDsW5dMPC",
      "execution_count": 34,
      "outputs": []
    },
    {
      "cell_type": "code",
      "source": [
        "# Converting test data to day level\n",
        "test = test.resample('D').mean()\n",
        "test.head()"
      ],
      "metadata": {
        "colab": {
          "base_uri": "https://localhost:8080/",
          "height": 238
        },
        "id": "f1XMnNzRdZZz",
        "outputId": "16720d06-abf6-4bef-c4fc-0d7972e7d5c0"
      },
      "id": "f1XMnNzRdZZz",
      "execution_count": 35,
      "outputs": [
        {
          "output_type": "execute_result",
          "data": {
            "text/plain": [
              "                 ID    year  month   day  Hour\n",
              "Datetime                                      \n",
              "2014-09-26  18299.5  2014.0    9.0  26.0  11.5\n",
              "2014-09-27  18323.5  2014.0    9.0  27.0  11.5\n",
              "2014-09-28  18347.5  2014.0    9.0  28.0  11.5\n",
              "2014-09-29  18371.5  2014.0    9.0  29.0  11.5\n",
              "2014-09-30  18395.5  2014.0    9.0  30.0  11.5"
            ],
            "text/html": [
              "<div>\n",
              "<style scoped>\n",
              "    .dataframe tbody tr th:only-of-type {\n",
              "        vertical-align: middle;\n",
              "    }\n",
              "\n",
              "    .dataframe tbody tr th {\n",
              "        vertical-align: top;\n",
              "    }\n",
              "\n",
              "    .dataframe thead th {\n",
              "        text-align: right;\n",
              "    }\n",
              "</style>\n",
              "<table border=\"1\" class=\"dataframe\">\n",
              "  <thead>\n",
              "    <tr style=\"text-align: right;\">\n",
              "      <th></th>\n",
              "      <th>ID</th>\n",
              "      <th>year</th>\n",
              "      <th>month</th>\n",
              "      <th>day</th>\n",
              "      <th>Hour</th>\n",
              "    </tr>\n",
              "    <tr>\n",
              "      <th>Datetime</th>\n",
              "      <th></th>\n",
              "      <th></th>\n",
              "      <th></th>\n",
              "      <th></th>\n",
              "      <th></th>\n",
              "    </tr>\n",
              "  </thead>\n",
              "  <tbody>\n",
              "    <tr>\n",
              "      <th>2014-09-26</th>\n",
              "      <td>18299.5</td>\n",
              "      <td>2014.0</td>\n",
              "      <td>9.0</td>\n",
              "      <td>26.0</td>\n",
              "      <td>11.5</td>\n",
              "    </tr>\n",
              "    <tr>\n",
              "      <th>2014-09-27</th>\n",
              "      <td>18323.5</td>\n",
              "      <td>2014.0</td>\n",
              "      <td>9.0</td>\n",
              "      <td>27.0</td>\n",
              "      <td>11.5</td>\n",
              "    </tr>\n",
              "    <tr>\n",
              "      <th>2014-09-28</th>\n",
              "      <td>18347.5</td>\n",
              "      <td>2014.0</td>\n",
              "      <td>9.0</td>\n",
              "      <td>28.0</td>\n",
              "      <td>11.5</td>\n",
              "    </tr>\n",
              "    <tr>\n",
              "      <th>2014-09-29</th>\n",
              "      <td>18371.5</td>\n",
              "      <td>2014.0</td>\n",
              "      <td>9.0</td>\n",
              "      <td>29.0</td>\n",
              "      <td>11.5</td>\n",
              "    </tr>\n",
              "    <tr>\n",
              "      <th>2014-09-30</th>\n",
              "      <td>18395.5</td>\n",
              "      <td>2014.0</td>\n",
              "      <td>9.0</td>\n",
              "      <td>30.0</td>\n",
              "      <td>11.5</td>\n",
              "    </tr>\n",
              "  </tbody>\n",
              "</table>\n",
              "</div>"
            ]
          },
          "metadata": {},
          "execution_count": 35
        }
      ]
    },
    {
      "cell_type": "code",
      "source": [
        "train = daily.copy()\n",
        "train.head()"
      ],
      "metadata": {
        "colab": {
          "base_uri": "https://localhost:8080/",
          "height": 238
        },
        "id": "H2pJ5unFddxb",
        "outputId": "1ef36699-068a-42f8-b6cc-a4f77455cc43"
      },
      "id": "H2pJ5unFddxb",
      "execution_count": 36,
      "outputs": [
        {
          "output_type": "execute_result",
          "data": {
            "text/plain": [
              "               Count    year  month   day  Hour  day of week  weekend\n",
              "Datetime                                                             \n",
              "2012-08-25  3.166667  2012.0    8.0  25.0  11.5          5.0      1.0\n",
              "2012-08-26  3.666667  2012.0    8.0  26.0  11.5          6.0      1.0\n",
              "2012-08-27  2.583333  2012.0    8.0  27.0  11.5          0.0      0.0\n",
              "2012-08-28  2.416667  2012.0    8.0  28.0  11.5          1.0      0.0\n",
              "2012-08-29  2.500000  2012.0    8.0  29.0  11.5          2.0      0.0"
            ],
            "text/html": [
              "<div>\n",
              "<style scoped>\n",
              "    .dataframe tbody tr th:only-of-type {\n",
              "        vertical-align: middle;\n",
              "    }\n",
              "\n",
              "    .dataframe tbody tr th {\n",
              "        vertical-align: top;\n",
              "    }\n",
              "\n",
              "    .dataframe thead th {\n",
              "        text-align: right;\n",
              "    }\n",
              "</style>\n",
              "<table border=\"1\" class=\"dataframe\">\n",
              "  <thead>\n",
              "    <tr style=\"text-align: right;\">\n",
              "      <th></th>\n",
              "      <th>Count</th>\n",
              "      <th>year</th>\n",
              "      <th>month</th>\n",
              "      <th>day</th>\n",
              "      <th>Hour</th>\n",
              "      <th>day of week</th>\n",
              "      <th>weekend</th>\n",
              "    </tr>\n",
              "    <tr>\n",
              "      <th>Datetime</th>\n",
              "      <th></th>\n",
              "      <th></th>\n",
              "      <th></th>\n",
              "      <th></th>\n",
              "      <th></th>\n",
              "      <th></th>\n",
              "      <th></th>\n",
              "    </tr>\n",
              "  </thead>\n",
              "  <tbody>\n",
              "    <tr>\n",
              "      <th>2012-08-25</th>\n",
              "      <td>3.166667</td>\n",
              "      <td>2012.0</td>\n",
              "      <td>8.0</td>\n",
              "      <td>25.0</td>\n",
              "      <td>11.5</td>\n",
              "      <td>5.0</td>\n",
              "      <td>1.0</td>\n",
              "    </tr>\n",
              "    <tr>\n",
              "      <th>2012-08-26</th>\n",
              "      <td>3.666667</td>\n",
              "      <td>2012.0</td>\n",
              "      <td>8.0</td>\n",
              "      <td>26.0</td>\n",
              "      <td>11.5</td>\n",
              "      <td>6.0</td>\n",
              "      <td>1.0</td>\n",
              "    </tr>\n",
              "    <tr>\n",
              "      <th>2012-08-27</th>\n",
              "      <td>2.583333</td>\n",
              "      <td>2012.0</td>\n",
              "      <td>8.0</td>\n",
              "      <td>27.0</td>\n",
              "      <td>11.5</td>\n",
              "      <td>0.0</td>\n",
              "      <td>0.0</td>\n",
              "    </tr>\n",
              "    <tr>\n",
              "      <th>2012-08-28</th>\n",
              "      <td>2.416667</td>\n",
              "      <td>2012.0</td>\n",
              "      <td>8.0</td>\n",
              "      <td>28.0</td>\n",
              "      <td>11.5</td>\n",
              "      <td>1.0</td>\n",
              "      <td>0.0</td>\n",
              "    </tr>\n",
              "    <tr>\n",
              "      <th>2012-08-29</th>\n",
              "      <td>2.500000</td>\n",
              "      <td>2012.0</td>\n",
              "      <td>8.0</td>\n",
              "      <td>29.0</td>\n",
              "      <td>11.5</td>\n",
              "      <td>2.0</td>\n",
              "      <td>0.0</td>\n",
              "    </tr>\n",
              "  </tbody>\n",
              "</table>\n",
              "</div>"
            ]
          },
          "metadata": {},
          "execution_count": 36
        }
      ]
    },
    {
      "cell_type": "code",
      "source": [],
      "metadata": {
        "id": "Vf5zyChBeV0m"
      },
      "id": "Vf5zyChBeV0m",
      "execution_count": 36,
      "outputs": []
    },
    {
      "cell_type": "markdown",
      "source": [
        "# Building Model"
      ],
      "metadata": {
        "id": "aycpAa8mhXFS"
      },
      "id": "aycpAa8mhXFS"
    },
    {
      "cell_type": "markdown",
      "source": [
        "## Building Loss Functions"
      ],
      "metadata": {
        "id": "3b9mBKYA41pb"
      },
      "id": "3b9mBKYA41pb"
    },
    {
      "cell_type": "code",
      "source": [
        "# RMSE\n",
        "\n",
        "from sklearn.metrics import mean_squared_error\n",
        "from math import sqrt\n",
        "\n",
        "def RMSE(Actual, Predicted):\n",
        "  rms = sqrt(mean_squared_error(Actual, Predicted))\n",
        "  return rms"
      ],
      "metadata": {
        "id": "bnNjXlPI5Bgm"
      },
      "id": "bnNjXlPI5Bgm",
      "execution_count": 76,
      "outputs": []
    },
    {
      "cell_type": "markdown",
      "source": [
        "## Train-Val Split"
      ],
      "metadata": {
        "id": "6vyrMZr1R1Yn"
      },
      "id": "6vyrMZr1R1Yn"
    },
    {
      "cell_type": "code",
      "source": [
        "train.groupby(['year', 'month']).year.value_counts()"
      ],
      "metadata": {
        "colab": {
          "base_uri": "https://localhost:8080/"
        },
        "id": "njEKl0uTybKI",
        "outputId": "c2673120-9cb6-4004-916c-5029c43877c6"
      },
      "id": "njEKl0uTybKI",
      "execution_count": 43,
      "outputs": [
        {
          "output_type": "execute_result",
          "data": {
            "text/plain": [
              "year    month  year  \n",
              "2012.0  8.0    2012.0     7\n",
              "        9.0    2012.0    30\n",
              "        10.0   2012.0    31\n",
              "        11.0   2012.0    30\n",
              "        12.0   2012.0    31\n",
              "2013.0  1.0    2013.0    31\n",
              "        2.0    2013.0    28\n",
              "        3.0    2013.0    31\n",
              "        4.0    2013.0    30\n",
              "        5.0    2013.0    31\n",
              "        6.0    2013.0    30\n",
              "        7.0    2013.0    31\n",
              "        8.0    2013.0    31\n",
              "        9.0    2013.0    30\n",
              "        10.0   2013.0    31\n",
              "        11.0   2013.0    30\n",
              "        12.0   2013.0    31\n",
              "2014.0  1.0    2014.0    31\n",
              "        2.0    2014.0    28\n",
              "        3.0    2014.0    31\n",
              "        4.0    2014.0    30\n",
              "        5.0    2014.0    31\n",
              "        6.0    2014.0    30\n",
              "        7.0    2014.0    31\n",
              "        8.0    2014.0    31\n",
              "        9.0    2014.0    25\n",
              "Name: year, dtype: int64"
            ]
          },
          "metadata": {},
          "execution_count": 43
        }
      ]
    },
    {
      "cell_type": "code",
      "source": [
        "# Data is fpr 26 months, taking last 3 months of data as vel set.\n",
        "\n",
        "train.head()"
      ],
      "metadata": {
        "colab": {
          "base_uri": "https://localhost:8080/",
          "height": 238
        },
        "id": "nInSW5bSUD9a",
        "outputId": "15b578ca-86cb-4046-a900-67b1588f0e5d"
      },
      "id": "nInSW5bSUD9a",
      "execution_count": 45,
      "outputs": [
        {
          "output_type": "execute_result",
          "data": {
            "text/plain": [
              "               Count    year  month   day  Hour  day of week  weekend\n",
              "Datetime                                                             \n",
              "2012-08-25  3.166667  2012.0    8.0  25.0  11.5          5.0      1.0\n",
              "2012-08-26  3.666667  2012.0    8.0  26.0  11.5          6.0      1.0\n",
              "2012-08-27  2.583333  2012.0    8.0  27.0  11.5          0.0      0.0\n",
              "2012-08-28  2.416667  2012.0    8.0  28.0  11.5          1.0      0.0\n",
              "2012-08-29  2.500000  2012.0    8.0  29.0  11.5          2.0      0.0"
            ],
            "text/html": [
              "<div>\n",
              "<style scoped>\n",
              "    .dataframe tbody tr th:only-of-type {\n",
              "        vertical-align: middle;\n",
              "    }\n",
              "\n",
              "    .dataframe tbody tr th {\n",
              "        vertical-align: top;\n",
              "    }\n",
              "\n",
              "    .dataframe thead th {\n",
              "        text-align: right;\n",
              "    }\n",
              "</style>\n",
              "<table border=\"1\" class=\"dataframe\">\n",
              "  <thead>\n",
              "    <tr style=\"text-align: right;\">\n",
              "      <th></th>\n",
              "      <th>Count</th>\n",
              "      <th>year</th>\n",
              "      <th>month</th>\n",
              "      <th>day</th>\n",
              "      <th>Hour</th>\n",
              "      <th>day of week</th>\n",
              "      <th>weekend</th>\n",
              "    </tr>\n",
              "    <tr>\n",
              "      <th>Datetime</th>\n",
              "      <th></th>\n",
              "      <th></th>\n",
              "      <th></th>\n",
              "      <th></th>\n",
              "      <th></th>\n",
              "      <th></th>\n",
              "      <th></th>\n",
              "    </tr>\n",
              "  </thead>\n",
              "  <tbody>\n",
              "    <tr>\n",
              "      <th>2012-08-25</th>\n",
              "      <td>3.166667</td>\n",
              "      <td>2012.0</td>\n",
              "      <td>8.0</td>\n",
              "      <td>25.0</td>\n",
              "      <td>11.5</td>\n",
              "      <td>5.0</td>\n",
              "      <td>1.0</td>\n",
              "    </tr>\n",
              "    <tr>\n",
              "      <th>2012-08-26</th>\n",
              "      <td>3.666667</td>\n",
              "      <td>2012.0</td>\n",
              "      <td>8.0</td>\n",
              "      <td>26.0</td>\n",
              "      <td>11.5</td>\n",
              "      <td>6.0</td>\n",
              "      <td>1.0</td>\n",
              "    </tr>\n",
              "    <tr>\n",
              "      <th>2012-08-27</th>\n",
              "      <td>2.583333</td>\n",
              "      <td>2012.0</td>\n",
              "      <td>8.0</td>\n",
              "      <td>27.0</td>\n",
              "      <td>11.5</td>\n",
              "      <td>0.0</td>\n",
              "      <td>0.0</td>\n",
              "    </tr>\n",
              "    <tr>\n",
              "      <th>2012-08-28</th>\n",
              "      <td>2.416667</td>\n",
              "      <td>2012.0</td>\n",
              "      <td>8.0</td>\n",
              "      <td>28.0</td>\n",
              "      <td>11.5</td>\n",
              "      <td>1.0</td>\n",
              "      <td>0.0</td>\n",
              "    </tr>\n",
              "    <tr>\n",
              "      <th>2012-08-29</th>\n",
              "      <td>2.500000</td>\n",
              "      <td>2012.0</td>\n",
              "      <td>8.0</td>\n",
              "      <td>29.0</td>\n",
              "      <td>11.5</td>\n",
              "      <td>2.0</td>\n",
              "      <td>0.0</td>\n",
              "    </tr>\n",
              "  </tbody>\n",
              "</table>\n",
              "</div>"
            ]
          },
          "metadata": {},
          "execution_count": 45
        }
      ]
    },
    {
      "cell_type": "code",
      "source": [
        "train.tail()"
      ],
      "metadata": {
        "colab": {
          "base_uri": "https://localhost:8080/",
          "height": 238
        },
        "id": "zGR9lmHAUwxj",
        "outputId": "b0d0962f-5af3-43a9-ffb7-931229ef7dd3"
      },
      "id": "zGR9lmHAUwxj",
      "execution_count": 47,
      "outputs": [
        {
          "output_type": "execute_result",
          "data": {
            "text/plain": [
              "                 Count    year  month   day  Hour  day of week  weekend\n",
              "Datetime                                                               \n",
              "2014-09-21  379.250000  2014.0    9.0  21.0  11.5          6.0      1.0\n",
              "2014-09-22  588.166667  2014.0    9.0  22.0  11.5          0.0      0.0\n",
              "2014-09-23  554.333333  2014.0    9.0  23.0  11.5          1.0      0.0\n",
              "2014-09-24  702.333333  2014.0    9.0  24.0  11.5          2.0      0.0\n",
              "2014-09-25  589.666667  2014.0    9.0  25.0  11.5          3.0      0.0"
            ],
            "text/html": [
              "<div>\n",
              "<style scoped>\n",
              "    .dataframe tbody tr th:only-of-type {\n",
              "        vertical-align: middle;\n",
              "    }\n",
              "\n",
              "    .dataframe tbody tr th {\n",
              "        vertical-align: top;\n",
              "    }\n",
              "\n",
              "    .dataframe thead th {\n",
              "        text-align: right;\n",
              "    }\n",
              "</style>\n",
              "<table border=\"1\" class=\"dataframe\">\n",
              "  <thead>\n",
              "    <tr style=\"text-align: right;\">\n",
              "      <th></th>\n",
              "      <th>Count</th>\n",
              "      <th>year</th>\n",
              "      <th>month</th>\n",
              "      <th>day</th>\n",
              "      <th>Hour</th>\n",
              "      <th>day of week</th>\n",
              "      <th>weekend</th>\n",
              "    </tr>\n",
              "    <tr>\n",
              "      <th>Datetime</th>\n",
              "      <th></th>\n",
              "      <th></th>\n",
              "      <th></th>\n",
              "      <th></th>\n",
              "      <th></th>\n",
              "      <th></th>\n",
              "      <th></th>\n",
              "    </tr>\n",
              "  </thead>\n",
              "  <tbody>\n",
              "    <tr>\n",
              "      <th>2014-09-21</th>\n",
              "      <td>379.250000</td>\n",
              "      <td>2014.0</td>\n",
              "      <td>9.0</td>\n",
              "      <td>21.0</td>\n",
              "      <td>11.5</td>\n",
              "      <td>6.0</td>\n",
              "      <td>1.0</td>\n",
              "    </tr>\n",
              "    <tr>\n",
              "      <th>2014-09-22</th>\n",
              "      <td>588.166667</td>\n",
              "      <td>2014.0</td>\n",
              "      <td>9.0</td>\n",
              "      <td>22.0</td>\n",
              "      <td>11.5</td>\n",
              "      <td>0.0</td>\n",
              "      <td>0.0</td>\n",
              "    </tr>\n",
              "    <tr>\n",
              "      <th>2014-09-23</th>\n",
              "      <td>554.333333</td>\n",
              "      <td>2014.0</td>\n",
              "      <td>9.0</td>\n",
              "      <td>23.0</td>\n",
              "      <td>11.5</td>\n",
              "      <td>1.0</td>\n",
              "      <td>0.0</td>\n",
              "    </tr>\n",
              "    <tr>\n",
              "      <th>2014-09-24</th>\n",
              "      <td>702.333333</td>\n",
              "      <td>2014.0</td>\n",
              "      <td>9.0</td>\n",
              "      <td>24.0</td>\n",
              "      <td>11.5</td>\n",
              "      <td>2.0</td>\n",
              "      <td>0.0</td>\n",
              "    </tr>\n",
              "    <tr>\n",
              "      <th>2014-09-25</th>\n",
              "      <td>589.666667</td>\n",
              "      <td>2014.0</td>\n",
              "      <td>9.0</td>\n",
              "      <td>25.0</td>\n",
              "      <td>11.5</td>\n",
              "      <td>3.0</td>\n",
              "      <td>0.0</td>\n",
              "    </tr>\n",
              "  </tbody>\n",
              "</table>\n",
              "</div>"
            ]
          },
          "metadata": {},
          "execution_count": 47
        }
      ]
    },
    {
      "cell_type": "code",
      "source": [
        "Train = train.loc['2012-08-25': '2014-06-24']\n",
        "val = train.loc['2014-06-25': '2014-09-25']\n",
        "\n",
        "Train.shape, val.shape"
      ],
      "metadata": {
        "colab": {
          "base_uri": "https://localhost:8080/"
        },
        "id": "_Nmhx2BFU9g4",
        "outputId": "9f803084-e1e2-4d77-efd3-a0426a37f91d"
      },
      "id": "_Nmhx2BFU9g4",
      "execution_count": 57,
      "outputs": [
        {
          "output_type": "execute_result",
          "data": {
            "text/plain": [
              "((669, 7), (93, 7))"
            ]
          },
          "metadata": {},
          "execution_count": 57
        }
      ]
    },
    {
      "cell_type": "code",
      "source": [
        "Train.head()"
      ],
      "metadata": {
        "colab": {
          "base_uri": "https://localhost:8080/",
          "height": 238
        },
        "id": "4xoFGaqxVSoZ",
        "outputId": "a7dd6851-5653-42b8-efbb-79754a7dfcc8"
      },
      "id": "4xoFGaqxVSoZ",
      "execution_count": 58,
      "outputs": [
        {
          "output_type": "execute_result",
          "data": {
            "text/plain": [
              "               Count    year  month   day  Hour  day of week  weekend\n",
              "Datetime                                                             \n",
              "2012-08-25  3.166667  2012.0    8.0  25.0  11.5          5.0      1.0\n",
              "2012-08-26  3.666667  2012.0    8.0  26.0  11.5          6.0      1.0\n",
              "2012-08-27  2.583333  2012.0    8.0  27.0  11.5          0.0      0.0\n",
              "2012-08-28  2.416667  2012.0    8.0  28.0  11.5          1.0      0.0\n",
              "2012-08-29  2.500000  2012.0    8.0  29.0  11.5          2.0      0.0"
            ],
            "text/html": [
              "<div>\n",
              "<style scoped>\n",
              "    .dataframe tbody tr th:only-of-type {\n",
              "        vertical-align: middle;\n",
              "    }\n",
              "\n",
              "    .dataframe tbody tr th {\n",
              "        vertical-align: top;\n",
              "    }\n",
              "\n",
              "    .dataframe thead th {\n",
              "        text-align: right;\n",
              "    }\n",
              "</style>\n",
              "<table border=\"1\" class=\"dataframe\">\n",
              "  <thead>\n",
              "    <tr style=\"text-align: right;\">\n",
              "      <th></th>\n",
              "      <th>Count</th>\n",
              "      <th>year</th>\n",
              "      <th>month</th>\n",
              "      <th>day</th>\n",
              "      <th>Hour</th>\n",
              "      <th>day of week</th>\n",
              "      <th>weekend</th>\n",
              "    </tr>\n",
              "    <tr>\n",
              "      <th>Datetime</th>\n",
              "      <th></th>\n",
              "      <th></th>\n",
              "      <th></th>\n",
              "      <th></th>\n",
              "      <th></th>\n",
              "      <th></th>\n",
              "      <th></th>\n",
              "    </tr>\n",
              "  </thead>\n",
              "  <tbody>\n",
              "    <tr>\n",
              "      <th>2012-08-25</th>\n",
              "      <td>3.166667</td>\n",
              "      <td>2012.0</td>\n",
              "      <td>8.0</td>\n",
              "      <td>25.0</td>\n",
              "      <td>11.5</td>\n",
              "      <td>5.0</td>\n",
              "      <td>1.0</td>\n",
              "    </tr>\n",
              "    <tr>\n",
              "      <th>2012-08-26</th>\n",
              "      <td>3.666667</td>\n",
              "      <td>2012.0</td>\n",
              "      <td>8.0</td>\n",
              "      <td>26.0</td>\n",
              "      <td>11.5</td>\n",
              "      <td>6.0</td>\n",
              "      <td>1.0</td>\n",
              "    </tr>\n",
              "    <tr>\n",
              "      <th>2012-08-27</th>\n",
              "      <td>2.583333</td>\n",
              "      <td>2012.0</td>\n",
              "      <td>8.0</td>\n",
              "      <td>27.0</td>\n",
              "      <td>11.5</td>\n",
              "      <td>0.0</td>\n",
              "      <td>0.0</td>\n",
              "    </tr>\n",
              "    <tr>\n",
              "      <th>2012-08-28</th>\n",
              "      <td>2.416667</td>\n",
              "      <td>2012.0</td>\n",
              "      <td>8.0</td>\n",
              "      <td>28.0</td>\n",
              "      <td>11.5</td>\n",
              "      <td>1.0</td>\n",
              "      <td>0.0</td>\n",
              "    </tr>\n",
              "    <tr>\n",
              "      <th>2012-08-29</th>\n",
              "      <td>2.500000</td>\n",
              "      <td>2012.0</td>\n",
              "      <td>8.0</td>\n",
              "      <td>29.0</td>\n",
              "      <td>11.5</td>\n",
              "      <td>2.0</td>\n",
              "      <td>0.0</td>\n",
              "    </tr>\n",
              "  </tbody>\n",
              "</table>\n",
              "</div>"
            ]
          },
          "metadata": {},
          "execution_count": 58
        }
      ]
    },
    {
      "cell_type": "code",
      "source": [
        "val.head()"
      ],
      "metadata": {
        "colab": {
          "base_uri": "https://localhost:8080/",
          "height": 238
        },
        "id": "3o91xBR7VcMv",
        "outputId": "c12a204b-b7a2-42b1-fed8-18a65deffbc8"
      },
      "id": "3o91xBR7VcMv",
      "execution_count": 59,
      "outputs": [
        {
          "output_type": "execute_result",
          "data": {
            "text/plain": [
              "                 Count    year  month   day  Hour  day of week  weekend\n",
              "Datetime                                                               \n",
              "2014-06-25  353.666667  2014.0    6.0  25.0  11.5          2.0      0.0\n",
              "2014-06-26  395.250000  2014.0    6.0  26.0  11.5          3.0      0.0\n",
              "2014-06-27  282.333333  2014.0    6.0  27.0  11.5          4.0      0.0\n",
              "2014-06-28  218.250000  2014.0    6.0  28.0  11.5          5.0      1.0\n",
              "2014-06-29  196.250000  2014.0    6.0  29.0  11.5          6.0      1.0"
            ],
            "text/html": [
              "<div>\n",
              "<style scoped>\n",
              "    .dataframe tbody tr th:only-of-type {\n",
              "        vertical-align: middle;\n",
              "    }\n",
              "\n",
              "    .dataframe tbody tr th {\n",
              "        vertical-align: top;\n",
              "    }\n",
              "\n",
              "    .dataframe thead th {\n",
              "        text-align: right;\n",
              "    }\n",
              "</style>\n",
              "<table border=\"1\" class=\"dataframe\">\n",
              "  <thead>\n",
              "    <tr style=\"text-align: right;\">\n",
              "      <th></th>\n",
              "      <th>Count</th>\n",
              "      <th>year</th>\n",
              "      <th>month</th>\n",
              "      <th>day</th>\n",
              "      <th>Hour</th>\n",
              "      <th>day of week</th>\n",
              "      <th>weekend</th>\n",
              "    </tr>\n",
              "    <tr>\n",
              "      <th>Datetime</th>\n",
              "      <th></th>\n",
              "      <th></th>\n",
              "      <th></th>\n",
              "      <th></th>\n",
              "      <th></th>\n",
              "      <th></th>\n",
              "      <th></th>\n",
              "    </tr>\n",
              "  </thead>\n",
              "  <tbody>\n",
              "    <tr>\n",
              "      <th>2014-06-25</th>\n",
              "      <td>353.666667</td>\n",
              "      <td>2014.0</td>\n",
              "      <td>6.0</td>\n",
              "      <td>25.0</td>\n",
              "      <td>11.5</td>\n",
              "      <td>2.0</td>\n",
              "      <td>0.0</td>\n",
              "    </tr>\n",
              "    <tr>\n",
              "      <th>2014-06-26</th>\n",
              "      <td>395.250000</td>\n",
              "      <td>2014.0</td>\n",
              "      <td>6.0</td>\n",
              "      <td>26.0</td>\n",
              "      <td>11.5</td>\n",
              "      <td>3.0</td>\n",
              "      <td>0.0</td>\n",
              "    </tr>\n",
              "    <tr>\n",
              "      <th>2014-06-27</th>\n",
              "      <td>282.333333</td>\n",
              "      <td>2014.0</td>\n",
              "      <td>6.0</td>\n",
              "      <td>27.0</td>\n",
              "      <td>11.5</td>\n",
              "      <td>4.0</td>\n",
              "      <td>0.0</td>\n",
              "    </tr>\n",
              "    <tr>\n",
              "      <th>2014-06-28</th>\n",
              "      <td>218.250000</td>\n",
              "      <td>2014.0</td>\n",
              "      <td>6.0</td>\n",
              "      <td>28.0</td>\n",
              "      <td>11.5</td>\n",
              "      <td>5.0</td>\n",
              "      <td>1.0</td>\n",
              "    </tr>\n",
              "    <tr>\n",
              "      <th>2014-06-29</th>\n",
              "      <td>196.250000</td>\n",
              "      <td>2014.0</td>\n",
              "      <td>6.0</td>\n",
              "      <td>29.0</td>\n",
              "      <td>11.5</td>\n",
              "      <td>6.0</td>\n",
              "      <td>1.0</td>\n",
              "    </tr>\n",
              "  </tbody>\n",
              "</table>\n",
              "</div>"
            ]
          },
          "metadata": {},
          "execution_count": 59
        }
      ]
    },
    {
      "cell_type": "code",
      "source": [
        "# plotting the train-val split\n",
        "\n",
        "Train.Count.plot(figsize = (15,8), title = 'Daily Riders', fontsize = 14, label = 'Train')\n",
        "val.Count.plot(figsize = (15,8), title = 'Daily Riders', fontsize = 14, label = 'Val')\n",
        "\n",
        "plt.ylabel('Passenger Count')\n",
        "plt.xlabel('Date')\n",
        "plt.legend(loc = 'best')\n",
        "plt.show()"
      ],
      "metadata": {
        "colab": {
          "base_uri": "https://localhost:8080/",
          "height": 496
        },
        "id": "uMZaaNfGVdEC",
        "outputId": "08260028-a09d-4f9c-e567-4f96b0b7465d"
      },
      "id": "uMZaaNfGVdEC",
      "execution_count": 60,
      "outputs": [
        {
          "output_type": "display_data",
          "data": {
            "text/plain": [
              "<Figure size 1080x576 with 1 Axes>"
            ],
            "image/png": "[encoded data removed]"
          },
          "metadata": {
            "needs_background": "light"
          }
        }
      ]
    },
    {
      "cell_type": "code",
      "source": [],
      "metadata": {
        "id": "8Wyq_yb7xcBv"
      },
      "id": "8Wyq_yb7xcBv",
      "execution_count": null,
      "outputs": []
    },
    {
      "cell_type": "markdown",
      "source": [
        "## Model 1: Naive Approach"
      ],
      "metadata": {
        "id": "5ML069XUzWyr"
      },
      "id": "5ML069XUzWyr"
    },
    {
      "cell_type": "code",
      "source": [
        "dd = np.asarray(Train.Count) # Making the array\n",
        "y_hat = val.copy()    #Copying the val into y_hat for naive prediction\n",
        "y_hat['naive'] = dd[len(dd) - 1] # Assigning the last value of train to y_hat\n",
        "y_hat.head()"
      ],
      "metadata": {
        "colab": {
          "base_uri": "https://localhost:8080/",
          "height": 238
        },
        "id": "yegzr8YAzac9",
        "outputId": "909877ae-9240-4b37-ad20-90abb73ce903"
      },
      "id": "yegzr8YAzac9",
      "execution_count": 65,
      "outputs": [
        {
          "output_type": "execute_result",
          "data": {
            "text/plain": [
              "                 Count    year  month   day  Hour  day of week  weekend  \\\n",
              "Datetime                                                                  \n",
              "2014-06-25  353.666667  2014.0    6.0  25.0  11.5          2.0      0.0   \n",
              "2014-06-26  395.250000  2014.0    6.0  26.0  11.5          3.0      0.0   \n",
              "2014-06-27  282.333333  2014.0    6.0  27.0  11.5          4.0      0.0   \n",
              "2014-06-28  218.250000  2014.0    6.0  28.0  11.5          5.0      1.0   \n",
              "2014-06-29  196.250000  2014.0    6.0  29.0  11.5          6.0      1.0   \n",
              "\n",
              "                 naive  \n",
              "Datetime                \n",
              "2014-06-25  372.166667  \n",
              "2014-06-26  372.166667  \n",
              "2014-06-27  372.166667  \n",
              "2014-06-28  372.166667  \n",
              "2014-06-29  372.166667  "
            ],
            "text/html": [
              "<div>\n",
              "<style scoped>\n",
              "    .dataframe tbody tr th:only-of-type {\n",
              "        vertical-align: middle;\n",
              "    }\n",
              "\n",
              "    .dataframe tbody tr th {\n",
              "        vertical-align: top;\n",
              "    }\n",
              "\n",
              "    .dataframe thead th {\n",
              "        text-align: right;\n",
              "    }\n",
              "</style>\n",
              "<table border=\"1\" class=\"dataframe\">\n",
              "  <thead>\n",
              "    <tr style=\"text-align: right;\">\n",
              "      <th></th>\n",
              "      <th>Count</th>\n",
              "      <th>year</th>\n",
              "      <th>month</th>\n",
              "      <th>day</th>\n",
              "      <th>Hour</th>\n",
              "      <th>day of week</th>\n",
              "      <th>weekend</th>\n",
              "      <th>naive</th>\n",
              "    </tr>\n",
              "    <tr>\n",
              "      <th>Datetime</th>\n",
              "      <th></th>\n",
              "      <th></th>\n",
              "      <th></th>\n",
              "      <th></th>\n",
              "      <th></th>\n",
              "      <th></th>\n",
              "      <th></th>\n",
              "      <th></th>\n",
              "    </tr>\n",
              "  </thead>\n",
              "  <tbody>\n",
              "    <tr>\n",
              "      <th>2014-06-25</th>\n",
              "      <td>353.666667</td>\n",
              "      <td>2014.0</td>\n",
              "      <td>6.0</td>\n",
              "      <td>25.0</td>\n",
              "      <td>11.5</td>\n",
              "      <td>2.0</td>\n",
              "      <td>0.0</td>\n",
              "      <td>372.166667</td>\n",
              "    </tr>\n",
              "    <tr>\n",
              "      <th>2014-06-26</th>\n",
              "      <td>395.250000</td>\n",
              "      <td>2014.0</td>\n",
              "      <td>6.0</td>\n",
              "      <td>26.0</td>\n",
              "      <td>11.5</td>\n",
              "      <td>3.0</td>\n",
              "      <td>0.0</td>\n",
              "      <td>372.166667</td>\n",
              "    </tr>\n",
              "    <tr>\n",
              "      <th>2014-06-27</th>\n",
              "      <td>282.333333</td>\n",
              "      <td>2014.0</td>\n",
              "      <td>6.0</td>\n",
              "      <td>27.0</td>\n",
              "      <td>11.5</td>\n",
              "      <td>4.0</td>\n",
              "      <td>0.0</td>\n",
              "      <td>372.166667</td>\n",
              "    </tr>\n",
              "    <tr>\n",
              "      <th>2014-06-28</th>\n",
              "      <td>218.250000</td>\n",
              "      <td>2014.0</td>\n",
              "      <td>6.0</td>\n",
              "      <td>28.0</td>\n",
              "      <td>11.5</td>\n",
              "      <td>5.0</td>\n",
              "      <td>1.0</td>\n",
              "      <td>372.166667</td>\n",
              "    </tr>\n",
              "    <tr>\n",
              "      <th>2014-06-29</th>\n",
              "      <td>196.250000</td>\n",
              "      <td>2014.0</td>\n",
              "      <td>6.0</td>\n",
              "      <td>29.0</td>\n",
              "      <td>11.5</td>\n",
              "      <td>6.0</td>\n",
              "      <td>1.0</td>\n",
              "      <td>372.166667</td>\n",
              "    </tr>\n",
              "  </tbody>\n",
              "</table>\n",
              "</div>"
            ]
          },
          "metadata": {},
          "execution_count": 65
        }
      ]
    },
    {
      "cell_type": "code",
      "source": [
        "# Printing the Train, val, y_hat\n",
        "\n",
        "plt.figure(figsize=(10, 10))\n",
        "plt.plot(Train.index, Train.Count, label = 'Train')\n",
        "plt.plot(val.index, val.Count, label = 'Val')\n",
        "plt.plot(y_hat.index, y_hat.naive, label = 'Naive Prediction')\n",
        "\n",
        "\n",
        "plt.ylabel('Passenger Count')\n",
        "plt.xlabel('Date')\n",
        "plt.legend(loc = 'best')\n",
        "plt.title('Daily Riders')\n",
        "plt.show()"
      ],
      "metadata": {
        "colab": {
          "base_uri": "https://localhost:8080/",
          "height": 621
        },
        "id": "UgaCHPjb2QgM",
        "outputId": "801792b0-330d-4783-a933-acfff2149dea"
      },
      "id": "UgaCHPjb2QgM",
      "execution_count": 75,
      "outputs": [
        {
          "output_type": "display_data",
          "data": {
            "text/plain": [
              "<Figure size 720x720 with 1 Axes>"
            ],
            "image/png": "[encoded data removed]"
          },
          "metadata": {
            "needs_background": "light"
          }
        }
      ]
    },
    {
      "cell_type": "code",
      "source": [
        "print(f'RMSE for Naive method: {RMSE(np.asarray(val.Count), np.asarray(y_hat.naive))}')"
      ],
      "metadata": {
        "colab": {
          "base_uri": "https://localhost:8080/"
        },
        "id": "pJ0WjAwh2TWz",
        "outputId": "198dcbe8-a651-4f33-de05-21d6682a3288"
      },
      "id": "pJ0WjAwh2TWz",
      "execution_count": 87,
      "outputs": [
        {
          "output_type": "stream",
          "name": "stdout",
          "text": [
            "RMSE for Naive method: 111.79050467496724\n"
          ]
        }
      ]
    },
    {
      "cell_type": "code",
      "source": [],
      "metadata": {
        "id": "xUsZla9c6Gxh"
      },
      "id": "xUsZla9c6Gxh",
      "execution_count": null,
      "outputs": []
    },
    {
      "cell_type": "markdown",
      "source": [
        "## Model 2: Moving Average"
      ],
      "metadata": {
        "id": "N7CGqkuc8GVg"
      },
      "id": "N7CGqkuc8GVg"
    },
    {
      "cell_type": "code",
      "source": [
        "y_hat_avg = val.copy()\n",
        "y_hat_avg['moving_avg_forecast_10'] = Train['Count'].rolling(10).mean().iloc[-1] # Average of last 10 values\n",
        "y_hat_avg['moving_avg_forecast_20'] = Train['Count'].rolling(20).mean().iloc[-1] # Average of last 20 values\n",
        "y_hat_avg['moving_avg_forecast_50'] = Train['Count'].rolling(50).mean().iloc[-1] # Average of last 50 values\n",
        "\n",
        "plt.figure(figsize = (10, 10))\n",
        "plt.plot(Train['Count'], label = 'Train')\n",
        "plt.plot(val['Count'], label = 'Val')\n",
        "plt.plot(y_hat_avg['moving_avg_forecast_10'], label = 'Moving Average Forecast using last 10 observations')\n",
        "plt.plot(y_hat_avg['moving_avg_forecast_20'], label = 'Moving Average Forecast using last 20 observations')\n",
        "plt.plot(y_hat_avg['moving_avg_forecast_50'], label = 'Moving Average Forecast using last 50 observations')\n",
        "plt.legend(loc = 'best')\n",
        "plt.show()\n",
        "\n"
      ],
      "metadata": {
        "colab": {
          "base_uri": "https://localhost:8080/",
          "height": 592
        },
        "id": "Soe7rCau8KPw",
        "outputId": "15df03d6-d345-4dbd-b2cd-20038ec21d65"
      },
      "id": "Soe7rCau8KPw",
      "execution_count": 93,
      "outputs": [
        {
          "output_type": "display_data",
          "data": {
            "text/plain": [
              "<Figure size 720x720 with 1 Axes>"
            ],
            "image/png": "[encoded data removed]"
          },
          "metadata": {
            "needs_background": "light"
          }
        }
      ]
    },
    {
      "cell_type": "code",
      "source": [
        "print(f'RMSE for Moving Average with 10 observations method: {RMSE(np.asarray(val.Count), np.asarray(y_hat_avg.moving_avg_forecast_10))}')\n",
        "print(f'RMSE for Moving Average with 20 observations method: {RMSE(np.asarray(val.Count), np.asarray(y_hat_avg.moving_avg_forecast_20))}')\n",
        "print(f'RMSE for Moving Average with 50 observations method: {RMSE(np.asarray(val.Count), np.asarray(y_hat_avg.moving_avg_forecast_50))}')"
      ],
      "metadata": {
        "colab": {
          "base_uri": "https://localhost:8080/"
        },
        "id": "p5uEzccACCTb",
        "outputId": "761375b9-936a-4594-9c80-81302fb96764"
      },
      "id": "p5uEzccACCTb",
      "execution_count": 95,
      "outputs": [
        {
          "output_type": "stream",
          "name": "stdout",
          "text": [
            "RMSE for Moving Average with 10 observations method: 134.23733308950264\n",
            "RMSE for Moving Average with 20 observations method: 130.4498497755042\n",
            "RMSE for Moving Average with 50 observations method: 144.19175679986793\n"
          ]
        }
      ]
    },
    {
      "cell_type": "code",
      "source": [],
      "metadata": {
        "id": "0Kjsxsuj_KOP"
      },
      "id": "0Kjsxsuj_KOP",
      "execution_count": null,
      "outputs": []
    },
    {
      "cell_type": "markdown",
      "source": [
        "## Model 3: Simple Exponential Smoothing"
      ],
      "metadata": {
        "id": "oq-eu3KlCBmc"
      },
      "id": "oq-eu3KlCBmc"
    },
    {
      "cell_type": "code",
      "source": [
        "from statsmodels.tsa.api import ExponentialSmoothing, SimpleExpSmoothing\n",
        "\n",
        "y_hat_avg = val.copy()\n",
        "fit2 = SimpleExpSmoothing(np.asarray(Train['Count'])).fit(smoothing_level= 0.6, optimized= False)\n",
        "y_hat_avg['SES'] = fit2.forecast(len(valid))\n",
        "\n",
        "plt.figure(figsize = (10, 10))\n",
        "plt.plot(Train['Count'], label = 'Train')\n",
        "plt.plot(val['Count'], label = 'Val')\n",
        "plt.plot(y_hat_avg['SES'], label = 'SES')\n",
        "plt.legend(loc = 'best')\n",
        "plt.show()"
      ],
      "metadata": {
        "colab": {
          "base_uri": "https://localhost:8080/",
          "height": 592
        },
        "id": "nzA2ODtWDeaY",
        "outputId": "1f6fa1d2-5ae4-47ce-bf92-f8b92bef18fc"
      },
      "id": "nzA2ODtWDeaY",
      "execution_count": 110,
      "outputs": [
        {
          "output_type": "display_data",
          "data": {
            "text/plain": [
              "<Figure size 720x720 with 1 Axes>"
            ],
            "image/png": "[encoded data removed]"
          },
          "metadata": {
            "needs_background": "light"
          }
        }
      ]
    },
    {
      "cell_type": "code",
      "source": [
        "print(f'RMSE for Simple Exponential Smoothing: {RMSE(np.asarray(val.Count), np.asarray(y_hat_avg.SES))}')\n"
      ],
      "metadata": {
        "colab": {
          "base_uri": "https://localhost:8080/"
        },
        "id": "3Xcy0RmUEEOz",
        "outputId": "84e47efd-75a6-4758-c949-f02ff63aeca8"
      },
      "id": "3Xcy0RmUEEOz",
      "execution_count": 111,
      "outputs": [
        {
          "output_type": "stream",
          "name": "stdout",
          "text": [
            "RMSE for Simple Exponential Smoothing: 113.43708111884514\n"
          ]
        }
      ]
    },
    {
      "cell_type": "code",
      "source": [],
      "metadata": {
        "id": "QZ9Kcy2JEPzk"
      },
      "id": "QZ9Kcy2JEPzk",
      "execution_count": 111,
      "outputs": []
    },
    {
      "cell_type": "markdown",
      "source": [
        "## Model 4: Holt's Linear Trend Model"
      ],
      "metadata": {
        "id": "mzOrqH5zERK9"
      },
      "id": "mzOrqH5zERK9"
    },
    {
      "cell_type": "code",
      "source": [
        "# Checking out the components of our time series\n",
        "\n",
        "from statsmodels.tsa.api import Holt\n",
        "import statsmodels.api as sm\n",
        "\n",
        "sm.tsa.seasonal_decompose(Train.Count).plot()\n",
        "\n",
        "result = sm.tsa.stattools.adfuller(train.Count)\n",
        "plt.show()"
      ],
      "metadata": {
        "colab": {
          "base_uri": "https://localhost:8080/",
          "height": 297
        },
        "id": "cfOoqTNQESUr",
        "outputId": "f806301f-1a6d-4035-a739-da58194bc1a8"
      },
      "id": "cfOoqTNQESUr",
      "execution_count": 112,
      "outputs": [
        {
          "output_type": "display_data",
          "data": {
            "text/plain": [
              "<Figure size 432x288 with 4 Axes>"
            ],
            "image/png": "[encoded data removed]"
          },
          "metadata": {
            "needs_background": "light"
          }
        }
      ]
    },
    {
      "cell_type": "markdown",
      "source": [
        "- Increasing trend can be seen\n",
        "- Seasonality can be seen\n",
        "- Residuals are obsered\n",
        "\n",
        "Series is **NOT STATIONARY**"
      ],
      "metadata": {
        "id": "yP3f3zHeKTIf"
      },
      "id": "yP3f3zHeKTIf"
    },
    {
      "cell_type": "code",
      "source": [
        "# Makin Holt's Linear Trend Model Prediction\n",
        "\n",
        "y_hat_avg = val.copy()\n",
        "fit1 = Holt(np.asarray(Train['Count'])).fit(smoothing_level= 0.3, smoothing_slope = 0.1)\n",
        "y_hat_avg['Holt_Linear'] = fit1.forecast(len(valid))"
      ],
      "metadata": {
        "id": "Aw3y4GgaG0dq"
      },
      "id": "Aw3y4GgaG0dq",
      "execution_count": 113,
      "outputs": []
    },
    {
      "cell_type": "code",
      "source": [
        "plt.figure(figsize = (10, 10))\n",
        "plt.plot(Train['Count'], label = 'Train')\n",
        "plt.plot(val['Count'], label = 'Val')\n",
        "plt.plot(y_hat_avg['Holt_Linear'], label = 'Holt_Linear')\n",
        "plt.legend(loc = 'best')\n",
        "plt.show()"
      ],
      "metadata": {
        "colab": {
          "base_uri": "https://localhost:8080/",
          "height": 592
        },
        "id": "bBQTxd7aJnxc",
        "outputId": "3ebddf49-dd85-4cb3-ed31-a3f6c7764816"
      },
      "id": "bBQTxd7aJnxc",
      "execution_count": 114,
      "outputs": [
        {
          "output_type": "display_data",
          "data": {
            "text/plain": [
              "<Figure size 720x720 with 1 Axes>"
            ],
            "image/png": "[encoded data removed]"
          },
          "metadata": {
            "needs_background": "light"
          }
        }
      ]
    },
    {
      "cell_type": "code",
      "source": [
        "print(f\"RMSE for Holt's Linear Trend: {RMSE(np.asarray(val.Count), np.asarray(y_hat_avg.Holt_Linear))}\")\n"
      ],
      "metadata": {
        "colab": {
          "base_uri": "https://localhost:8080/"
        },
        "id": "u8ZjIweYLLsO",
        "outputId": "8efe4e9a-cebd-4b23-954d-c26d6003d384"
      },
      "id": "u8ZjIweYLLsO",
      "execution_count": 115,
      "outputs": [
        {
          "output_type": "stream",
          "name": "stdout",
          "text": [
            "RMSE for Holt's Linear Trend: 112.94278345314041\n"
          ]
        }
      ]
    },
    {
      "cell_type": "code",
      "source": [],
      "metadata": {
        "id": "_eZzSH_HMBJy"
      },
      "id": "_eZzSH_HMBJy",
      "execution_count": null,
      "outputs": []
    },
    {
      "cell_type": "markdown",
      "source": [
        "# Predicting the values"
      ],
      "metadata": {
        "id": "oYGGc_JsMIl3"
      },
      "id": "oYGGc_JsMIl3"
    },
    {
      "cell_type": "markdown",
      "source": [
        "## Using Holt's Linear Model"
      ],
      "metadata": {
        "id": "aCYJUJGFUmbS"
      },
      "id": "aCYJUJGFUmbS"
    },
    {
      "cell_type": "code",
      "source": [
        "#submission = pd.read_csv('/Unicorn_Hackathon/Test.csv')\n",
        "submission = pd.read_csv(rf'C:\\Dropbox\\GenAI\\Analytics_Vidhya\\Time_Series_Forecasting_using_Python\\Test.csv')"
      ],
      "metadata": {
        "id": "BeJOCoupMJa7"
      },
      "id": "BeJOCoupMJa7",
      "execution_count": 116,
      "outputs": []
    },
    {
      "cell_type": "code",
      "source": [
        "submission.head()"
      ],
      "metadata": {
        "colab": {
          "base_uri": "https://localhost:8080/",
          "height": 206
        },
        "id": "1RUGZksdNM0z",
        "outputId": "c2698cef-e469-48c9-ad82-96b560dba986"
      },
      "id": "1RUGZksdNM0z",
      "execution_count": 117,
      "outputs": [
        {
          "output_type": "execute_result",
          "data": {
            "text/plain": [
              "      ID          Datetime\n",
              "0  18288  26-09-2014 00:00\n",
              "1  18289  26-09-2014 01:00\n",
              "2  18290  26-09-2014 02:00\n",
              "3  18291  26-09-2014 03:00\n",
              "4  18292  26-09-2014 04:00"
            ],
            "text/html": [
              "<div>\n",
              "<style scoped>\n",
              "    .dataframe tbody tr th:only-of-type {\n",
              "        vertical-align: middle;\n",
              "    }\n",
              "\n",
              "    .dataframe tbody tr th {\n",
              "        vertical-align: top;\n",
              "    }\n",
              "\n",
              "    .dataframe thead th {\n",
              "        text-align: right;\n",
              "    }\n",
              "</style>\n",
              "<table border=\"1\" class=\"dataframe\">\n",
              "  <thead>\n",
              "    <tr style=\"text-align: right;\">\n",
              "      <th></th>\n",
              "      <th>ID</th>\n",
              "      <th>Datetime</th>\n",
              "    </tr>\n",
              "  </thead>\n",
              "  <tbody>\n",
              "    <tr>\n",
              "      <th>0</th>\n",
              "      <td>18288</td>\n",
              "      <td>26-09-2014 00:00</td>\n",
              "    </tr>\n",
              "    <tr>\n",
              "      <th>1</th>\n",
              "      <td>18289</td>\n",
              "      <td>26-09-2014 01:00</td>\n",
              "    </tr>\n",
              "    <tr>\n",
              "      <th>2</th>\n",
              "      <td>18290</td>\n",
              "      <td>26-09-2014 02:00</td>\n",
              "    </tr>\n",
              "    <tr>\n",
              "      <th>3</th>\n",
              "      <td>18291</td>\n",
              "      <td>26-09-2014 03:00</td>\n",
              "    </tr>\n",
              "    <tr>\n",
              "      <th>4</th>\n",
              "      <td>18292</td>\n",
              "      <td>26-09-2014 04:00</td>\n",
              "    </tr>\n",
              "  </tbody>\n",
              "</table>\n",
              "</div>"
            ]
          },
          "metadata": {},
          "execution_count": 117
        }
      ]
    },
    {
      "cell_type": "code",
      "source": [
        "predict = fit1.forecast(len(test))\n",
        "test['prediction'] = predict"
      ],
      "metadata": {
        "id": "tu2G5qrqNO2C"
      },
      "id": "tu2G5qrqNO2C",
      "execution_count": 118,
      "outputs": []
    },
    {
      "cell_type": "code",
      "source": [
        "test.head()"
      ],
      "metadata": {
        "colab": {
          "base_uri": "https://localhost:8080/",
          "height": 238
        },
        "id": "Vrs-ImRVNfTr",
        "outputId": "ac90c886-a24f-4797-d387-c71b2033db39"
      },
      "id": "Vrs-ImRVNfTr",
      "execution_count": 119,
      "outputs": [
        {
          "output_type": "execute_result",
          "data": {
            "text/plain": [
              "                 ID    year  month   day  Hour  prediction\n",
              "Datetime                                                  \n",
              "2014-09-26  18299.5  2014.0    9.0  26.0  11.5  334.650767\n",
              "2014-09-27  18323.5  2014.0    9.0  27.0  11.5  337.159011\n",
              "2014-09-28  18347.5  2014.0    9.0  28.0  11.5  339.667256\n",
              "2014-09-29  18371.5  2014.0    9.0  29.0  11.5  342.175500\n",
              "2014-09-30  18395.5  2014.0    9.0  30.0  11.5  344.683745"
            ],
            "text/html": [
              "<div>\n",
              "<style scoped>\n",
              "    .dataframe tbody tr th:only-of-type {\n",
              "        vertical-align: middle;\n",
              "    }\n",
              "\n",
              "    .dataframe tbody tr th {\n",
              "        vertical-align: top;\n",
              "    }\n",
              "\n",
              "    .dataframe thead th {\n",
              "        text-align: right;\n",
              "    }\n",
              "</style>\n",
              "<table border=\"1\" class=\"dataframe\">\n",
              "  <thead>\n",
              "    <tr style=\"text-align: right;\">\n",
              "      <th></th>\n",
              "      <th>ID</th>\n",
              "      <th>year</th>\n",
              "      <th>month</th>\n",
              "      <th>day</th>\n",
              "      <th>Hour</th>\n",
              "      <th>prediction</th>\n",
              "    </tr>\n",
              "    <tr>\n",
              "      <th>Datetime</th>\n",
              "      <th></th>\n",
              "      <th></th>\n",
              "      <th></th>\n",
              "      <th></th>\n",
              "      <th></th>\n",
              "      <th></th>\n",
              "    </tr>\n",
              "  </thead>\n",
              "  <tbody>\n",
              "    <tr>\n",
              "      <th>2014-09-26</th>\n",
              "      <td>18299.5</td>\n",
              "      <td>2014.0</td>\n",
              "      <td>9.0</td>\n",
              "      <td>26.0</td>\n",
              "      <td>11.5</td>\n",
              "      <td>334.650767</td>\n",
              "    </tr>\n",
              "    <tr>\n",
              "      <th>2014-09-27</th>\n",
              "      <td>18323.5</td>\n",
              "      <td>2014.0</td>\n",
              "      <td>9.0</td>\n",
              "      <td>27.0</td>\n",
              "      <td>11.5</td>\n",
              "      <td>337.159011</td>\n",
              "    </tr>\n",
              "    <tr>\n",
              "      <th>2014-09-28</th>\n",
              "      <td>18347.5</td>\n",
              "      <td>2014.0</td>\n",
              "      <td>9.0</td>\n",
              "      <td>28.0</td>\n",
              "      <td>11.5</td>\n",
              "      <td>339.667256</td>\n",
              "    </tr>\n",
              "    <tr>\n",
              "      <th>2014-09-29</th>\n",
              "      <td>18371.5</td>\n",
              "      <td>2014.0</td>\n",
              "      <td>9.0</td>\n",
              "      <td>29.0</td>\n",
              "      <td>11.5</td>\n",
              "      <td>342.175500</td>\n",
              "    </tr>\n",
              "    <tr>\n",
              "      <th>2014-09-30</th>\n",
              "      <td>18395.5</td>\n",
              "      <td>2014.0</td>\n",
              "      <td>9.0</td>\n",
              "      <td>30.0</td>\n",
              "      <td>11.5</td>\n",
              "      <td>344.683745</td>\n",
              "    </tr>\n",
              "  </tbody>\n",
              "</table>\n",
              "</div>"
            ]
          },
          "metadata": {},
          "execution_count": 119
        }
      ]
    },
    {
      "cell_type": "code",
      "source": [
        "# Calculating the proportion of passengers per hour and then distributing the daily predicted  output to hourly predictions.\n",
        "\n",
        "# Calculating the hourly ratio.\n",
        "train_orignal['ratio'] = train_orignal['Count']/train_orignal['Count'].sum()\n",
        "\n",
        "# Grouping the hourly ratio\n",
        "temp = train_orignal.groupby(['Hour'])['ratio'].sum()\n",
        "\n",
        "# Sending the grouping to csv file\n",
        "pd.DataFrame(temp, columns = ['Hour', 'ratio']).to_csv(fr'C:\\Dropbox\\GenAI\\Analytics_Vidhya\\Time_Series_Forecasting_using_Python\\Groupby.csv')"
      ],
      "metadata": {
        "id": "ACTLfPsbNgRy"
      },
      "id": "ACTLfPsbNgRy",
      "execution_count": 133,
      "outputs": []
    },
    {
      "cell_type": "code",
      "source": [
        "temp.head()"
      ],
      "metadata": {
        "id": "Jj82Xp_YW2yP",
        "outputId": "34ce907b-2cc5-41ed-d62a-41c3f24c5123",
        "colab": {
          "base_uri": "https://localhost:8080/"
        }
      },
      "id": "Jj82Xp_YW2yP",
      "execution_count": 178,
      "outputs": [
        {
          "output_type": "execute_result",
          "data": {
            "text/plain": [
              "Hour\n",
              "0    0.044287\n",
              "1    0.035343\n",
              "2    0.029911\n",
              "3    0.024714\n",
              "4    0.020802\n",
              "Name: ratio, dtype: float64"
            ]
          },
          "metadata": {},
          "execution_count": 178
        }
      ]
    },
    {
      "cell_type": "code",
      "source": [
        "temp2 = pd.read_csv(fr'C:\\Dropbox\\GenAI\\Analytics_Vidhya\\Time_Series_Forecasting_using_Python\\Groupby.csv')\n",
        "temp2.head()"
      ],
      "metadata": {
        "colab": {
          "base_uri": "https://localhost:8080/",
          "height": 206
        },
        "id": "xLGPJzesPQNc",
        "outputId": "169b5bb5-90ec-420f-86dc-38979c7752c5"
      },
      "id": "xLGPJzesPQNc",
      "execution_count": 134,
      "outputs": [
        {
          "output_type": "execute_result",
          "data": {
            "text/plain": [
              "   Hour  Hour.1     ratio\n",
              "0     0     NaN  0.044287\n",
              "1     1     NaN  0.035343\n",
              "2     2     NaN  0.029911\n",
              "3     3     NaN  0.024714\n",
              "4     4     NaN  0.020802"
            ],
            "text/html": [
              "<div>\n",
              "<style scoped>\n",
              "    .dataframe tbody tr th:only-of-type {\n",
              "        vertical-align: middle;\n",
              "    }\n",
              "\n",
              "    .dataframe tbody tr th {\n",
              "        vertical-align: top;\n",
              "    }\n",
              "\n",
              "    .dataframe thead th {\n",
              "        text-align: right;\n",
              "    }\n",
              "</style>\n",
              "<table border=\"1\" class=\"dataframe\">\n",
              "  <thead>\n",
              "    <tr style=\"text-align: right;\">\n",
              "      <th></th>\n",
              "      <th>Hour</th>\n",
              "      <th>Hour.1</th>\n",
              "      <th>ratio</th>\n",
              "    </tr>\n",
              "  </thead>\n",
              "  <tbody>\n",
              "    <tr>\n",
              "      <th>0</th>\n",
              "      <td>0</td>\n",
              "      <td>NaN</td>\n",
              "      <td>0.044287</td>\n",
              "    </tr>\n",
              "    <tr>\n",
              "      <th>1</th>\n",
              "      <td>1</td>\n",
              "      <td>NaN</td>\n",
              "      <td>0.035343</td>\n",
              "    </tr>\n",
              "    <tr>\n",
              "      <th>2</th>\n",
              "      <td>2</td>\n",
              "      <td>NaN</td>\n",
              "      <td>0.029911</td>\n",
              "    </tr>\n",
              "    <tr>\n",
              "      <th>3</th>\n",
              "      <td>3</td>\n",
              "      <td>NaN</td>\n",
              "      <td>0.024714</td>\n",
              "    </tr>\n",
              "    <tr>\n",
              "      <th>4</th>\n",
              "      <td>4</td>\n",
              "      <td>NaN</td>\n",
              "      <td>0.020802</td>\n",
              "    </tr>\n",
              "  </tbody>\n",
              "</table>\n",
              "</div>"
            ]
          },
          "metadata": {},
          "execution_count": 134
        }
      ]
    },
    {
      "cell_type": "code",
      "source": [
        "temp2 = temp2.drop('Hour.1', 1)\n",
        "temp2.head()"
      ],
      "metadata": {
        "colab": {
          "base_uri": "https://localhost:8080/",
          "height": 206
        },
        "id": "npEbEvNuPENc",
        "outputId": "35dd9128-b044-41d6-8f9c-dd89e8d8842f"
      },
      "id": "npEbEvNuPENc",
      "execution_count": 135,
      "outputs": [
        {
          "output_type": "execute_result",
          "data": {
            "text/plain": [
              "   Hour     ratio\n",
              "0     0  0.044287\n",
              "1     1  0.035343\n",
              "2     2  0.029911\n",
              "3     3  0.024714\n",
              "4     4  0.020802"
            ],
            "text/html": [
              "<div>\n",
              "<style scoped>\n",
              "    .dataframe tbody tr th:only-of-type {\n",
              "        vertical-align: middle;\n",
              "    }\n",
              "\n",
              "    .dataframe tbody tr th {\n",
              "        vertical-align: top;\n",
              "    }\n",
              "\n",
              "    .dataframe thead th {\n",
              "        text-align: right;\n",
              "    }\n",
              "</style>\n",
              "<table border=\"1\" class=\"dataframe\">\n",
              "  <thead>\n",
              "    <tr style=\"text-align: right;\">\n",
              "      <th></th>\n",
              "      <th>Hour</th>\n",
              "      <th>ratio</th>\n",
              "    </tr>\n",
              "  </thead>\n",
              "  <tbody>\n",
              "    <tr>\n",
              "      <th>0</th>\n",
              "      <td>0</td>\n",
              "      <td>0.044287</td>\n",
              "    </tr>\n",
              "    <tr>\n",
              "      <th>1</th>\n",
              "      <td>1</td>\n",
              "      <td>0.035343</td>\n",
              "    </tr>\n",
              "    <tr>\n",
              "      <th>2</th>\n",
              "      <td>2</td>\n",
              "      <td>0.029911</td>\n",
              "    </tr>\n",
              "    <tr>\n",
              "      <th>3</th>\n",
              "      <td>3</td>\n",
              "      <td>0.024714</td>\n",
              "    </tr>\n",
              "    <tr>\n",
              "      <th>4</th>\n",
              "      <td>4</td>\n",
              "      <td>0.020802</td>\n",
              "    </tr>\n",
              "  </tbody>\n",
              "</table>\n",
              "</div>"
            ]
          },
          "metadata": {},
          "execution_count": 135
        }
      ]
    },
    {
      "cell_type": "code",
      "source": [
        "# Merge the Test and test_orignal\n",
        "\n",
        "merge = pd.merge(test, test_orignal, on = ('day', 'month', 'year'), how = 'left')\n",
        "merge.head()"
      ],
      "metadata": {
        "colab": {
          "base_uri": "https://localhost:8080/",
          "height": 206
        },
        "id": "CGaQ4EucPGWM",
        "outputId": "b93de894-9e55-42db-ef0d-04bab8b485f0"
      },
      "id": "CGaQ4EucPGWM",
      "execution_count": 137,
      "outputs": [
        {
          "output_type": "execute_result",
          "data": {
            "text/plain": [
              "      ID_x    year  month   day  Hour_x  prediction   ID_y  \\\n",
              "0  18299.5  2014.0    9.0  26.0    11.5  334.650767  18288   \n",
              "1  18299.5  2014.0    9.0  26.0    11.5  334.650767  18289   \n",
              "2  18299.5  2014.0    9.0  26.0    11.5  334.650767  18290   \n",
              "3  18299.5  2014.0    9.0  26.0    11.5  334.650767  18291   \n",
              "4  18299.5  2014.0    9.0  26.0    11.5  334.650767  18292   \n",
              "\n",
              "             Datetime  Hour_y  \n",
              "0 2014-09-26 00:00:00       0  \n",
              "1 2014-09-26 01:00:00       1  \n",
              "2 2014-09-26 02:00:00       2  \n",
              "3 2014-09-26 03:00:00       3  \n",
              "4 2014-09-26 04:00:00       4  "
            ],
            "text/html": [
              "<div>\n",
              "<style scoped>\n",
              "    .dataframe tbody tr th:only-of-type {\n",
              "        vertical-align: middle;\n",
              "    }\n",
              "\n",
              "    .dataframe tbody tr th {\n",
              "        vertical-align: top;\n",
              "    }\n",
              "\n",
              "    .dataframe thead th {\n",
              "        text-align: right;\n",
              "    }\n",
              "</style>\n",
              "<table border=\"1\" class=\"dataframe\">\n",
              "  <thead>\n",
              "    <tr style=\"text-align: right;\">\n",
              "      <th></th>\n",
              "      <th>ID_x</th>\n",
              "      <th>year</th>\n",
              "      <th>month</th>\n",
              "      <th>day</th>\n",
              "      <th>Hour_x</th>\n",
              "      <th>prediction</th>\n",
              "      <th>ID_y</th>\n",
              "      <th>Datetime</th>\n",
              "      <th>Hour_y</th>\n",
              "    </tr>\n",
              "  </thead>\n",
              "  <tbody>\n",
              "    <tr>\n",
              "      <th>0</th>\n",
              "      <td>18299.5</td>\n",
              "      <td>2014.0</td>\n",
              "      <td>9.0</td>\n",
              "      <td>26.0</td>\n",
              "      <td>11.5</td>\n",
              "      <td>334.650767</td>\n",
              "      <td>18288</td>\n",
              "      <td>2014-09-26 00:00:00</td>\n",
              "      <td>0</td>\n",
              "    </tr>\n",
              "    <tr>\n",
              "      <th>1</th>\n",
              "      <td>18299.5</td>\n",
              "      <td>2014.0</td>\n",
              "      <td>9.0</td>\n",
              "      <td>26.0</td>\n",
              "      <td>11.5</td>\n",
              "      <td>334.650767</td>\n",
              "      <td>18289</td>\n",
              "      <td>2014-09-26 01:00:00</td>\n",
              "      <td>1</td>\n",
              "    </tr>\n",
              "    <tr>\n",
              "      <th>2</th>\n",
              "      <td>18299.5</td>\n",
              "      <td>2014.0</td>\n",
              "      <td>9.0</td>\n",
              "      <td>26.0</td>\n",
              "      <td>11.5</td>\n",
              "      <td>334.650767</td>\n",
              "      <td>18290</td>\n",
              "      <td>2014-09-26 02:00:00</td>\n",
              "      <td>2</td>\n",
              "    </tr>\n",
              "    <tr>\n",
              "      <th>3</th>\n",
              "      <td>18299.5</td>\n",
              "      <td>2014.0</td>\n",
              "      <td>9.0</td>\n",
              "      <td>26.0</td>\n",
              "      <td>11.5</td>\n",
              "      <td>334.650767</td>\n",
              "      <td>18291</td>\n",
              "      <td>2014-09-26 03:00:00</td>\n",
              "      <td>3</td>\n",
              "    </tr>\n",
              "    <tr>\n",
              "      <th>4</th>\n",
              "      <td>18299.5</td>\n",
              "      <td>2014.0</td>\n",
              "      <td>9.0</td>\n",
              "      <td>26.0</td>\n",
              "      <td>11.5</td>\n",
              "      <td>334.650767</td>\n",
              "      <td>18292</td>\n",
              "      <td>2014-09-26 04:00:00</td>\n",
              "      <td>4</td>\n",
              "    </tr>\n",
              "  </tbody>\n",
              "</table>\n",
              "</div>"
            ]
          },
          "metadata": {},
          "execution_count": 137
        }
      ]
    },
    {
      "cell_type": "code",
      "source": [
        "merge['Hour'] = merge['Hour_y']"
      ],
      "metadata": {
        "id": "kkBrrx_OPu51"
      },
      "id": "kkBrrx_OPu51",
      "execution_count": 139,
      "outputs": []
    },
    {
      "cell_type": "code",
      "source": [
        "merge = merge.drop(['year', 'month', 'Datetime', 'Hour_x', 'Hour_y'], axis = 1)"
      ],
      "metadata": {
        "id": "YaQfN7miP2Y_"
      },
      "id": "YaQfN7miP2Y_",
      "execution_count": 140,
      "outputs": []
    },
    {
      "cell_type": "code",
      "source": [
        "merge.head()"
      ],
      "metadata": {
        "colab": {
          "base_uri": "https://localhost:8080/",
          "height": 206
        },
        "id": "1GeF2rTzQZUL",
        "outputId": "4fdca565-9a7f-45f5-dfba-4546ed94586c"
      },
      "id": "1GeF2rTzQZUL",
      "execution_count": 141,
      "outputs": [
        {
          "output_type": "execute_result",
          "data": {
            "text/plain": [
              "      ID_x   day  prediction   ID_y  Hour\n",
              "0  18299.5  26.0  334.650767  18288     0\n",
              "1  18299.5  26.0  334.650767  18289     1\n",
              "2  18299.5  26.0  334.650767  18290     2\n",
              "3  18299.5  26.0  334.650767  18291     3\n",
              "4  18299.5  26.0  334.650767  18292     4"
            ],
            "text/html": [
              "<div>\n",
              "<style scoped>\n",
              "    .dataframe tbody tr th:only-of-type {\n",
              "        vertical-align: middle;\n",
              "    }\n",
              "\n",
              "    .dataframe tbody tr th {\n",
              "        vertical-align: top;\n",
              "    }\n",
              "\n",
              "    .dataframe thead th {\n",
              "        text-align: right;\n",
              "    }\n",
              "</style>\n",
              "<table border=\"1\" class=\"dataframe\">\n",
              "  <thead>\n",
              "    <tr style=\"text-align: right;\">\n",
              "      <th></th>\n",
              "      <th>ID_x</th>\n",
              "      <th>day</th>\n",
              "      <th>prediction</th>\n",
              "      <th>ID_y</th>\n",
              "      <th>Hour</th>\n",
              "    </tr>\n",
              "  </thead>\n",
              "  <tbody>\n",
              "    <tr>\n",
              "      <th>0</th>\n",
              "      <td>18299.5</td>\n",
              "      <td>26.0</td>\n",
              "      <td>334.650767</td>\n",
              "      <td>18288</td>\n",
              "      <td>0</td>\n",
              "    </tr>\n",
              "    <tr>\n",
              "      <th>1</th>\n",
              "      <td>18299.5</td>\n",
              "      <td>26.0</td>\n",
              "      <td>334.650767</td>\n",
              "      <td>18289</td>\n",
              "      <td>1</td>\n",
              "    </tr>\n",
              "    <tr>\n",
              "      <th>2</th>\n",
              "      <td>18299.5</td>\n",
              "      <td>26.0</td>\n",
              "      <td>334.650767</td>\n",
              "      <td>18290</td>\n",
              "      <td>2</td>\n",
              "    </tr>\n",
              "    <tr>\n",
              "      <th>3</th>\n",
              "      <td>18299.5</td>\n",
              "      <td>26.0</td>\n",
              "      <td>334.650767</td>\n",
              "      <td>18291</td>\n",
              "      <td>3</td>\n",
              "    </tr>\n",
              "    <tr>\n",
              "      <th>4</th>\n",
              "      <td>18299.5</td>\n",
              "      <td>26.0</td>\n",
              "      <td>334.650767</td>\n",
              "      <td>18292</td>\n",
              "      <td>4</td>\n",
              "    </tr>\n",
              "  </tbody>\n",
              "</table>\n",
              "</div>"
            ]
          },
          "metadata": {},
          "execution_count": 141
        }
      ]
    },
    {
      "cell_type": "code",
      "source": [
        "# Predicting by merging merge and temp2\n",
        "\n",
        "prediction = pd.merge(merge, temp2, on = ['Hour'], how= 'left')\n",
        "prediction.head()"
      ],
      "metadata": {
        "colab": {
          "base_uri": "https://localhost:8080/",
          "height": 206
        },
        "id": "d4Cs8y1OQGWP",
        "outputId": "ffe0a5a6-77b0-4bb5-fc1f-35e2045112e1"
      },
      "id": "d4Cs8y1OQGWP",
      "execution_count": 154,
      "outputs": [
        {
          "output_type": "execute_result",
          "data": {
            "text/plain": [
              "      ID_x   day  prediction   ID_y  Hour     ratio\n",
              "0  18299.5  26.0  334.650767  18288     0  0.044287\n",
              "1  18299.5  26.0  334.650767  18289     1  0.035343\n",
              "2  18299.5  26.0  334.650767  18290     2  0.029911\n",
              "3  18299.5  26.0  334.650767  18291     3  0.024714\n",
              "4  18299.5  26.0  334.650767  18292     4  0.020802"
            ],
            "text/html": [
              "<div>\n",
              "<style scoped>\n",
              "    .dataframe tbody tr th:only-of-type {\n",
              "        vertical-align: middle;\n",
              "    }\n",
              "\n",
              "    .dataframe tbody tr th {\n",
              "        vertical-align: top;\n",
              "    }\n",
              "\n",
              "    .dataframe thead th {\n",
              "        text-align: right;\n",
              "    }\n",
              "</style>\n",
              "<table border=\"1\" class=\"dataframe\">\n",
              "  <thead>\n",
              "    <tr style=\"text-align: right;\">\n",
              "      <th></th>\n",
              "      <th>ID_x</th>\n",
              "      <th>day</th>\n",
              "      <th>prediction</th>\n",
              "      <th>ID_y</th>\n",
              "      <th>Hour</th>\n",
              "      <th>ratio</th>\n",
              "    </tr>\n",
              "  </thead>\n",
              "  <tbody>\n",
              "    <tr>\n",
              "      <th>0</th>\n",
              "      <td>18299.5</td>\n",
              "      <td>26.0</td>\n",
              "      <td>334.650767</td>\n",
              "      <td>18288</td>\n",
              "      <td>0</td>\n",
              "      <td>0.044287</td>\n",
              "    </tr>\n",
              "    <tr>\n",
              "      <th>1</th>\n",
              "      <td>18299.5</td>\n",
              "      <td>26.0</td>\n",
              "      <td>334.650767</td>\n",
              "      <td>18289</td>\n",
              "      <td>1</td>\n",
              "      <td>0.035343</td>\n",
              "    </tr>\n",
              "    <tr>\n",
              "      <th>2</th>\n",
              "      <td>18299.5</td>\n",
              "      <td>26.0</td>\n",
              "      <td>334.650767</td>\n",
              "      <td>18290</td>\n",
              "      <td>2</td>\n",
              "      <td>0.029911</td>\n",
              "    </tr>\n",
              "    <tr>\n",
              "      <th>3</th>\n",
              "      <td>18299.5</td>\n",
              "      <td>26.0</td>\n",
              "      <td>334.650767</td>\n",
              "      <td>18291</td>\n",
              "      <td>3</td>\n",
              "      <td>0.024714</td>\n",
              "    </tr>\n",
              "    <tr>\n",
              "      <th>4</th>\n",
              "      <td>18299.5</td>\n",
              "      <td>26.0</td>\n",
              "      <td>334.650767</td>\n",
              "      <td>18292</td>\n",
              "      <td>4</td>\n",
              "      <td>0.020802</td>\n",
              "    </tr>\n",
              "  </tbody>\n",
              "</table>\n",
              "</div>"
            ]
          },
          "metadata": {},
          "execution_count": 154
        }
      ]
    },
    {
      "cell_type": "code",
      "source": [
        "prediction['Count'] = prediction['prediction']*prediction['ratio']*24\n",
        "prediction['ID'] = prediction['ID_y']\n",
        "prediction.head()"
      ],
      "metadata": {
        "colab": {
          "base_uri": "https://localhost:8080/",
          "height": 206
        },
        "id": "02cGo9X_Qzjy",
        "outputId": "b79f9168-d5e2-46e9-fd29-9d57487bc0df"
      },
      "id": "02cGo9X_Qzjy",
      "execution_count": 155,
      "outputs": [
        {
          "output_type": "execute_result",
          "data": {
            "text/plain": [
              "      ID_x   day  prediction   ID_y  Hour     ratio       Count     ID\n",
              "0  18299.5  26.0  334.650767  18288     0  0.044287  355.692974  18288\n",
              "1  18299.5  26.0  334.650767  18289     1  0.035343  283.861602  18289\n",
              "2  18299.5  26.0  334.650767  18290     2  0.029911  240.234347  18290\n",
              "3  18299.5  26.0  334.650767  18291     3  0.024714  198.497058  18291\n",
              "4  18299.5  26.0  334.650767  18292     4  0.020802  167.075574  18292"
            ],
            "text/html": [
              "<div>\n",
              "<style scoped>\n",
              "    .dataframe tbody tr th:only-of-type {\n",
              "        vertical-align: middle;\n",
              "    }\n",
              "\n",
              "    .dataframe tbody tr th {\n",
              "        vertical-align: top;\n",
              "    }\n",
              "\n",
              "    .dataframe thead th {\n",
              "        text-align: right;\n",
              "    }\n",
              "</style>\n",
              "<table border=\"1\" class=\"dataframe\">\n",
              "  <thead>\n",
              "    <tr style=\"text-align: right;\">\n",
              "      <th></th>\n",
              "      <th>ID_x</th>\n",
              "      <th>day</th>\n",
              "      <th>prediction</th>\n",
              "      <th>ID_y</th>\n",
              "      <th>Hour</th>\n",
              "      <th>ratio</th>\n",
              "      <th>Count</th>\n",
              "      <th>ID</th>\n",
              "    </tr>\n",
              "  </thead>\n",
              "  <tbody>\n",
              "    <tr>\n",
              "      <th>0</th>\n",
              "      <td>18299.5</td>\n",
              "      <td>26.0</td>\n",
              "      <td>334.650767</td>\n",
              "      <td>18288</td>\n",
              "      <td>0</td>\n",
              "      <td>0.044287</td>\n",
              "      <td>355.692974</td>\n",
              "      <td>18288</td>\n",
              "    </tr>\n",
              "    <tr>\n",
              "      <th>1</th>\n",
              "      <td>18299.5</td>\n",
              "      <td>26.0</td>\n",
              "      <td>334.650767</td>\n",
              "      <td>18289</td>\n",
              "      <td>1</td>\n",
              "      <td>0.035343</td>\n",
              "      <td>283.861602</td>\n",
              "      <td>18289</td>\n",
              "    </tr>\n",
              "    <tr>\n",
              "      <th>2</th>\n",
              "      <td>18299.5</td>\n",
              "      <td>26.0</td>\n",
              "      <td>334.650767</td>\n",
              "      <td>18290</td>\n",
              "      <td>2</td>\n",
              "      <td>0.029911</td>\n",
              "      <td>240.234347</td>\n",
              "      <td>18290</td>\n",
              "    </tr>\n",
              "    <tr>\n",
              "      <th>3</th>\n",
              "      <td>18299.5</td>\n",
              "      <td>26.0</td>\n",
              "      <td>334.650767</td>\n",
              "      <td>18291</td>\n",
              "      <td>3</td>\n",
              "      <td>0.024714</td>\n",
              "      <td>198.497058</td>\n",
              "      <td>18291</td>\n",
              "    </tr>\n",
              "    <tr>\n",
              "      <th>4</th>\n",
              "      <td>18299.5</td>\n",
              "      <td>26.0</td>\n",
              "      <td>334.650767</td>\n",
              "      <td>18292</td>\n",
              "      <td>4</td>\n",
              "      <td>0.020802</td>\n",
              "      <td>167.075574</td>\n",
              "      <td>18292</td>\n",
              "    </tr>\n",
              "  </tbody>\n",
              "</table>\n",
              "</div>"
            ]
          },
          "metadata": {},
          "execution_count": 155
        }
      ]
    },
    {
      "cell_type": "code",
      "source": [
        "submission = prediction.drop(['ID_x', 'ID_y', 'day', 'Hour', 'ratio'], axis = 1)"
      ],
      "metadata": {
        "id": "7-prJZJ8Q73h"
      },
      "id": "7-prJZJ8Q73h",
      "execution_count": 156,
      "outputs": []
    },
    {
      "cell_type": "code",
      "source": [
        "# Exporting the predictions\n",
        "\n",
        "pd.DataFrame(submission, columns = ['ID', 'Count']).to_csv(fr'C:\\Dropbox\\GenAI\\Analytics_Vidhya\\Time_Series_Forecasting_using_Python/Holt_Linear.csv', index = False)"
      ],
      "metadata": {
        "id": "CR9_Nse0RYsp"
      },
      "id": "CR9_Nse0RYsp",
      "execution_count": 158,
      "outputs": []
    },
    {
      "cell_type": "code",
      "source": [],
      "metadata": {
        "id": "Jxncka49Rxlh"
      },
      "id": "Jxncka49Rxlh",
      "execution_count": null,
      "outputs": []
    },
    {
      "cell_type": "markdown",
      "source": [
        "## Using Holt's Winter Model"
      ],
      "metadata": {
        "id": "kk5YnjT6UqHb"
      },
      "id": "kk5YnjT6UqHb"
    },
    {
      "cell_type": "code",
      "source": [
        "from statsmodels.tsa.api import ExponentialSmoothing\n",
        "\n",
        "y_hat_avg = valid.copy()\n",
        "fit1 = ExponentialSmoothing(np.asarray(Train['Count']), seasonal_periods = 7, trend = 'add', seasonal = 'add',).fit()"
      ],
      "metadata": {
        "id": "KZJTphC3Usq4"
      },
      "id": "KZJTphC3Usq4",
      "execution_count": 173,
      "outputs": []
    },
    {
      "cell_type": "code",
      "source": [
        "y_hat_avg['Holt_Winter'] = fit1.forecast(len(valid))"
      ],
      "metadata": {
        "id": "WZzhjRbBV1Qq"
      },
      "id": "WZzhjRbBV1Qq",
      "execution_count": 174,
      "outputs": []
    },
    {
      "cell_type": "code",
      "source": [
        "plt.figure(figsize = (10, 10))\n",
        "plt.plot(Train['Count'], label = 'Train')\n",
        "plt.plot(val['Count'], label = 'Val')\n",
        "plt.plot(y_hat_avg['Holt_Winter'], label = 'Holt_Winter')\n",
        "plt.legend(loc = 'best')\n",
        "plt.show()"
      ],
      "metadata": {
        "id": "lFAuYmm6WTEd",
        "outputId": "64b1f260-1cfc-4d46-d438-1dc6a32c4a86",
        "colab": {
          "base_uri": "https://localhost:8080/",
          "height": 592
        }
      },
      "id": "lFAuYmm6WTEd",
      "execution_count": 175,
      "outputs": [
        {
          "output_type": "display_data",
          "data": {
            "text/plain": [
              "<Figure size 720x720 with 1 Axes>"
            ],
            "image/png": "[encoded data removed]"
          },
          "metadata": {
            "needs_background": "light"
          }
        }
      ]
    },
    {
      "cell_type": "code",
      "source": [
        "print(f\"RMSE for Holt's Winter Trend: {RMSE(np.asarray(val.Count), np.asarray(y_hat_avg.Holt_Winter))}\")"
      ],
      "metadata": {
        "id": "FMN5HhJLWXwS",
        "outputId": "9e2b95f6-a9b2-4c2e-9010-25e2cbe28e9a",
        "colab": {
          "base_uri": "https://localhost:8080/"
        }
      },
      "id": "FMN5HhJLWXwS",
      "execution_count": 176,
      "outputs": [
        {
          "output_type": "stream",
          "name": "stdout",
          "text": [
            "RMSE for Holt's Winter Trend: 82.17103714967703\n"
          ]
        }
      ]
    },
    {
      "cell_type": "code",
      "source": [
        "# Predicting for test.\n",
        "\n",
        "test['prediction'] = fit1.forecast(len(test))"
      ],
      "metadata": {
        "id": "U5fqruQ7Wh6s"
      },
      "id": "U5fqruQ7Wh6s",
      "execution_count": 177,
      "outputs": []
    },
    {
      "cell_type": "code",
      "source": [
        "merge = pd.merge(test, test_orignal, on = ('day', 'month', 'year'), how = 'left')\n",
        "merge.head()"
      ],
      "metadata": {
        "id": "EQQq60MgWuD9",
        "outputId": "868e8437-5ed8-4395-946d-cc9a4a2917ee",
        "colab": {
          "base_uri": "https://localhost:8080/",
          "height": 206
        }
      },
      "id": "EQQq60MgWuD9",
      "execution_count": 179,
      "outputs": [
        {
          "output_type": "execute_result",
          "data": {
            "text/plain": [
              "      ID_x    year  month   day  Hour_x  prediction   ID_y  \\\n",
              "0  18299.5  2014.0    9.0  26.0    11.5  387.416123  18288   \n",
              "1  18299.5  2014.0    9.0  26.0    11.5  387.416123  18289   \n",
              "2  18299.5  2014.0    9.0  26.0    11.5  387.416123  18290   \n",
              "3  18299.5  2014.0    9.0  26.0    11.5  387.416123  18291   \n",
              "4  18299.5  2014.0    9.0  26.0    11.5  387.416123  18292   \n",
              "\n",
              "             Datetime  Hour_y  \n",
              "0 2014-09-26 00:00:00       0  \n",
              "1 2014-09-26 01:00:00       1  \n",
              "2 2014-09-26 02:00:00       2  \n",
              "3 2014-09-26 03:00:00       3  \n",
              "4 2014-09-26 04:00:00       4  "
            ],
            "text/html": [
              "<div>\n",
              "<style scoped>\n",
              "    .dataframe tbody tr th:only-of-type {\n",
              "        vertical-align: middle;\n",
              "    }\n",
              "\n",
              "    .dataframe tbody tr th {\n",
              "        vertical-align: top;\n",
              "    }\n",
              "\n",
              "    .dataframe thead th {\n",
              "        text-align: right;\n",
              "    }\n",
              "</style>\n",
              "<table border=\"1\" class=\"dataframe\">\n",
              "  <thead>\n",
              "    <tr style=\"text-align: right;\">\n",
              "      <th></th>\n",
              "      <th>ID_x</th>\n",
              "      <th>year</th>\n",
              "      <th>month</th>\n",
              "      <th>day</th>\n",
              "      <th>Hour_x</th>\n",
              "      <th>prediction</th>\n",
              "      <th>ID_y</th>\n",
              "      <th>Datetime</th>\n",
              "      <th>Hour_y</th>\n",
              "    </tr>\n",
              "  </thead>\n",
              "  <tbody>\n",
              "    <tr>\n",
              "      <th>0</th>\n",
              "      <td>18299.5</td>\n",
              "      <td>2014.0</td>\n",
              "      <td>9.0</td>\n",
              "      <td>26.0</td>\n",
              "      <td>11.5</td>\n",
              "      <td>387.416123</td>\n",
              "      <td>18288</td>\n",
              "      <td>2014-09-26 00:00:00</td>\n",
              "      <td>0</td>\n",
              "    </tr>\n",
              "    <tr>\n",
              "      <th>1</th>\n",
              "      <td>18299.5</td>\n",
              "      <td>2014.0</td>\n",
              "      <td>9.0</td>\n",
              "      <td>26.0</td>\n",
              "      <td>11.5</td>\n",
              "      <td>387.416123</td>\n",
              "      <td>18289</td>\n",
              "      <td>2014-09-26 01:00:00</td>\n",
              "      <td>1</td>\n",
              "    </tr>\n",
              "    <tr>\n",
              "      <th>2</th>\n",
              "      <td>18299.5</td>\n",
              "      <td>2014.0</td>\n",
              "      <td>9.0</td>\n",
              "      <td>26.0</td>\n",
              "      <td>11.5</td>\n",
              "      <td>387.416123</td>\n",
              "      <td>18290</td>\n",
              "      <td>2014-09-26 02:00:00</td>\n",
              "      <td>2</td>\n",
              "    </tr>\n",
              "    <tr>\n",
              "      <th>3</th>\n",
              "      <td>18299.5</td>\n",
              "      <td>2014.0</td>\n",
              "      <td>9.0</td>\n",
              "      <td>26.0</td>\n",
              "      <td>11.5</td>\n",
              "      <td>387.416123</td>\n",
              "      <td>18291</td>\n",
              "      <td>2014-09-26 03:00:00</td>\n",
              "      <td>3</td>\n",
              "    </tr>\n",
              "    <tr>\n",
              "      <th>4</th>\n",
              "      <td>18299.5</td>\n",
              "      <td>2014.0</td>\n",
              "      <td>9.0</td>\n",
              "      <td>26.0</td>\n",
              "      <td>11.5</td>\n",
              "      <td>387.416123</td>\n",
              "      <td>18292</td>\n",
              "      <td>2014-09-26 04:00:00</td>\n",
              "      <td>4</td>\n",
              "    </tr>\n",
              "  </tbody>\n",
              "</table>\n",
              "</div>"
            ]
          },
          "metadata": {},
          "execution_count": 179
        }
      ]
    },
    {
      "cell_type": "code",
      "source": [
        "merge['Hour'] = merge['Hour_y']"
      ],
      "metadata": {
        "id": "CtDp1S33XJOr"
      },
      "execution_count": 180,
      "outputs": [],
      "id": "CtDp1S33XJOr"
    },
    {
      "cell_type": "code",
      "source": [
        "merge = merge.drop(['year', 'month', 'Datetime', 'Hour_x', 'Hour_y'], axis = 1)"
      ],
      "metadata": {
        "id": "1s9dC0CeXJOs"
      },
      "execution_count": 181,
      "outputs": [],
      "id": "1s9dC0CeXJOs"
    },
    {
      "cell_type": "code",
      "source": [
        "merge.head()"
      ],
      "metadata": {
        "colab": {
          "base_uri": "https://localhost:8080/",
          "height": 206
        },
        "outputId": "2d83c084-39ef-4f9e-f316-66e1428ead34",
        "id": "zbjd8T3MXJOs"
      },
      "execution_count": 182,
      "outputs": [
        {
          "output_type": "execute_result",
          "data": {
            "text/plain": [
              "      ID_x   day  prediction   ID_y  Hour\n",
              "0  18299.5  26.0  387.416123  18288     0\n",
              "1  18299.5  26.0  387.416123  18289     1\n",
              "2  18299.5  26.0  387.416123  18290     2\n",
              "3  18299.5  26.0  387.416123  18291     3\n",
              "4  18299.5  26.0  387.416123  18292     4"
            ],
            "text/html": [
              "<div>\n",
              "<style scoped>\n",
              "    .dataframe tbody tr th:only-of-type {\n",
              "        vertical-align: middle;\n",
              "    }\n",
              "\n",
              "    .dataframe tbody tr th {\n",
              "        vertical-align: top;\n",
              "    }\n",
              "\n",
              "    .dataframe thead th {\n",
              "        text-align: right;\n",
              "    }\n",
              "</style>\n",
              "<table border=\"1\" class=\"dataframe\">\n",
              "  <thead>\n",
              "    <tr style=\"text-align: right;\">\n",
              "      <th></th>\n",
              "      <th>ID_x</th>\n",
              "      <th>day</th>\n",
              "      <th>prediction</th>\n",
              "      <th>ID_y</th>\n",
              "      <th>Hour</th>\n",
              "    </tr>\n",
              "  </thead>\n",
              "  <tbody>\n",
              "    <tr>\n",
              "      <th>0</th>\n",
              "      <td>18299.5</td>\n",
              "      <td>26.0</td>\n",
              "      <td>387.416123</td>\n",
              "      <td>18288</td>\n",
              "      <td>0</td>\n",
              "    </tr>\n",
              "    <tr>\n",
              "      <th>1</th>\n",
              "      <td>18299.5</td>\n",
              "      <td>26.0</td>\n",
              "      <td>387.416123</td>\n",
              "      <td>18289</td>\n",
              "      <td>1</td>\n",
              "    </tr>\n",
              "    <tr>\n",
              "      <th>2</th>\n",
              "      <td>18299.5</td>\n",
              "      <td>26.0</td>\n",
              "      <td>387.416123</td>\n",
              "      <td>18290</td>\n",
              "      <td>2</td>\n",
              "    </tr>\n",
              "    <tr>\n",
              "      <th>3</th>\n",
              "      <td>18299.5</td>\n",
              "      <td>26.0</td>\n",
              "      <td>387.416123</td>\n",
              "      <td>18291</td>\n",
              "      <td>3</td>\n",
              "    </tr>\n",
              "    <tr>\n",
              "      <th>4</th>\n",
              "      <td>18299.5</td>\n",
              "      <td>26.0</td>\n",
              "      <td>387.416123</td>\n",
              "      <td>18292</td>\n",
              "      <td>4</td>\n",
              "    </tr>\n",
              "  </tbody>\n",
              "</table>\n",
              "</div>"
            ]
          },
          "metadata": {},
          "execution_count": 182
        }
      ],
      "id": "zbjd8T3MXJOs"
    },
    {
      "cell_type": "code",
      "source": [
        "# Predicting by merging merge and temp2\n",
        "\n",
        "prediction = pd.merge(merge, temp2, on = ['Hour'], how= 'left')\n",
        "prediction.head()"
      ],
      "metadata": {
        "colab": {
          "base_uri": "https://localhost:8080/",
          "height": 206
        },
        "outputId": "3716a737-7c76-4ef3-e721-7687061d1932",
        "id": "WNP9ajEvXJOs"
      },
      "execution_count": 183,
      "outputs": [
        {
          "output_type": "execute_result",
          "data": {
            "text/plain": [
              "      ID_x   day  prediction   ID_y  Hour     ratio\n",
              "0  18299.5  26.0  387.416123  18288     0  0.044287\n",
              "1  18299.5  26.0  387.416123  18289     1  0.035343\n",
              "2  18299.5  26.0  387.416123  18290     2  0.029911\n",
              "3  18299.5  26.0  387.416123  18291     3  0.024714\n",
              "4  18299.5  26.0  387.416123  18292     4  0.020802"
            ],
            "text/html": [
              "<div>\n",
              "<style scoped>\n",
              "    .dataframe tbody tr th:only-of-type {\n",
              "        vertical-align: middle;\n",
              "    }\n",
              "\n",
              "    .dataframe tbody tr th {\n",
              "        vertical-align: top;\n",
              "    }\n",
              "\n",
              "    .dataframe thead th {\n",
              "        text-align: right;\n",
              "    }\n",
              "</style>\n",
              "<table border=\"1\" class=\"dataframe\">\n",
              "  <thead>\n",
              "    <tr style=\"text-align: right;\">\n",
              "      <th></th>\n",
              "      <th>ID_x</th>\n",
              "      <th>day</th>\n",
              "      <th>prediction</th>\n",
              "      <th>ID_y</th>\n",
              "      <th>Hour</th>\n",
              "      <th>ratio</th>\n",
              "    </tr>\n",
              "  </thead>\n",
              "  <tbody>\n",
              "    <tr>\n",
              "      <th>0</th>\n",
              "      <td>18299.5</td>\n",
              "      <td>26.0</td>\n",
              "      <td>387.416123</td>\n",
              "      <td>18288</td>\n",
              "      <td>0</td>\n",
              "      <td>0.044287</td>\n",
              "    </tr>\n",
              "    <tr>\n",
              "      <th>1</th>\n",
              "      <td>18299.5</td>\n",
              "      <td>26.0</td>\n",
              "      <td>387.416123</td>\n",
              "      <td>18289</td>\n",
              "      <td>1</td>\n",
              "      <td>0.035343</td>\n",
              "    </tr>\n",
              "    <tr>\n",
              "      <th>2</th>\n",
              "      <td>18299.5</td>\n",
              "      <td>26.0</td>\n",
              "      <td>387.416123</td>\n",
              "      <td>18290</td>\n",
              "      <td>2</td>\n",
              "      <td>0.029911</td>\n",
              "    </tr>\n",
              "    <tr>\n",
              "      <th>3</th>\n",
              "      <td>18299.5</td>\n",
              "      <td>26.0</td>\n",
              "      <td>387.416123</td>\n",
              "      <td>18291</td>\n",
              "      <td>3</td>\n",
              "      <td>0.024714</td>\n",
              "    </tr>\n",
              "    <tr>\n",
              "      <th>4</th>\n",
              "      <td>18299.5</td>\n",
              "      <td>26.0</td>\n",
              "      <td>387.416123</td>\n",
              "      <td>18292</td>\n",
              "      <td>4</td>\n",
              "      <td>0.020802</td>\n",
              "    </tr>\n",
              "  </tbody>\n",
              "</table>\n",
              "</div>"
            ]
          },
          "metadata": {},
          "execution_count": 183
        }
      ],
      "id": "WNP9ajEvXJOs"
    },
    {
      "cell_type": "code",
      "source": [
        "prediction['Count'] = prediction['prediction']*prediction['ratio']*24\n",
        "prediction['ID'] = prediction['ID_y']\n",
        "prediction.head()"
      ],
      "metadata": {
        "colab": {
          "base_uri": "https://localhost:8080/",
          "height": 206
        },
        "outputId": "4beae7c9-e6db-4230-df61-7e530ab9a075",
        "id": "7DI3vrKyXJOs"
      },
      "execution_count": 184,
      "outputs": [
        {
          "output_type": "execute_result",
          "data": {
            "text/plain": [
              "      ID_x   day  prediction   ID_y  Hour     ratio       Count     ID\n",
              "0  18299.5  26.0  387.416123  18288     0  0.044287  411.776116  18288\n",
              "1  18299.5  26.0  387.416123  18289     1  0.035343  328.618883  18289\n",
              "2  18299.5  26.0  387.416123  18290     2  0.029911  278.112792  18290\n",
              "3  18299.5  26.0  387.416123  18291     3  0.024714  229.794665  18291\n",
              "4  18299.5  26.0  387.416123  18292     4  0.020802  193.418864  18292"
            ],
            "text/html": [
              "<div>\n",
              "<style scoped>\n",
              "    .dataframe tbody tr th:only-of-type {\n",
              "        vertical-align: middle;\n",
              "    }\n",
              "\n",
              "    .dataframe tbody tr th {\n",
              "        vertical-align: top;\n",
              "    }\n",
              "\n",
              "    .dataframe thead th {\n",
              "        text-align: right;\n",
              "    }\n",
              "</style>\n",
              "<table border=\"1\" class=\"dataframe\">\n",
              "  <thead>\n",
              "    <tr style=\"text-align: right;\">\n",
              "      <th></th>\n",
              "      <th>ID_x</th>\n",
              "      <th>day</th>\n",
              "      <th>prediction</th>\n",
              "      <th>ID_y</th>\n",
              "      <th>Hour</th>\n",
              "      <th>ratio</th>\n",
              "      <th>Count</th>\n",
              "      <th>ID</th>\n",
              "    </tr>\n",
              "  </thead>\n",
              "  <tbody>\n",
              "    <tr>\n",
              "      <th>0</th>\n",
              "      <td>18299.5</td>\n",
              "      <td>26.0</td>\n",
              "      <td>387.416123</td>\n",
              "      <td>18288</td>\n",
              "      <td>0</td>\n",
              "      <td>0.044287</td>\n",
              "      <td>411.776116</td>\n",
              "      <td>18288</td>\n",
              "    </tr>\n",
              "    <tr>\n",
              "      <th>1</th>\n",
              "      <td>18299.5</td>\n",
              "      <td>26.0</td>\n",
              "      <td>387.416123</td>\n",
              "      <td>18289</td>\n",
              "      <td>1</td>\n",
              "      <td>0.035343</td>\n",
              "      <td>328.618883</td>\n",
              "      <td>18289</td>\n",
              "    </tr>\n",
              "    <tr>\n",
              "      <th>2</th>\n",
              "      <td>18299.5</td>\n",
              "      <td>26.0</td>\n",
              "      <td>387.416123</td>\n",
              "      <td>18290</td>\n",
              "      <td>2</td>\n",
              "      <td>0.029911</td>\n",
              "      <td>278.112792</td>\n",
              "      <td>18290</td>\n",
              "    </tr>\n",
              "    <tr>\n",
              "      <th>3</th>\n",
              "      <td>18299.5</td>\n",
              "      <td>26.0</td>\n",
              "      <td>387.416123</td>\n",
              "      <td>18291</td>\n",
              "      <td>3</td>\n",
              "      <td>0.024714</td>\n",
              "      <td>229.794665</td>\n",
              "      <td>18291</td>\n",
              "    </tr>\n",
              "    <tr>\n",
              "      <th>4</th>\n",
              "      <td>18299.5</td>\n",
              "      <td>26.0</td>\n",
              "      <td>387.416123</td>\n",
              "      <td>18292</td>\n",
              "      <td>4</td>\n",
              "      <td>0.020802</td>\n",
              "      <td>193.418864</td>\n",
              "      <td>18292</td>\n",
              "    </tr>\n",
              "  </tbody>\n",
              "</table>\n",
              "</div>"
            ]
          },
          "metadata": {},
          "execution_count": 184
        }
      ],
      "id": "7DI3vrKyXJOs"
    },
    {
      "cell_type": "code",
      "source": [
        "submission = prediction.drop(['ID_x', 'ID_y', 'day', 'Hour', 'ratio'], axis = 1)"
      ],
      "metadata": {
        "id": "ki-MMGC0XJOt"
      },
      "execution_count": 185,
      "outputs": [],
      "id": "ki-MMGC0XJOt"
    },
    {
      "cell_type": "code",
      "source": [
        "# Exporting the predictions\n",
        "\n",
        "pd.DataFrame(submission, columns = ['ID', 'Count']).to_csv(fr'C:\\Dropbox\\GenAI\\Analytics_Vidhya\\Time_Series_Forecasting_using_Python/Holt_Winter.csv', index = False)"
      ],
      "metadata": {
        "id": "Man68UBoXJOt"
      },
      "execution_count": 186,
      "outputs": [],
      "id": "Man68UBoXJOt"
    },
    {
      "cell_type": "code",
      "source": [],
      "metadata": {
        "id": "cQI8TshsXJOt"
      },
      "execution_count": null,
      "outputs": [],
      "id": "cQI8TshsXJOt"
    }
  ],
  "metadata": {
    "kernelspec": {
      "display_name": "Python 3 (ipykernel)",
      "language": "python",
      "name": "python3"
    },
    "language_info": {
      "codemirror_mode": {
        "name": "ipython",
        "version": 3
      },
      "file_extension": ".py",
      "mimetype": "text/x-python",
      "name": "python",
      "nbconvert_exporter": "python",
      "pygments_lexer": "ipython3",
      "version": "3.10.4"
    },
    "colab": {
      "provenance": []
    }
  },
  "nbformat": 4,
  "nbformat_minor": 5
}